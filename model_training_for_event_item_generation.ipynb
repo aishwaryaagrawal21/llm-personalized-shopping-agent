{
 "cells": [
  {
   "cell_type": "code",
   "execution_count": null,
   "metadata": {
    "id": "DONOPSq2u_W4"
   },
   "outputs": [],
   "source": []
  },
  {
   "cell_type": "code",
   "execution_count": null,
   "metadata": {
    "colab": {
     "base_uri": "https://localhost:8080/"
    },
    "executionInfo": {
     "elapsed": 21928,
     "status": "ok",
     "timestamp": 1698653782920,
     "user": {
      "displayName": "Aishwarya Agrawal",
      "userId": "02157546517471328250"
     },
     "user_tz": 240
    },
    "id": "TT6cm0cYqFNB",
    "outputId": "c787555f-bd6a-4e40-a77f-544ef809b417"
   },
   "outputs": [
    {
     "name": "stdout",
     "output_type": "stream",
     "text": [
      "Mounted at /content/drive\n"
     ]
    }
   ],
   "source": [
    "from google.colab import drive\n",
    "drive.mount('/content/drive')"
   ]
  },
  {
   "cell_type": "code",
   "execution_count": null,
   "metadata": {
    "colab": {
     "base_uri": "https://localhost:8080/"
    },
    "executionInfo": {
     "elapsed": 6853,
     "status": "ok",
     "timestamp": 1698653791740,
     "user": {
      "displayName": "Aishwarya Agrawal",
      "userId": "02157546517471328250"
     },
     "user_tz": 240
    },
    "id": "tJK8JTxsqHc_",
    "outputId": "0a45800a-18df-49c8-923d-f5f17f2ec681"
   },
   "outputs": [
    {
     "name": "stdout",
     "output_type": "stream",
     "text": [
      "Requirement already satisfied: llmx in /usr/local/lib/python3.10/dist-packages (0.0.15a0)\n",
      "Requirement already satisfied: pydantic in /usr/local/lib/python3.10/dist-packages (from llmx) (1.10.13)\n",
      "Collecting openai (from llmx)\n",
      "  Downloading openai-0.28.1-py3-none-any.whl (76 kB)\n",
      "\u001b[2K     \u001b[90m━━━━━━━━━━━━━━━━━━━━━━━━━━━━━━━━━━━━━━━━\u001b[0m \u001b[32m77.0/77.0 kB\u001b[0m \u001b[31m2.7 MB/s\u001b[0m eta \u001b[36m0:00:00\u001b[0m\n",
      "\u001b[?25hCollecting tiktoken (from llmx)\n",
      "  Downloading tiktoken-0.5.1-cp310-cp310-manylinux_2_17_x86_64.manylinux2014_x86_64.whl (2.0 MB)\n",
      "\u001b[2K     \u001b[90m━━━━━━━━━━━━━━━━━━━━━━━━━━━━━━━━━━━━━━━━\u001b[0m \u001b[32m2.0/2.0 MB\u001b[0m \u001b[31m14.5 MB/s\u001b[0m eta \u001b[36m0:00:00\u001b[0m\n",
      "\u001b[?25hRequirement already satisfied: diskcache in /usr/local/lib/python3.10/dist-packages (from llmx) (5.6.3)\n",
      "Collecting cohere (from llmx)\n",
      "  Downloading cohere-4.32-py3-none-any.whl (47 kB)\n",
      "\u001b[2K     \u001b[90m━━━━━━━━━━━━━━━━━━━━━━━━━━━━━━━━━━━━━━━━\u001b[0m \u001b[32m48.0/48.0 kB\u001b[0m \u001b[31m6.9 MB/s\u001b[0m eta \u001b[36m0:00:00\u001b[0m\n",
      "\u001b[?25hRequirement already satisfied: google.auth in /usr/local/lib/python3.10/dist-packages (from llmx) (2.17.3)\n",
      "Requirement already satisfied: typer in /usr/local/lib/python3.10/dist-packages (from llmx) (0.9.0)\n",
      "Requirement already satisfied: pyyaml in /usr/local/lib/python3.10/dist-packages (from llmx) (6.0.1)\n",
      "Requirement already satisfied: aiohttp<4.0,>=3.0 in /usr/local/lib/python3.10/dist-packages (from cohere->llmx) (3.8.6)\n",
      "Collecting backoff<3.0,>=2.0 (from cohere->llmx)\n",
      "  Downloading backoff-2.2.1-py3-none-any.whl (15 kB)\n",
      "Collecting fastavro==1.8.2 (from cohere->llmx)\n",
      "  Downloading fastavro-1.8.2-cp310-cp310-manylinux_2_17_x86_64.manylinux2014_x86_64.whl (2.7 MB)\n",
      "\u001b[2K     \u001b[90m━━━━━━━━━━━━━━━━━━━━━━━━━━━━━━━━━━━━━━━━\u001b[0m \u001b[32m2.7/2.7 MB\u001b[0m \u001b[31m26.5 MB/s\u001b[0m eta \u001b[36m0:00:00\u001b[0m\n",
      "\u001b[?25hRequirement already satisfied: importlib_metadata<7.0,>=6.0 in /usr/local/lib/python3.10/dist-packages (from cohere->llmx) (6.8.0)\n",
      "Requirement already satisfied: requests<3.0.0,>=2.25.0 in /usr/local/lib/python3.10/dist-packages (from cohere->llmx) (2.31.0)\n",
      "Requirement already satisfied: urllib3<3,>=1.26 in /usr/local/lib/python3.10/dist-packages (from cohere->llmx) (2.0.7)\n",
      "Requirement already satisfied: cachetools<6.0,>=2.0.0 in /usr/local/lib/python3.10/dist-packages (from google.auth->llmx) (5.3.2)\n",
      "Requirement already satisfied: pyasn1-modules>=0.2.1 in /usr/local/lib/python3.10/dist-packages (from google.auth->llmx) (0.3.0)\n",
      "Requirement already satisfied: six>=1.9.0 in /usr/local/lib/python3.10/dist-packages (from google.auth->llmx) (1.16.0)\n",
      "Requirement already satisfied: rsa<5,>=3.1.4 in /usr/local/lib/python3.10/dist-packages (from google.auth->llmx) (4.9)\n",
      "Requirement already satisfied: tqdm in /usr/local/lib/python3.10/dist-packages (from openai->llmx) (4.66.1)\n",
      "Requirement already satisfied: typing-extensions>=4.2.0 in /usr/local/lib/python3.10/dist-packages (from pydantic->llmx) (4.5.0)\n",
      "Requirement already satisfied: regex>=2022.1.18 in /usr/local/lib/python3.10/dist-packages (from tiktoken->llmx) (2023.6.3)\n",
      "Requirement already satisfied: click<9.0.0,>=7.1.1 in /usr/local/lib/python3.10/dist-packages (from typer->llmx) (8.1.7)\n",
      "Requirement already satisfied: attrs>=17.3.0 in /usr/local/lib/python3.10/dist-packages (from aiohttp<4.0,>=3.0->cohere->llmx) (23.1.0)\n",
      "Requirement already satisfied: charset-normalizer<4.0,>=2.0 in /usr/local/lib/python3.10/dist-packages (from aiohttp<4.0,>=3.0->cohere->llmx) (3.3.1)\n",
      "Requirement already satisfied: multidict<7.0,>=4.5 in /usr/local/lib/python3.10/dist-packages (from aiohttp<4.0,>=3.0->cohere->llmx) (6.0.4)\n",
      "Requirement already satisfied: async-timeout<5.0,>=4.0.0a3 in /usr/local/lib/python3.10/dist-packages (from aiohttp<4.0,>=3.0->cohere->llmx) (4.0.3)\n",
      "Requirement already satisfied: yarl<2.0,>=1.0 in /usr/local/lib/python3.10/dist-packages (from aiohttp<4.0,>=3.0->cohere->llmx) (1.9.2)\n",
      "Requirement already satisfied: frozenlist>=1.1.1 in /usr/local/lib/python3.10/dist-packages (from aiohttp<4.0,>=3.0->cohere->llmx) (1.4.0)\n",
      "Requirement already satisfied: aiosignal>=1.1.2 in /usr/local/lib/python3.10/dist-packages (from aiohttp<4.0,>=3.0->cohere->llmx) (1.3.1)\n",
      "Requirement already satisfied: zipp>=0.5 in /usr/local/lib/python3.10/dist-packages (from importlib_metadata<7.0,>=6.0->cohere->llmx) (3.17.0)\n",
      "Requirement already satisfied: pyasn1<0.6.0,>=0.4.6 in /usr/local/lib/python3.10/dist-packages (from pyasn1-modules>=0.2.1->google.auth->llmx) (0.5.0)\n",
      "Requirement already satisfied: idna<4,>=2.5 in /usr/local/lib/python3.10/dist-packages (from requests<3.0.0,>=2.25.0->cohere->llmx) (3.4)\n",
      "Requirement already satisfied: certifi>=2017.4.17 in /usr/local/lib/python3.10/dist-packages (from requests<3.0.0,>=2.25.0->cohere->llmx) (2023.7.22)\n",
      "Installing collected packages: fastavro, backoff, tiktoken, openai, cohere\n",
      "Successfully installed backoff-2.2.1 cohere-4.32 fastavro-1.8.2 openai-0.28.1 tiktoken-0.5.1\n"
     ]
    }
   ],
   "source": [
    "!pip install llmx"
   ]
  },
  {
   "cell_type": "code",
   "execution_count": null,
   "metadata": {
    "colab": {
     "base_uri": "https://localhost:8080/"
    },
    "executionInfo": {
     "elapsed": 4220,
     "status": "ok",
     "timestamp": 1698653795956,
     "user": {
      "displayName": "Aishwarya Agrawal",
      "userId": "02157546517471328250"
     },
     "user_tz": 240
    },
    "id": "53DXkqf6qSQT",
    "outputId": "2897842f-0caf-4bc2-ca06-b019557625e1"
   },
   "outputs": [
    {
     "name": "stdout",
     "output_type": "stream",
     "text": [
      "Requirement already satisfied: cohere in /usr/local/lib/python3.10/dist-packages (4.32)\n",
      "Requirement already satisfied: aiohttp<4.0,>=3.0 in /usr/local/lib/python3.10/dist-packages (from cohere) (3.8.6)\n",
      "Requirement already satisfied: backoff<3.0,>=2.0 in /usr/local/lib/python3.10/dist-packages (from cohere) (2.2.1)\n",
      "Requirement already satisfied: fastavro==1.8.2 in /usr/local/lib/python3.10/dist-packages (from cohere) (1.8.2)\n",
      "Requirement already satisfied: importlib_metadata<7.0,>=6.0 in /usr/local/lib/python3.10/dist-packages (from cohere) (6.8.0)\n",
      "Requirement already satisfied: requests<3.0.0,>=2.25.0 in /usr/local/lib/python3.10/dist-packages (from cohere) (2.31.0)\n",
      "Requirement already satisfied: urllib3<3,>=1.26 in /usr/local/lib/python3.10/dist-packages (from cohere) (2.0.7)\n",
      "Requirement already satisfied: attrs>=17.3.0 in /usr/local/lib/python3.10/dist-packages (from aiohttp<4.0,>=3.0->cohere) (23.1.0)\n",
      "Requirement already satisfied: charset-normalizer<4.0,>=2.0 in /usr/local/lib/python3.10/dist-packages (from aiohttp<4.0,>=3.0->cohere) (3.3.1)\n",
      "Requirement already satisfied: multidict<7.0,>=4.5 in /usr/local/lib/python3.10/dist-packages (from aiohttp<4.0,>=3.0->cohere) (6.0.4)\n",
      "Requirement already satisfied: async-timeout<5.0,>=4.0.0a3 in /usr/local/lib/python3.10/dist-packages (from aiohttp<4.0,>=3.0->cohere) (4.0.3)\n",
      "Requirement already satisfied: yarl<2.0,>=1.0 in /usr/local/lib/python3.10/dist-packages (from aiohttp<4.0,>=3.0->cohere) (1.9.2)\n",
      "Requirement already satisfied: frozenlist>=1.1.1 in /usr/local/lib/python3.10/dist-packages (from aiohttp<4.0,>=3.0->cohere) (1.4.0)\n",
      "Requirement already satisfied: aiosignal>=1.1.2 in /usr/local/lib/python3.10/dist-packages (from aiohttp<4.0,>=3.0->cohere) (1.3.1)\n",
      "Requirement already satisfied: zipp>=0.5 in /usr/local/lib/python3.10/dist-packages (from importlib_metadata<7.0,>=6.0->cohere) (3.17.0)\n",
      "Requirement already satisfied: idna<4,>=2.5 in /usr/local/lib/python3.10/dist-packages (from requests<3.0.0,>=2.25.0->cohere) (3.4)\n",
      "Requirement already satisfied: certifi>=2017.4.17 in /usr/local/lib/python3.10/dist-packages (from requests<3.0.0,>=2.25.0->cohere) (2023.7.22)\n"
     ]
    }
   ],
   "source": [
    "!pip install cohere\n"
   ]
  },
  {
   "cell_type": "code",
   "execution_count": null,
   "metadata": {
    "colab": {
     "base_uri": "https://localhost:8080/"
    },
    "executionInfo": {
     "elapsed": 16816,
     "status": "ok",
     "timestamp": 1698653812770,
     "user": {
      "displayName": "Aishwarya Agrawal",
      "userId": "02157546517471328250"
     },
     "user_tz": 240
    },
    "id": "lwkgi3AlqUjF",
    "outputId": "491b4f34-8c6c-43e4-d15a-9c586445ce10"
   },
   "outputs": [
    {
     "name": "stdout",
     "output_type": "stream",
     "text": [
      "\u001b[?25l     \u001b[90m━━━━━━━━━━━━━━━━━━━━━━━━━━━━━━━━━━━━━━━━\u001b[0m \u001b[32m0.0/244.2 kB\u001b[0m \u001b[31m?\u001b[0m eta \u001b[36m-:--:--\u001b[0m\r\u001b[2K     \u001b[91m━━━━━━━━━━━━━━━━━━━━━━━━━━━━━━━\u001b[0m\u001b[91m╸\u001b[0m\u001b[90m━━━━━━━━\u001b[0m \u001b[32m194.6/244.2 kB\u001b[0m \u001b[31m5.6 MB/s\u001b[0m eta \u001b[36m0:00:01\u001b[0m\r\u001b[2K     \u001b[90m━━━━━━━━━━━━━━━━━━━━━━━━━━━━━━━━━━━━━━━━\u001b[0m \u001b[32m244.2/244.2 kB\u001b[0m \u001b[31m5.0 MB/s\u001b[0m eta \u001b[36m0:00:00\u001b[0m\n",
      "\u001b[2K     \u001b[90m━━━━━━━━━━━━━━━━━━━━━━━━━━━━━━━━━━━━━━━━\u001b[0m \u001b[32m72.9/72.9 kB\u001b[0m \u001b[31m7.5 MB/s\u001b[0m eta \u001b[36m0:00:00\u001b[0m\n",
      "\u001b[2K     \u001b[90m━━━━━━━━━━━━━━━━━━━━━━━━━━━━━━━━━━━━━━━━\u001b[0m \u001b[32m92.5/92.5 MB\u001b[0m \u001b[31m19.4 MB/s\u001b[0m eta \u001b[36m0:00:00\u001b[0m\n",
      "\u001b[2K     \u001b[90m━━━━━━━━━━━━━━━━━━━━━━━━━━━━━━━━━━━━━━━━\u001b[0m \u001b[32m7.4/7.4 MB\u001b[0m \u001b[31m95.1 MB/s\u001b[0m eta \u001b[36m0:00:00\u001b[0m\n",
      "\u001b[2K     \u001b[90m━━━━━━━━━━━━━━━━━━━━━━━━━━━━━━━━━━━━━━━━\u001b[0m \u001b[32m77.4/77.4 kB\u001b[0m \u001b[31m9.8 MB/s\u001b[0m eta \u001b[36m0:00:00\u001b[0m\n",
      "\u001b[2K     \u001b[90m━━━━━━━━━━━━━━━━━━━━━━━━━━━━━━━━━━━━━━━━\u001b[0m \u001b[32m1.3/1.3 MB\u001b[0m \u001b[31m80.3 MB/s\u001b[0m eta \u001b[36m0:00:00\u001b[0m\n",
      "\u001b[2K     \u001b[90m━━━━━━━━━━━━━━━━━━━━━━━━━━━━━━━━━━━━━━━━\u001b[0m \u001b[32m302.0/302.0 kB\u001b[0m \u001b[31m27.8 MB/s\u001b[0m eta \u001b[36m0:00:00\u001b[0m\n",
      "\u001b[2K     \u001b[90m━━━━━━━━━━━━━━━━━━━━━━━━━━━━━━━━━━━━━━━━\u001b[0m \u001b[32m7.8/7.8 MB\u001b[0m \u001b[31m96.6 MB/s\u001b[0m eta \u001b[36m0:00:00\u001b[0m\n",
      "\u001b[2K     \u001b[90m━━━━━━━━━━━━━━━━━━━━━━━━━━━━━━━━━━━━━━━━\u001b[0m \u001b[32m493.7/493.7 kB\u001b[0m \u001b[31m46.3 MB/s\u001b[0m eta \u001b[36m0:00:00\u001b[0m\n",
      "\u001b[2K     \u001b[90m━━━━━━━━━━━━━━━━━━━━━━━━━━━━━━━━━━━━━━━━\u001b[0m \u001b[32m115.3/115.3 kB\u001b[0m \u001b[31m13.1 MB/s\u001b[0m eta \u001b[36m0:00:00\u001b[0m\n",
      "\u001b[2K     \u001b[90m━━━━━━━━━━━━━━━━━━━━━━━━━━━━━━━━━━━━━━━━\u001b[0m \u001b[32m134.8/134.8 kB\u001b[0m \u001b[31m17.1 MB/s\u001b[0m eta \u001b[36m0:00:00\u001b[0m\n",
      "\u001b[?25h"
     ]
    }
   ],
   "source": [
    "!pip install -q accelerate==0.21.0 peft==0.4.0 bitsandbytes==0.40.2 transformers==4.31.0 trl==0.4.7 openai\n"
   ]
  },
  {
   "cell_type": "code",
   "execution_count": null,
   "metadata": {
    "id": "wfFy9-YtqXL8"
   },
   "outputs": [],
   "source": [
    "import os\n",
    "import openai\n",
    "import random\n",
    "import torch\n",
    "from datasets import load_dataset\n",
    "from transformers import (\n",
    "    AutoModelForCausalLM,\n",
    "    AutoTokenizer,\n",
    "    BitsAndBytesConfig,\n",
    "    HfArgumentParser,\n",
    "    TrainingArguments,\n",
    "    pipeline,\n",
    "    logging,\n",
    ")\n",
    "from peft import LoraConfig, PeftModel\n",
    "from trl import SFTTrainer\n",
    "from transformers import pipeline\n"
   ]
  },
  {
   "cell_type": "code",
   "execution_count": null,
   "metadata": {
    "id": "5a7fuTjoqdxF"
   },
   "outputs": [],
   "source": [
    "openai.api_key = \"OPENAI_API_KEY\"\n"
   ]
  },
  {
   "cell_type": "code",
   "execution_count": null,
   "metadata": {
    "id": "55xs4LMAqlV7"
   },
   "outputs": [],
   "source": [
    "\n",
    "prompt = \"A model that takes take an event name and can generate the food items suggestions for that event, either readymade or recipes. Dont generate the food description, just generate the list of items.\"\n",
    "temperature = .4\n",
    "number_of_examples = 20"
   ]
  },
  {
   "cell_type": "code",
   "execution_count": null,
   "metadata": {
    "colab": {
     "base_uri": "https://localhost:8080/"
    },
    "executionInfo": {
     "elapsed": 1306826,
     "status": "ok",
     "timestamp": 1698651488023,
     "user": {
      "displayName": "Aishwarya Agrawal",
      "userId": "02157546517471328250"
     },
     "user_tz": 240
    },
    "id": "kj6g-Ix4qnCw",
    "outputId": "2837d385-68f9-48f8-a540-c3357f3e3b32"
   },
   "outputs": [
    {
     "name": "stdout",
     "output_type": "stream",
     "text": [
      "Generating example 0\n",
      "Generating example 1\n",
      "Generating example 2\n",
      "Generating example 3\n",
      "Generating example 4\n",
      "Generating example 5\n",
      "Generating example 6\n",
      "Generating example 7\n",
      "Generating example 8\n",
      "Generating example 9\n",
      "Generating example 10\n",
      "Generating example 11\n",
      "Generating example 12\n",
      "Generating example 13\n",
      "Generating example 14\n",
      "Generating example 15\n",
      "Generating example 16\n",
      "Generating example 17\n",
      "Generating example 18\n",
      "Generating example 19\n",
      "[\"prompt\\n-----------\\nSuggest some food items for a children's birthday party.\\n-----------\\nresponse\\n-----------\\n1. Mini Pizzas\\n2. Chicken Nuggets\\n3. Chocolate Cupcakes\\n4. Fruit Skewers\\n5. Jelly\\n6. Cheese Sandwiches\\n7. Popcorn\\n8. Ice Cream Sundae\\n9. Candy Floss\\n10. Vegetable Sticks with Hummus\\n-----------\\nprompt\\n-----------\\nWhat food items would be suitable for a vegan potluck?\\n-----------\\nresponse\\n-----------\\n1. Vegan Lasagna\\n2. Quinoa Salad\\n3. Vegan Sushi Rolls\\n4. Chickpea Curry\\n5. Vegan Tacos\\n6. Lentil Soup\\n7. Vegan Chocolate Cake\\n8. Stuffed Bell Peppers\\n9. Vegan Pizza\\n10. Vegan Cookies\\n-----------\\nprompt\\n-----------\\nWhat food items should I prepare for a Christmas dinner?\\n-----------\\nresponse\\n-----------\\n1. Roast Turkey\\n2. Mashed Potatoes\\n3. Green Bean Casserole\\n4. Christmas Pudding\\n5. Roasted Brussels Sprouts\\n6. Cranberry Sauce\\n7. Gingerbread Cookies\\n8. Mulled Wine\\n9. Baked Ham\\n10. Eggnog\\n-----------\\nprompt\\n-----------\\nSuggest some food items for a summer beach picnic.\\n-----------\\nresponse\\n-----------\\n1. Sandwiches\\n2. Fresh Fruits\\n3. Pasta Salad\\n4. Grilled Chicken Skewers\\n5. Vegetable Crudites with Dip\\n6. Lemonade\\n7. Ice Cream\\n8. Watermelon Slices\\n9. Cold Pasta Salad\\n10. BBQ Ribs\\n-----------\\nprompt\\n-----------\\nWhat food items would be suitable for a Halloween party?\\n-----------\\nresponse\\n-----------\\n1. Pumpkin Soup\\n2. Ghost-shaped Cookies\\n3. Candy Corn\\n4. Spider Web Cupcakes\\n5. Witch Finger Pretzels\\n6. Mummy Hot Dogs\\n7. Pumpkin Pie\\n8. Apple Cider\\n9. Monster Popcorn Balls\\n10. Jack-o'-lantern Fruit Bowl\\n-----------\", \"prompt\\n-----------\\nWhat food items should I prepare for a traditional Thanksgiving dinner?\\n-----------\\nresponse\\n-----------\\n1. Roasted Turkey\\n2. Stuffing\\n3. Mashed Potatoes\\n4. Gravy\\n5. Green Bean Casserole\\n6. Cranberry Sauce\\n7. Candied Yams\\n8. Pumpkin Pie\\n9. Pecan Pie\\n10. Cornbread\\n-----------\\nprompt\\n-----------\\nSuggest some food items for a romantic Valentine's Day dinner.\\n-----------\\nresponse\\n-----------\\n1. Lobster Bisque\\n2. Beef Wellington\\n3. Garlic Butter Shrimp Pasta\\n4. Caesar Salad\\n5. Chocolate Covered Strawberries\\n6. Red Velvet Cake\\n7. Champagne\\n8. Oysters\\n9. Chocolate Fondue\\n10. Raspberry Sorbet\\n-----------\\nprompt\\n-----------\\nWhat food items would be suitable for a Super Bowl party?\\n-----------\\nresponse\\n-----------\\n1. Chicken Wings\\n2. Nachos with Cheese\\n3. Pizza\\n4. Chili\\n5. Hot Dogs\\n6. Guacamole and Chips\\n7. BBQ Ribs\\n8. Sliders\\n9. Beer\\n10. Brownies\\n-----------\\nprompt\\n-----------\\nSuggest some food items for a New Year's Eve party.\\n-----------\\nresponse\\n-----------\\n1. Shrimp Cocktail\\n2. Mini Quiches\\n3. Cheese and Crackers\\n4. Stuffed Mushrooms\\n5. Champagne\\n6. Chocolate Fondue\\n7. Mini Beef Wellingtons\\n8. Smoked Salmon Canapés\\n9. Prosecco Jelly\\n10. Truffle Mac and Cheese Bites\\n-----------\\nprompt\\n-----------\\nWhat food items should I prepare for a traditional Easter brunch?\\n-----------\\nresponse\\n-----------\\n1. Deviled Eggs\\n2. Hot Cross Buns\\n3. Quiche Lorraine\\n4. Roast Lamb\\n5. Asparagus Salad\\n6. Carrot Cake\\n7. Mimosa\\n8. Pancakes with Maple Syrup\\n9. Smoked Salmon Bagels\\n10. Chocolate Easter Eggs\\n-----------\", 'prompt\\n-----------\\nSuggest some food items for a Diwali party.\\n-----------\\nresponse\\n-----------\\n1. Samosas\\n2. Butter Chicken\\n3. Paneer Tikka\\n4. Biryani\\n5. Gulab Jamun\\n6. Jalebi\\n7. Chole Bhature\\n8. Masala Chai\\n9. Kaju Katli\\n10. Pani Puri\\n-----------\\nprompt\\n-----------\\nWhat food items would be suitable for a Hanukkah celebration?\\n-----------\\nresponse\\n-----------\\n1. Latkes (Potato Pancakes)\\n2. Sufganiyot (Jelly Donuts)\\n3. Brisket\\n4. Matzo Ball Soup\\n5. Challah Bread\\n6. Rugelach\\n7. Kugel\\n8. Chicken Schnitzel\\n9. Gefilte Fish\\n10. Hanukkah Gelt (Chocolate Coins)\\n-----------\\nprompt\\n-----------\\nWhat food items should I prepare for a traditional Chinese New Year celebration?\\n-----------\\nresponse\\n-----------\\n1. Dumplings\\n2. Spring Rolls\\n3. Steamed Fish\\n4. Longevity Noodles\\n5. Tangyuan (Sweet Rice Balls)\\n6. Chinese New Year Cake (Nian Gao)\\n7. Stir-Fried Shrimp\\n8. Peking Duck\\n9. Hot Pot\\n10. Fortune Cookies\\n-----------\\nprompt\\n-----------\\nSuggest some food items for a Cinco de Mayo party.\\n-----------\\nresponse\\n-----------\\n1. Tacos\\n2. Chiles Rellenos\\n3. Churros\\n4. Enchiladas\\n5. Guacamole and Chips\\n6. Margaritas\\n7. Mexican Rice\\n8. Salsa Verde\\n9. Carnitas\\n10. Mexican Flan\\n-----------\\nprompt\\n-----------\\nWhat food items would be suitable for a Fourth of July BBQ?\\n-----------\\nresponse\\n-----------\\n1. Grilled Burgers\\n2. Hot Dogs\\n3. BBQ Ribs\\n4. Coleslaw\\n5. Grilled Corn on the Cob\\n6. Baked Beans\\n7. Potato Salad\\n8. Watermelon Slices\\n9. Apple Pie\\n10. Lemonade\\n-----------', \"prompt\\n-----------\\nSuggest some food items for a St. Patrick's Day party.\\n-----------\\nresponse\\n-----------\\n1. Corned Beef and Cabbage\\n2. Irish Soda Bread\\n3. Shepherd's Pie\\n4. Irish Stew\\n5. Colcannon (Mashed Potatoes and Cabbage)\\n6. Guinness Chocolate Cake\\n7. Boxty (Irish Potato Pancakes)\\n8. Irish Coffee\\n9. Green Beer\\n10. Irish Cream Cheesecake\\n-----------\\nprompt\\n-----------\\nWhat food items would be suitable for a Mardi Gras party?\\n-----------\\nresponse\\n-----------\\n1. Jambalaya\\n2. Gumbo\\n3. Beignets\\n4. Crawfish Étouffée\\n5. King Cake\\n6. Po' Boy Sandwiches\\n7. Red Beans and Rice\\n8. Shrimp and Grits\\n9. Pralines\\n10. Hurricanes (Cocktail)\\n-----------\\nprompt\\n-----------\\nWhat food items should I prepare for a traditional Greek Easter celebration?\\n-----------\\nresponse\\n-----------\\n1. Roast Lamb\\n2. Tsoureki (Easter Bread)\\n3. Spanakopita (Spinach Pie)\\n4. Tzatziki\\n5. Greek Salad\\n6. Baklava\\n7. Dolmades (Stuffed Vine Leaves)\\n8. Moussaka\\n9. Greek Easter Cookies (Koulourakia)\\n10. Greek Wine\\n-----------\\nprompt\\n-----------\\nSuggest some food items for an Oktoberfest party.\\n-----------\\nresponse\\n-----------\\n1. Bratwurst\\n2. Pretzels\\n3. Sauerkraut\\n4. Pork Knuckles\\n5. German Potato Salad\\n6. Sauerbraten (Pot Roast)\\n7. Beer Cheese Dip\\n8. Apple Strudel\\n9. Black Forest Cake\\n10. German Beers\\n-----------\\nprompt\\n-----------\\nWhat food items would be suitable for a traditional Japanese Tea Ceremony?\\n-----------\\nresponse\\n-----------\\n1. Matcha (Green Tea)\\n2. Wagashi (Japanese Sweets)\\n3. Mochi\\n4. Dango (Japanese Dumplings)\\n5. Anmitsu (Jelly Dessert)\\n6. Sakura Mochi (Cherry Blossom Mochi)\\n7. Yokan (Red Bean Jelly)\\n8. Dorayaki (Red Bean Pancake)\\n9. Manju (Steamed Cake)\\n10. Castella (Japanese Sponge Cake)\\n-----------\", 'prompt\\n-----------\\nSuggest some food items for a Ramadan Iftar meal.\\n-----------\\nresponse\\n-----------\\n1. Dates\\n2. Lentil Soup\\n3. Samosas\\n4. Chicken Biryani\\n5. Beef Kebabs\\n6. Falafel\\n7. Hummus and Pita Bread\\n8. Tabbouleh Salad\\n9. Baklava\\n10. Mint Tea\\n-----------\\nprompt\\n-----------\\nWhat food items would be suitable for a Passover Seder?\\n-----------\\nresponse\\n-----------\\n1. Matzo Ball Soup\\n2. Gefilte Fish\\n3. Charoset\\n4. Brisket\\n5. Roasted Chicken\\n6. Potato Kugel\\n7. Matzo Brei\\n8. Flourless Chocolate Cake\\n9. Macaroons\\n10. Kosher Wine\\n-----------\\nprompt\\n-----------\\nWhat food items should I prepare for a traditional Korean Chuseok celebration?\\n-----------\\nresponse\\n-----------\\n1. Songpyeon (Rice Cakes)\\n2. Japchae (Stir-Fried Noodles)\\n3. Bulgogi (Marinated Beef)\\n4. Galbi (Grilled Ribs)\\n5. Kimchi\\n6. Hotteok (Sweet Pancakes)\\n7. Bibimbap (Mixed Rice)\\n8. Makgeolli (Rice Wine)\\n9. Hangwa (Traditional Cookies)\\n10. Sujeonggwa (Cinnamon Punch)\\n-----------\\nprompt\\n-----------\\nSuggest some food items for a Brazilian Carnival party.\\n-----------\\nresponse\\n-----------\\n1. Feijoada (Black Bean Stew)\\n2. Coxinha (Chicken Croquettes)\\n3. Pão de Queijo (Cheese Bread)\\n4. Acarajé (Fried Ball of Dough)\\n5. Brigadeiros (Chocolate Truffles)\\n6. Caipirinha (Cocktail)\\n7. Moqueca (Fish Stew)\\n8. Pastel (Fried Pastry)\\n9. Açaí Bowl\\n10. Empada (Small Pie)\\n-----------\\nprompt\\n-----------\\nWhat food items would be suitable for a traditional Italian Christmas Eve Feast of the Seven Fishes?\\n-----------\\nresponse\\n-----------\\n1. Baccalà (Salted Cod)\\n2. Calamari\\n3. Shrimp Scampi\\n4. Linguine with Clams\\n5. Grilled Octopus\\n6. Seafood Risotto\\n7. Tuna Carpaccio\\n8. Oysters\\n9. Seafood Antipasto\\n10. Cannoli\\n-----------', 'prompt\\n-----------\\nSuggest some food items for a traditional French Christmas dinner.\\n-----------\\nresponse\\n-----------\\n1. Foie Gras\\n2. Oysters\\n3. Escargot\\n4. Roast Goose\\n5. Gratin Dauphinois (Potato Gratin)\\n6. Bûche de Noël (Yule Log Cake)\\n7. Coquilles Saint-Jacques (Scallops)\\n8. Cheese Board\\n9. Mulled Wine\\n10. Chocolate Truffles\\n-----------\\nprompt\\n-----------\\nWhat food items would be suitable for a traditional Australian Christmas lunch?\\n-----------\\nresponse\\n-----------\\n1. Prawns\\n2. Roast Turkey\\n3. Ham\\n4. Pavlova\\n5. Christmas Pudding\\n6. BBQ Sausages\\n7. Potato Salad\\n8. Mince Pies\\n9. Grilled Lobster\\n10. Lamingtons\\n-----------\\nprompt\\n-----------\\nWhat food items should I prepare for a traditional Spanish tapas party?\\n-----------\\nresponse\\n-----------\\n1. Patatas Bravas (Spicy Potatoes)\\n2. Gambas al Ajillo (Garlic Shrimp)\\n3. Tortilla Española (Spanish Omelette)\\n4. Albondigas (Meatballs)\\n5. Chorizo in Red Wine\\n6. Pimientos de Padrón (Padrón Peppers)\\n7. Jamón Ibérico (Iberian Ham)\\n8. Manchego Cheese\\n9. Pulpo a la Gallega (Galician Octopus)\\n10. Sangria\\n-----------\\nprompt\\n-----------\\nSuggest some food items for a traditional English afternoon tea.\\n-----------\\nresponse\\n-----------\\n1. Finger Sandwiches\\n2. Scones with Clotted Cream and Jam\\n3. Victoria Sponge Cake\\n4. Lemon Drizzle Cake\\n5. Macarons\\n6. Shortbread Cookies\\n7. Eclairs\\n8. Quiche\\n9. Tea (Earl Grey, English Breakfast)\\n10. Champagne\\n-----------\\nprompt\\n-----------\\nWhat food items would be suitable for a traditional Moroccan Iftar meal during Ramadan?\\n-----------\\nresponse\\n-----------\\n1. Harira (Tomato and Lentil Soup)\\n2. Dates\\n3. Chebakia (Sesame Cookies)\\n4. Msemen (Moroccan Pancakes)\\n5. Tagine (Stew)\\n6. Couscous\\n7. Zaalouk (Eggplant and Tomato Salad)\\n8. Mint Tea\\n9. Briouats (Stuffed Pastries)\\n10. Figs and Almonds\\n-----------', 'prompt\\n-----------\\nSuggest some food items for a traditional Russian Easter celebration.\\n-----------\\nresponse\\n-----------\\n1. Paskha (Cheese Dessert)\\n2. Kulich (Easter Bread)\\n3. Blini (Russian Pancakes)\\n4. Shashlik (Kebabs)\\n5. Olivier Salad\\n6. Borscht (Beet Soup)\\n7. Deviled Eggs\\n8. Pickled Herring\\n9. Vareniki (Dumplings)\\n10. Medovik (Honey Cake)\\n-----------\\nprompt\\n-----------\\nWhat food items would be suitable for a traditional American Thanksgiving dinner?\\n-----------\\nresponse\\n-----------\\n1. Roasted Turkey\\n2. Stuffing\\n3. Mashed Potatoes\\n4. Green Bean Casserole\\n5. Cranberry Sauce\\n6. Pumpkin Pie\\n7. Sweet Potato Casserole\\n8. Pecan Pie\\n9. Cornbread\\n10. Gravy\\n-----------\\nprompt\\n-----------\\nWhat food items should I prepare for a traditional Canadian Thanksgiving dinner?\\n-----------\\nresponse\\n-----------\\n1. Roasted Turkey\\n2. Stuffing\\n3. Mashed Potatoes\\n4. Cranberry Sauce\\n5. Pumpkin Pie\\n6. Green Bean Casserole\\n7. Sweet Potato Casserole\\n8. Gravy\\n9. Corn on the Cob\\n10. Apple Pie\\n-----------\\nprompt\\n-----------\\nSuggest some food items for a traditional German Christmas dinner.\\n-----------\\nresponse\\n-----------\\n1. Sauerbraten (Pot Roast)\\n2. Kartoffelklöße (Potato Dumplings)\\n3. Rotkohl (Red Cabbage)\\n4. Lebkuchen (Gingerbread Cookies)\\n5. Stollen (Fruit Bread)\\n6. Glühwein (Mulled Wine)\\n7. Bratwurst (Sausages)\\n8. Pretzels\\n9. Marzipan\\n10. Weisswurst (White Sausage)\\n-----------\\nprompt\\n-----------\\nWhat food items would be suitable for a traditional Jewish Shabbat dinner?\\n-----------\\nresponse\\n-----------\\n1. Challah Bread\\n2. Matzo Ball Soup\\n3. Roasted Chicken\\n4. Brisket\\n5. Kugel (Noodle or Potato Casserole)\\n6. Tzimmes (Sweet Stew)\\n7. Gefilte Fish\\n8. Hamentashen (Filled Cookies)\\n9. Rugelach (Pastry)\\n10. Kosher Wine\\n-----------', 'prompt\\n-----------\\nSuggest some food items for a traditional Mexican Day of the Dead celebration.\\n-----------\\nresponse\\n-----------\\n1. Pan de Muerto (Bread of the Dead)\\n2. Tamales\\n3. Sugar Skulls\\n4. Atole (Warm Corn Drink)\\n5. Mole Poblano\\n6. Chiles en Nogada\\n7. Pozole (Hominy Soup)\\n8. Calabaza en Tacha (Candied Pumpkin)\\n9. Churros\\n10. Mexican Hot Chocolate\\n-----------\\nprompt\\n-----------\\nWhat food items would be suitable for a traditional Indian Diwali celebration?\\n-----------\\nresponse\\n-----------\\n1. Samosas\\n2. Jalebi\\n3. Gulab Jamun\\n4. Chole Bhature\\n5. Paneer Tikka\\n6. Biryani\\n7. Kaju Katli\\n8. Pani Puri\\n9. Masala Chai\\n10. Laddu\\n-----------\\nprompt\\n-----------\\nWhat food items should I prepare for a traditional Chinese Mid-Autumn Festival celebration?\\n-----------\\nresponse\\n-----------\\n1. Mooncakes\\n2. Pomelo\\n3. Duck\\n4. Taro\\n5. Osmanthus Jelly\\n6. Hairy Crab\\n7. Lotus Root\\n8. Sweet Potato\\n9. Chinese Wine\\n10. Sesame Balls\\n-----------\\nprompt\\n-----------\\nSuggest some food items for a traditional Ethiopian Christmas celebration.\\n-----------\\nresponse\\n-----------\\n1. Doro Wat (Spicy Chicken Stew)\\n2. Injera (Sourdough Flatbread)\\n3. Kitfo (Minced Meat Dish)\\n4. Tibs (Grilled Meat)\\n5. Shiro (Chickpea Stew)\\n6. Tej (Honey Wine)\\n7. Berbere Spice\\n8. Yebeg Alicha (Lamb Curry)\\n9. Fitfit (Shredded Bread Salad)\\n10. Coffee\\n-----------\\nprompt\\n-----------\\nWhat food items would be suitable for a traditional Swedish Midsummer celebration?\\n-----------\\nresponse\\n-----------\\n1. Pickled Herring\\n2. Gravlax (Cured Salmon)\\n3. New Potatoes with Dill\\n4. Meatballs\\n5. Strawberry Cake\\n6. Rye Bread\\n7. Smörgåstårta (Sandwich Cake)\\n8. Prinskorv (Small Sausages)\\n9. Snaps (Aquavit)\\n10. Janssons Frestelse (Potato and Anchovy Casserole)\\n-----------', \"prompt\\n-----------\\nSuggest some food items for a traditional Hawaiian Luau party.\\n-----------\\nresponse\\n-----------\\n1. Kalua Pig\\n2. Poi\\n3. Lomi Lomi Salmon\\n4. Chicken Long Rice\\n5. Haupia (Coconut Pudding)\\n6. Lau Lau (Pork Wrapped in Taro Leaves)\\n7. Poke\\n8. Huli Huli Chicken\\n9. Mai Tai (Cocktail)\\n10. Pineapple Upside Down Cake\\n-----------\\nprompt\\n-----------\\nWhat food items would be suitable for a traditional Persian New Year (Nowruz) celebration?\\n-----------\\nresponse\\n-----------\\n1. Sabzi Polo (Herb Rice with Fish)\\n2. Ash Reshteh (Noodle and Bean Soup)\\n3. Kuku Sabzi (Herb Frittata)\\n4. Dolmeh (Stuffed Grape Leaves)\\n5. Samanu (Sweet Pudding)\\n6. Fesenjan (Pomegranate Walnut Stew)\\n7. Ghormeh Sabzi (Herb Stew)\\n8. Baklava\\n9. Sholeh Zard (Saffron Rice Pudding)\\n10. Persian Tea\\n-----------\\nprompt\\n-----------\\nWhat food items should I prepare for a traditional Japanese New Year (Oshogatsu) celebration?\\n-----------\\nresponse\\n-----------\\n1. Osechi Ryori (Traditional New Year's Foods)\\n2. Mochi (Rice Cakes)\\n3. Soba Noodles\\n4. Ozoni (Mochi Soup)\\n5. Toshikoshi Soba (Year-End Noodles)\\n6. Namasu (Pickled Vegetables)\\n7. Kuri Kinton (Sweet Potatoes with Chestnuts)\\n8. Tai (Sea Bream)\\n9. Ebi (Prawns)\\n10. Sake\\n-----------\\nprompt\\n-----------\\nSuggest some food items for a traditional Brazilian New Year (Réveillon) celebration.\\n-----------\\nresponse\\n-----------\\n1. Lentil Soup\\n2. Farofa (Toasted Cassava Flour Mixture)\\n3. Bacalhau (Salted Cod)\\n4. Pão de Queijo (Cheese Bread)\\n5. Feijoada (Black Bean Stew)\\n6. Brigadeiros (Chocolate Truffles)\\n7. Caipirinha (Cocktail)\\n8. Acarajé (Fried Ball of Dough)\\n9. Açaí Bowl\\n10. Empada (Small Pie)\\n-----------\\nprompt\\n-----------\\nWhat food items would be suitable for a traditional Scottish Burns Night supper?\\n-----------\\nresponse\\n-----------\\n1. Haggis\\n2. Neeps and Tatties (Turnips and Potatoes)\\n3. Scotch Broth\\n4. Cullen Skink (Smoked Fish Soup)\\n5. Cranachan (Whipped Cream with Whisky, Honey, and Raspberries)\\n6. Clootie Dumpling (Spiced Pudding)\\n7. Scotch Pie\\n8. Black Bun (Fruitcake)\\n9. Scottish Shortbread\\n10. Whisky\\n-----------\", 'prompt\\n-----------\\nSuggest some food items for a traditional Thai Songkran (New Year) celebration.\\n-----------\\nresponse\\n-----------\\n1. Pad Thai\\n2. Tom Yum Goong (Spicy Shrimp Soup)\\n3. Som Tum (Green Papaya Salad)\\n4. Gaeng Daeng (Red Curry)\\n5. Khao Pad (Fried Rice)\\n6. Mango Sticky Rice\\n7. Satay (Grilled Meat Skewers)\\n8. Thai Iced Tea\\n9. Massaman Curry\\n10. Thai Spring Rolls\\n-----------\\nprompt\\n-----------\\nWhat food items would be suitable for a traditional Vietnamese Tet (New Year) celebration?\\n-----------\\nresponse\\n-----------\\n1. Banh Chung (Sticky Rice Cake)\\n2. Thit Kho Tau (Caramelized Pork and Eggs)\\n3. Xoi Gac (Red Sticky Rice)\\n4. Canh Mang (Bamboo Shoot Soup)\\n5. Ga Luoc (Boiled Chicken)\\n6. Nem Ran (Spring Rolls)\\n7. Che Ba Mau (Three-Color Dessert)\\n8. Mut Tet (Candied Fruits)\\n9. Banh Cam (Sesame Balls)\\n10. Vietnamese Iced Coffee\\n-----------\\nprompt\\n-----------\\nWhat food items should I prepare for a traditional Greek Easter celebration?\\n-----------\\nresponse\\n-----------\\n1. Roast Lamb\\n2. Tsoureki (Easter Bread)\\n3. Spanakopita (Spinach Pie)\\n4. Tzatziki\\n5. Greek Salad\\n6. Baklava\\n7. Dolmades (Stuffed Vine Leaves)\\n8. Moussaka\\n9. Greek Easter Cookies (Koulourakia)\\n10. Greek Wine\\n-----------\\nprompt\\n-----------\\nSuggest some food items for a traditional Cuban Christmas Eve (Noche Buena) celebration.\\n-----------\\nresponse\\n-----------\\n1. Lechon Asado (Roast Pork)\\n2. Moros y Cristianos (Black Beans and Rice)\\n3. Yuca con Mojo (Cassava with Garlic Sauce)\\n4. Tostones (Fried Plantains)\\n5. Ensalada de Aguacate (Avocado Salad)\\n6. Flan\\n7. Pasteles en Hoja (Meat Pastries)\\n8. Cuban Bread\\n9. Turrones (Nougat)\\n10. Cuban Coffee\\n-----------\\nprompt\\n-----------\\nWhat food items would be suitable for a traditional South African Christmas dinner?\\n-----------\\nresponse\\n-----------\\n1. Boerewors (Sausages)\\n2. Bobotie (Spiced Mince)\\n3. Biltong (Cured Meat)\\n4. Malva Pudding\\n5. Braai (Barbecue)\\n6. Sosaties (Kebabs)\\n7. Koeksisters (Fried Dough)\\n8. Potjiekos (Stew)\\n9. Melktert (Milk Tart)\\n10. Rooibos Tea\\n-----------', \"prompt\\n-----------\\nSuggest some food items for a traditional Filipino Noche Buena (Christmas Eve) celebration.\\n-----------\\nresponse\\n-----------\\n1. Lechon (Roast Pig)\\n2. Pancit (Noodles)\\n3. Adobo (Chicken or Pork in Soy Sauce and Vinegar)\\n4. Bibingka (Rice Cake)\\n5. Lumpia (Spring Rolls)\\n6. Halo-Halo (Mixed Dessert)\\n7. Puto Bumbong (Purple Rice Dessert)\\n8. Kare-Kare (Oxtail Stew)\\n9. Sinigang (Sour Soup)\\n10. Leche Flan\\n-----------\\nprompt\\n-----------\\nWhat food items would be suitable for a traditional Polish Wigilia (Christmas Eve) supper?\\n-----------\\nresponse\\n-----------\\n1. Pierogi (Dumplings)\\n2. Barszcz (Beetroot Soup)\\n3. Karp (Carp)\\n4. Bigos (Hunter's Stew)\\n5. Makowiec (Poppy Seed Roll)\\n6. Golabki (Stuffed Cabbage Rolls)\\n7. Uszka (Small Dumplings)\\n8. Kutia (Wheat Berry Dessert)\\n9. Piernik (Gingerbread)\\n10. Kompot (Fruit Drink)\\n-----------\\nprompt\\n-----------\\nWhat food items should I prepare for a traditional Danish Christmas dinner?\\n-----------\\nresponse\\n-----------\\n1. Flæskesteg (Roast Pork)\\n2. Frikadeller (Meatballs)\\n3. Rødkaal (Red Cabbage)\\n4. Risalamande (Rice Pudding)\\n5. Brændende Kærlighed (Burning Love)\\n6. Æbleskiver (Apple Slices)\\n7. Gløgg (Mulled Wine)\\n8. Kransekage (Almond Cake)\\n9. Leverpostej (Liver Pate)\\n10. Smørrebrød (Open-Faced Sandwiches)\\n-----------\\nprompt\\n-----------\\nSuggest some food items for a traditional Finnish Christmas dinner.\\n-----------\\nresponse\\n-----------\\n1. Joulukinkku (Christmas Ham)\\n2. Lanttulaatikko (Rutabaga Casserole)\\n3. Karjalanpiirakka (Karelian Pies)\\n4. Rosolli (Beetroot Salad)\\n5. Graavilohi (Cured Salmon)\\n6. Piparkakut (Gingerbread Cookies)\\n7. Joulutorttu (Christmas Tarts)\\n8. Glögi (Mulled Wine)\\n9. Riisipuuro (Rice Porridge)\\n10. Silli (Pickled Herring)\\n-----------\", \"prompt\\n-----------\\nSuggest some food items for a traditional Irish St. Patrick's Day celebration.\\n-----------\\nresponse\\n-----------\\n1. Corned Beef and Cabbage\\n2. Irish Stew\\n3. Soda Bread\\n4. Shepherd's Pie\\n5. Colcannon (Mashed Potatoes and Cabbage)\\n6. Boxty (Potato Pancake)\\n7. Guinness Pie\\n8. Irish Coffee\\n9. Bailey's Irish Cream Cheesecake\\n10. Irish Whiskey\\n-----------\\nprompt\\n-----------\\nWhat food items would be suitable for a traditional Greek Orthodox Easter celebration?\\n-----------\\nresponse\\n-----------\\n1. Lamb on the Spit\\n2. Tsoureki (Easter Bread)\\n3. Avgolemono Soup (Egg-Lemon Soup)\\n4. Dolmades (Stuffed Grape Leaves)\\n5. Spanakopita (Spinach Pie)\\n6. Baklava\\n7. Tzatziki\\n8. Greek Salad\\n9. Moussaka\\n10. Greek Easter Cookies (Koulourakia)\\n-----------\\nprompt\\n-----------\\nWhat food items should I prepare for a traditional Italian Easter lunch?\\n-----------\\nresponse\\n-----------\\n1. Lamb\\n2. Artichokes\\n3. Frittata\\n4. Pasta Primavera\\n5. Colomba di Pasqua (Easter Dove Cake)\\n6. Torta Pasqualina (Easter Pie)\\n7. Prosciutto and Melon\\n8. Cannoli\\n9. Caprese Salad\\n10. Italian Easter Bread (Pane di Pasqua)\\n-----------\\nprompt\\n-----------\\nSuggest some food items for a traditional Caribbean Christmas dinner.\\n-----------\\nresponse\\n-----------\\n1. Roast Ham\\n2. Jerk Chicken\\n3. Rice and Peas\\n4. Fried Plantains\\n5. Curry Goat\\n6. Black Cake (Rum Fruit Cake)\\n7. Saltfish and Ackee\\n8. Callaloo (Leafy Vegetable Dish)\\n9. Sorrel Drink\\n10. Coconut Drops\\n-----------\\nprompt\\n-----------\\nWhat food items would be suitable for a traditional Egyptian Ramadan Iftar?\\n-----------\\nresponse\\n-----------\\n1. Dates\\n2. Lentil Soup\\n3. Fattah (Rice, Bread, and Meat Dish)\\n4. Koshari (Rice, Lentils, and Pasta Dish)\\n5. Mahshi (Stuffed Vegetables)\\n6. Baklava\\n7. Kunafa (Cheese Pastry)\\n8. Shish Kebab\\n9. Tabbouleh Salad\\n10. Mint Tea\\n-----------\", 'prompt\\n-----------\\nWhat food items should I prepare for a traditional Russian New Year celebration?\\n-----------\\nresponse\\n-----------\\n1. Olivier Salad\\n2. Herring Under a Fur Coat Salad\\n3. Pelmeni (Dumplings)\\n4. Shashlik (Kebabs)\\n5. Caviar Canapés\\n6. Beef Stroganoff\\n7. Blini (Pancakes) with Smoked Salmon\\n8. Pirozhki (Filled Buns)\\n9. Russian Honey Cake\\n10. Vodka\\n-----------\\nprompt\\n-----------\\nSuggest some food items for a traditional Jewish Passover Seder.\\n-----------\\nresponse\\n-----------\\n1. Matzo Ball Soup\\n2. Gefilte Fish\\n3. Charoset\\n4. Brisket\\n5. Roasted Chicken\\n6. Potato Kugel\\n7. Matzo Brei\\n8. Flourless Chocolate Cake\\n9. Macaroons\\n10. Kosher Wine\\n-----------\\nprompt\\n-----------\\nWhat food items would be suitable for a traditional German Oktoberfest celebration?\\n-----------\\nresponse\\n-----------\\n1. Pretzels\\n2. Bratwurst\\n3. Sauerkraut\\n4. Pork Knuckles\\n5. Sauerbraten (Pot Roast)\\n6. Apple Strudel\\n7. Beer Cheese Soup\\n8. German Potato Salad\\n9. Black Forest Cake\\n10. German Beer\\n-----------\\nprompt\\n-----------\\nWhat food items should I prepare for a traditional Canadian Thanksgiving dinner?\\n-----------\\nresponse\\n-----------\\n1. Roast Turkey\\n2. Stuffing\\n3. Mashed Potatoes\\n4. Gravy\\n5. Cranberry Sauce\\n6. Pumpkin Pie\\n7. Sweet Potato Casserole\\n8. Green Beans\\n9. Pecan Pie\\n10. Maple Glazed Carrots\\n-----------\\nprompt\\n-----------\\nSuggest some food items for a traditional American Fourth of July BBQ.\\n-----------\\nresponse\\n-----------\\n1. Grilled Burgers\\n2. Hot Dogs\\n3. BBQ Ribs\\n4. Coleslaw\\n5. Grilled Corn on the Cob\\n6. Baked Beans\\n7. Potato Salad\\n8. Watermelon Slices\\n9. Apple Pie\\n10. Lemonade\\n-----------', 'prompt\\n-----------\\nSuggest some food items for a traditional German Oktoberfest celebration.\\n-----------\\nresponse\\n-----------\\n1. Pretzels\\n2. Bratwurst\\n3. Sauerkraut\\n4. Schweinshaxe (Pork Knuckle)\\n5. Sauerbraten (Pot Roast)\\n6. Spaetzle (Egg Noodles)\\n7. Apfelstrudel (Apple Strudel)\\n8. Beer\\n9. Leberkäse (Bavarian Meatloaf)\\n10. Käsespätzle (Cheese Noodles)\\n-----------\\nprompt\\n-----------\\nWhat food items would be suitable for a traditional American Thanksgiving dinner?\\n-----------\\nresponse\\n-----------\\n1. Roasted Turkey\\n2. Stuffing\\n3. Mashed Potatoes\\n4. Gravy\\n5. Cranberry Sauce\\n6. Green Bean Casserole\\n7. Sweet Potato Casserole\\n8. Pumpkin Pie\\n9. Pecan Pie\\n10. Cornbread\\n-----------\\nprompt\\n-----------\\nWhat food items should I prepare for a traditional Japanese Hanami (Cherry Blossom Viewing) picnic?\\n-----------\\nresponse\\n-----------\\n1. Sakura Mochi (Cherry Blossom Rice Cake)\\n2. Onigiri (Rice Balls)\\n3. Sushi Rolls\\n4. Tempura\\n5. Takoyaki (Octopus Balls)\\n6. Matcha (Green Tea)\\n7. Dango (Sweet Dumplings)\\n8. Bento Box\\n9. Yakitori (Grilled Chicken Skewers)\\n10. Sake\\n-----------\\nprompt\\n-----------\\nSuggest some food items for a traditional Russian New Year celebration.\\n-----------\\nresponse\\n-----------\\n1. Olivier Salad\\n2. Shuba (Herring Under Fur Coat)\\n3. Pelmeni (Dumplings)\\n4. Pirozhki (Stuffed Buns)\\n5. Blini (Pancakes) with Caviar\\n6. Beef Stroganoff\\n7. Medovik (Honey Cake)\\n8. Vodka\\n9. Solyanka (Spicy and Sour Soup)\\n10. Russian Tea Cookies\\n-----------\\nprompt\\n-----------\\nWhat food items would be suitable for a traditional Canadian Thanksgiving dinner?\\n-----------\\nresponse\\n-----------\\n1. Roasted Turkey\\n2. Stuffing\\n3. Mashed Potatoes\\n4. Gravy\\n5. Cranberry Sauce\\n6. Green Bean Casserole\\n7. Pumpkin Pie\\n8. Pecan Pie\\n9. Maple Glazed Carrots\\n10. Butter Tarts\\n-----------', \"prompt\\n-----------\\nWhat food items would be suitable for a traditional French Christmas dinner?\\n-----------\\nresponse\\n-----------\\n1. Foie Gras\\n2. Oysters\\n3. Escargots de Bourgogne (Snails in Garlic-Herb Butter)\\n4. Bûche de Noël (Yule Log Cake)\\n5. Coquilles Saint-Jacques (Scallops)\\n6. Roast Capon\\n7. Gratin Dauphinois (Potato Gratin)\\n8. Cheese Board\\n9. Mulled Wine\\n10. Pain d'épices (Spice Bread)\\n-----------\\nprompt\\n-----------\\nWhat food items should I prepare for a traditional Spanish Christmas dinner?\\n-----------\\nresponse\\n-----------\\n1. Jamón ibérico (Iberian Ham)\\n2. Gambas al ajillo (Garlic Prawns)\\n3. Polvorones (Shortbread Cookies)\\n4. Turrón (Nougat)\\n5. Paella\\n6. Cordero Asado (Roast Lamb)\\n7. Marzipan\\n8. Chorizo in Wine Sauce\\n9. Spanish Flan\\n10. Sangria\\n-----------\\nprompt\\n-----------\\nSuggest some food items for a traditional Moroccan Ramadan Iftar meal.\\n-----------\\nresponse\\n-----------\\n1. Harira (Lentil and Tomato Soup)\\n2. Chebakia (Sesame Cookies)\\n3. Tagine (Slow-Cooked Stew)\\n4. Couscous\\n5. Dates\\n6. Msemen (Moroccan Pancakes)\\n7. Zaalouk (Eggplant and Tomato Salad)\\n8. Baklava\\n9. Mint Tea\\n10. Lamb Kebabs\\n-----------\\nprompt\\n-----------\\nWhat food items would be suitable for a traditional Egyptian Ramadan Iftar meal?\\n-----------\\nresponse\\n-----------\\n1. Fattah (Rice, Bread, and Vinegar Dish)\\n2. Koshari (Rice, Lentils, and Pasta Dish)\\n3. Molokhia (Jute Mallow Soup)\\n4. Stuffed Grape Leaves\\n5. Kunafa (Sweet Cheese Pastry)\\n6. Basbousa (Semolina Cake)\\n7. Shawarma\\n8. Baba Ganoush\\n9. Falafel\\n10. Hibiscus Tea\\n-----------\\nprompt\\n-----------\\nWhat food items should I prepare for a traditional Australian Christmas dinner?\\n-----------\\nresponse\\n-----------\\n1. Prawns\\n2. Roast Turkey\\n3. Christmas Ham\\n4. Pavlova\\n5. Mince Pies\\n6. Grilled Lobster\\n7. Potato Salad\\n8. Christmas Pudding\\n9. Lamingtons\\n10. Barbecued Sausages\\n-----------\", 'prompt\\n-----------\\nWhat food items would be suitable for a traditional Indian Diwali celebration?\\n-----------\\nresponse\\n-----------\\n1. Samosas\\n2. Butter Chicken\\n3. Biryani\\n4. Gulab Jamun\\n5. Jalebi\\n6. Pani Puri\\n7. Aloo Tikki\\n8. Chole Bhature\\n9. Laddu\\n10. Masala Chai\\n-----------\\nprompt\\n-----------\\nWhat food items should I prepare for a traditional Chinese New Year celebration?\\n-----------\\nresponse\\n-----------\\n1. Dumplings\\n2. Spring Rolls\\n3. Steamed Fish\\n4. Tangyuan (Sweet Rice Balls)\\n5. Longevity Noodles\\n6. Peking Duck\\n7. Steamed Chicken\\n8. Turnip Cake\\n9. Nian Gao (Rice Cake)\\n10. Chinese Tea\\n-----------\\nprompt\\n-----------\\nSuggest some food items for a traditional Mexican Day of the Dead (Dia de los Muertos) celebration.\\n-----------\\nresponse\\n-----------\\n1. Pan de Muerto (Bread of the Dead)\\n2. Tamales\\n3. Mole Poblano\\n4. Chiles en Nogada\\n5. Atole (Warm Corn Drink)\\n6. Calabaza en Tacha (Candied Pumpkin)\\n7. Pozole (Hominy Soup)\\n8. Chalupas\\n9. Sugar Skulls\\n10. Mexican Hot Chocolate\\n-----------\\nprompt\\n-----------\\nWhat food items would be suitable for a traditional Italian Christmas dinner?\\n-----------\\nresponse\\n-----------\\n1. Panettone\\n2. Lasagna\\n3. Baccala (Salted Cod)\\n4. Roast Lamb\\n5. Risotto\\n6. Prosciutto and Melon\\n7. Tiramisu\\n8. Tortellini in Brodo (in Broth)\\n9. Bruschetta\\n10. Spumoni (Ice Cream Dessert)\\n-----------\\nprompt\\n-----------\\nWhat food items should I prepare for a traditional Japanese New Year (Oshogatsu) celebration?\\n-----------\\nresponse\\n-----------\\n1. Osechi Ryori (Traditional Foods)\\n2. Mochi (Rice Cake)\\n3. Soba Noodles\\n4. Ozoni (Mochi Soup)\\n5. Sashimi\\n6. Tempura\\n7. Namasu (Pickled Vegetables)\\n8. Matcha (Green Tea)\\n9. Kuri Kinton (Candied Chestnuts)\\n10. Toshikoshi Soba (Year-End Noodles)\\n-----------', 'prompt\\n-----------\\nSuggest some food items for a traditional German Christmas dinner.\\n-----------\\nresponse\\n-----------\\n1. Sauerbraten (Pot Roast)\\n2. Kartoffelknödel (Potato Dumplings)\\n3. Rotkohl (Red Cabbage)\\n4. Lebkuchen (Gingerbread Cookies)\\n5. Glühwein (Mulled Wine)\\n6. Bratwurst (Sausages)\\n7. Stollen (Fruit Bread)\\n8. Pretzels\\n9. Marzipan\\n10. Feuerzangenbowle (Flaming Fire Tongs Punch)\\n-----------\\nprompt\\n-----------\\nWhat food items would be suitable for a traditional Russian Easter celebration?\\n-----------\\nresponse\\n-----------\\n1. Paskha (Cheese Dessert)\\n2. Kulich (Easter Bread)\\n3. Blini (Russian Pancakes)\\n4. Shashlik (Kebabs)\\n5. Olivier Salad\\n6. Borscht (Beet Soup)\\n7. Pelmeni (Dumplings)\\n8. Caviar\\n9. Pickled Herring\\n10. Vodka\\n-----------\\nprompt\\n-----------\\nWhat food items should I prepare for a traditional Chinese Dragon Boat Festival?\\n-----------\\nresponse\\n-----------\\n1. Zongzi (Sticky Rice Dumplings)\\n2. Realgar Wine\\n3. Salted Duck Eggs\\n4. Yellow Croaker Fish\\n5. Chinese Steamed Eggs\\n6. Rice Pudding\\n7. Chinese Sausage\\n8. Five-Spice Tofu\\n9. Green Bean Soup\\n10. Lychee\\n-----------\\nprompt\\n-----------\\nSuggest some food items for a traditional Japanese Cherry Blossom viewing (Hanami) party.\\n-----------\\nresponse\\n-----------\\n1. Sakura Mochi (Cherry Blossom Rice Cake)\\n2. Onigiri (Rice Balls)\\n3. Sushi Rolls\\n4. Yakitori (Grilled Chicken Skewers)\\n5. Dango (Sweet Dumplings)\\n6. Matcha Tea\\n7. Tempura\\n8. Udon Noodles\\n9. Japanese Cheesecake\\n10. Sake\\n-----------\\nprompt\\n-----------\\nWhat food items would be suitable for a traditional Korean Harvest Festival (Chuseok) celebration?\\n-----------\\nresponse\\n-----------\\n1. Songpyeon (Rice Cakes)\\n2. Japchae (Stir-Fried Noodles)\\n3. Bulgogi (Marinated Beef)\\n4. Galbi (Grilled Ribs)\\n5. Kimchi\\n6. Hotteok (Sweet Pancakes)\\n7. Bibimbap (Mixed Rice)\\n8. Makgeolli (Rice Wine)\\n9. Hangwa (Traditional Cookies)\\n10. Sujeonggwa (Cinnamon Punch)\\n-----------', 'prompt\\n-----------\\nWhat food items should I prepare for a traditional Japanese New Year (Oshogatsu) celebration?\\n-----------\\nresponse\\n-----------\\n1. Osechi Ryori (Traditional Foods)\\n2. Mochi (Rice Cake)\\n3. Soba Noodles\\n4. Ozoni (Mochi Soup)\\n5. Sashimi\\n6. Tempura\\n7. Namasu (Pickled Vegetables)\\n8. Matcha (Green Tea)\\n9. Kuri Kinton (Candied Chestnuts)\\n10. Toshikoshi Soba (Year-End Noodles)\\n-----------\\nprompt\\n-----------\\nSuggest some food items for a traditional Korean Chuseok (Autumn Eve) celebration.\\n-----------\\nresponse\\n-----------\\n1. Songpyeon (Rice Cakes)\\n2. Japchae (Stir-Fried Noodles)\\n3. Bulgogi (Marinated Beef)\\n4. Galbi (Grilled Ribs)\\n5. Kimchi\\n6. Hotteok (Sweet Pancakes)\\n7. Bibimbap (Mixed Rice)\\n8. Makgeolli (Rice Wine)\\n9. Hangwa (Traditional Cookies)\\n10. Sujeonggwa (Cinnamon Punch)\\n-----------\\nprompt\\n-----------\\nWhat food items would be suitable for a traditional Italian Christmas Eve Feast of the Seven Fishes?\\n-----------\\nresponse\\n-----------\\n1. Baccalà (Salted Cod)\\n2. Calamari\\n3. Shrimp Scampi\\n4. Linguine with Clams\\n5. Grilled Octopus\\n6. Seafood Risotto\\n7. Tuna Carpaccio\\n8. Oysters\\n9. Seafood Antipasto\\n10. Cannoli\\n-----------\\nprompt\\n-----------\\nWhat food items should I prepare for a traditional Greek Easter celebration?\\n-----------\\nresponse\\n-----------\\n1. Roast Lamb\\n2. Tsoureki (Easter Bread)\\n3. Spanakopita (Spinach Pie)\\n4. Tzatziki\\n5. Greek Salad\\n6. Baklava\\n7. Dolmades (Stuffed Vine Leaves)\\n8. Moussaka\\n9. Greek Easter Cookies (Koulourakia)\\n10. Greek Wine\\n-----------\\nprompt\\n-----------\\nSuggest some food items for a traditional Cuban Christmas Eve (Noche Buena) celebration.\\n-----------\\nresponse\\n-----------\\n1. Lechon Asado (Roast Pork)\\n2. Moros y Cristianos (Black Beans and Rice)\\n3. Yuca con Mojo (Cassava with Garlic Sauce)\\n4. Tostones (Fried Plantains)\\n5. Ensalada de Aguacate (Avocado Salad)\\n6. Flan\\n7. Pasteles en Hoja (Meat Pastries)\\n8. Cuban Bread\\n9. Turrones (Nougat)\\n10. Cuban Coffee\\n-----------', 'prompt\\n-----------\\nWhat food items should I prepare for a traditional Brazilian Carnival party?\\n-----------\\nresponse\\n-----------\\n1. Feijoada (Black Bean Stew)\\n2. Acarajé (Black-Eyed Pea Fritters)\\n3. Pão de Queijo (Cheese Bread)\\n4. Brigadeiros (Chocolate Truffles)\\n5. Coxinha (Chicken Croquettes)\\n6. Vatapá (Shrimp in Cashew Sauce)\\n7. Moqueca (Fish Stew)\\n8. Caipirinha (Cocktail)\\n9. Açaí Bowl\\n10. Pastel (Fried Pastries)\\n-----------\\nprompt\\n-----------\\nSuggest some food items for a traditional American Thanksgiving dinner.\\n-----------\\nresponse\\n-----------\\n1. Roasted Turkey\\n2. Stuffing\\n3. Mashed Potatoes\\n4. Gravy\\n5. Cranberry Sauce\\n6. Green Bean Casserole\\n7. Sweet Potato Casserole\\n8. Pumpkin Pie\\n9. Pecan Pie\\n10. Dinner Rolls\\n-----------\\nprompt\\n-----------\\nWhat food items would be suitable for a traditional Chinese Mid-Autumn Festival celebration?\\n-----------\\nresponse\\n-----------\\n1. Mooncakes\\n2. Pomelo\\n3. Duck\\n4. Taro\\n5. Hairy Crab\\n6. Osmanthus Jelly\\n7. Lotus Root\\n8. Sweet Potato\\n9. River Snails\\n10. Chinese Tea\\n-----------\\nprompt\\n-----------\\nWhat food items should I prepare for a traditional Korean Chuseok (Autumn Eve) celebration?\\n-----------\\nresponse\\n-----------\\n1. Songpyeon (Rice Cakes)\\n2. Japchae (Stir-Fried Noodles)\\n3. Bulgogi (Marinated Beef)\\n4. Galbi (Grilled Ribs)\\n5. Kimchi\\n6. Hotteok (Sweet Pancakes)\\n7. Bibimbap (Mixed Rice)\\n8. Makgeolli (Rice Wine)\\n9. Hangwa (Traditional Cookies)\\n10. Sujeonggwa (Cinnamon Punch)\\n-----------\\nprompt\\n-----------\\nSuggest some food items for a traditional Jewish Passover Seder.\\n-----------\\nresponse\\n-----------\\n1. Matzo Ball Soup\\n2. Gefilte Fish\\n3. Charoset\\n4. Brisket\\n5. Roasted Chicken\\n6. Potato Kugel\\n7. Matzo Brei\\n8. Flourless Chocolate Cake\\n9. Macaroons\\n10. Kosher Wine\\n-----------', \"prompt\\n-----------\\nWhat food items would be suitable for a traditional French Christmas dinner?\\n-----------\\nresponse\\n-----------\\n1. Foie Gras\\n2. Oysters\\n3. Escargot\\n4. Coquilles Saint-Jacques (Scallops)\\n5. Roast Capon\\n6. Bûche de Noël (Yule Log Cake)\\n7. Pain d'épices (Spice Bread)\\n8. Truffles\\n9. Roasted Chestnuts\\n10. Champagne\\n-----------\\nprompt\\n-----------\\nWhat food items should I prepare for a traditional Spanish Christmas dinner?\\n-----------\\nresponse\\n-----------\\n1. Jamón ibérico (Iberian Ham)\\n2. Gambas al Ajillo (Garlic Prawns)\\n3. Polvorones (Shortbread Cookies)\\n4. Turron (Nougat)\\n5. Paella\\n6. Cordero Asado (Roast Lamb)\\n7. Marzipan\\n8. Roscón de Reyes (King's Cake)\\n9. Churros con Chocolate\\n10. Cava (Spanish Sparkling Wine)\\n-----------\\nprompt\\n-----------\\nSuggest some food items for a traditional Australian Christmas dinner.\\n-----------\\nresponse\\n-----------\\n1. Prawns\\n2. Roast Turkey\\n3. Ham\\n4. Pavlova\\n5. Christmas Pudding\\n6. Mince Pies\\n7. Grilled Lobster\\n8. Barbecued Sausages\\n9. Lamingtons\\n10. Australian Sparkling Wine\\n-----------\\nprompt\\n-----------\\nWhat food items would be suitable for a traditional American Thanksgiving dinner?\\n-----------\\nresponse\\n-----------\\n1. Roast Turkey\\n2. Stuffing\\n3. Mashed Potatoes\\n4. Gravy\\n5. Cranberry Sauce\\n6. Green Bean Casserole\\n7. Candied Yams\\n8. Pumpkin Pie\\n9. Pecan Pie\\n10. Cornbread\\n-----------\\nprompt\\n-----------\\nWhat food items should I prepare for a traditional British Christmas dinner?\\n-----------\\nresponse\\n-----------\\n1. Roast Turkey\\n2. Stuffing\\n3. Roast Potatoes\\n4. Brussels Sprouts\\n5. Pigs in Blankets\\n6. Christmas Pudding\\n7. Mince Pies\\n8. Mulled Wine\\n9. Yorkshire Pudding\\n10. Trifle\\n-----------\"]\n"
     ]
    }
   ],
   "source": [
    "def generate_example(prompt, prev_examples, temperature=.5):\n",
    "    messages=[\n",
    "        {\n",
    "            \"role\": \"system\",\n",
    "            \"content\": f\"You are generating data which will be used to train a machine learning model.\\n\\nYou will be given a high-level description of the model we want to train, and from that, you will generate data samples, each with a prompt/response pair.\\n\\nYou will do so in this format:\\n```\\nprompt\\n-----------\\n$prompt_goes_here\\n-----------\\n\\nresponse\\n-----------\\n$response_goes_here\\n-----------\\n```\\n\\nOnly one prompt/response pair should be generated per turn.\\n\\nFor each turn, make the example slightly more complex than the last, while ensuring diversity.Dont generate the description of food items, just give a list of food items relevant to the prompt.\\n\\nMake sure your samples are unique and diverse, yet high-quality and complex enough to train a well-performing model.\\n\\nHere is the type of model we want to train:\\n`{prompt}`\"\n",
    "        }\n",
    "    ]\n",
    "\n",
    "    if len(prev_examples) > 0:\n",
    "        if len(prev_examples) > 10:\n",
    "            prev_examples = random.sample(prev_examples, 10)\n",
    "        for example in prev_examples:\n",
    "            messages.append({\n",
    "                \"role\": \"assistant\",\n",
    "                \"content\": example\n",
    "            })\n",
    "\n",
    "    response = openai.ChatCompletion.create(\n",
    "        model=\"gpt-4\",\n",
    "        messages=messages,\n",
    "        temperature=temperature,\n",
    "        max_tokens=1354,\n",
    "    )\n",
    "\n",
    "    return response.choices[0].message['content']\n",
    "\n",
    "# Generate examples\n",
    "prev_examples = []\n",
    "for i in range(number_of_examples):\n",
    "    print(f'Generating example {i}')\n",
    "    example = generate_example(prompt, prev_examples, temperature)\n",
    "    prev_examples.append(example)\n",
    "\n",
    "print(prev_examples)"
   ]
  },
  {
   "cell_type": "code",
   "execution_count": null,
   "metadata": {
    "colab": {
     "base_uri": "https://localhost:8080/"
    },
    "executionInfo": {
     "elapsed": 2219,
     "status": "ok",
     "timestamp": 1698653848904,
     "user": {
      "displayName": "Aishwarya Agrawal",
      "userId": "02157546517471328250"
     },
     "user_tz": 240
    },
    "id": "vIlXe48xqquP",
    "outputId": "05d507e9-bba8-429e-9eee-afb0d01c7dea"
   },
   "outputs": [
    {
     "name": "stdout",
     "output_type": "stream",
     "text": [
      "The system message is: `Given an event name, generate a list of food item suggestions suitable for that event.`. Feel free to re-run this cell if you want a better result.\n"
     ]
    }
   ],
   "source": [
    "def generate_system_message(prompt):\n",
    "\n",
    "    response = openai.ChatCompletion.create(\n",
    "        model=\"gpt-4\",\n",
    "        messages=[\n",
    "          {\n",
    "            \"role\": \"system\",\n",
    "            \"content\": \"You will be given a high-level description of the model we are training, and from that, you will generate a simple system prompt for that model to use. Remember, you are not generating the system message for data generation -- you are generating the system message to use for inference. A good format to follow is `Given $INPUT_DATA, you will $WHAT_THE_MODEL_SHOULD_DO.`.\\n\\nMake it as concise as possible. Include nothing but the system prompt in your response.\\n\\nFor example, never write: `\\\"$SYSTEM_PROMPT_HERE\\\"`.\\n\\nIt should be like: `$SYSTEM_PROMPT_HERE`.\"\n",
    "          },\n",
    "          {\n",
    "              \"role\": \"user\",\n",
    "              \"content\": prompt.strip(),\n",
    "          }\n",
    "        ],\n",
    "        temperature=temperature,\n",
    "        max_tokens=500,\n",
    "    )\n",
    "\n",
    "    return response.choices[0].message['content']\n",
    "\n",
    "system_message = generate_system_message(prompt)\n",
    "\n",
    "print(f'The system message is: `{system_message}`. Feel free to re-run this cell if you want a better result.')"
   ]
  },
  {
   "cell_type": "code",
   "execution_count": null,
   "metadata": {
    "colab": {
     "base_uri": "https://localhost:8080/",
     "height": 311
    },
    "executionInfo": {
     "elapsed": 1204,
     "status": "ok",
     "timestamp": 1698651514920,
     "user": {
      "displayName": "Aishwarya Agrawal",
      "userId": "02157546517471328250"
     },
     "user_tz": 240
    },
    "id": "mRQf-f9zqtLW",
    "outputId": "b218b821-2a57-4736-8ada-1a44d5f8d19e"
   },
   "outputs": [
    {
     "name": "stdout",
     "output_type": "stream",
     "text": [
      "There are 20 successfully-generated examples. Here are the first few:\n"
     ]
    },
    {
     "data": {
      "text/html": [
       "\n",
       "  <div id=\"df-486f9cbb-f2e3-4361-a866-27a504111f2b\" class=\"colab-df-container\">\n",
       "    <div>\n",
       "<style scoped>\n",
       "    .dataframe tbody tr th:only-of-type {\n",
       "        vertical-align: middle;\n",
       "    }\n",
       "\n",
       "    .dataframe tbody tr th {\n",
       "        vertical-align: top;\n",
       "    }\n",
       "\n",
       "    .dataframe thead th {\n",
       "        text-align: right;\n",
       "    }\n",
       "</style>\n",
       "<table border=\"1\" class=\"dataframe\">\n",
       "  <thead>\n",
       "    <tr style=\"text-align: right;\">\n",
       "      <th></th>\n",
       "      <th>prompt</th>\n",
       "      <th>response</th>\n",
       "    </tr>\n",
       "  </thead>\n",
       "  <tbody>\n",
       "    <tr>\n",
       "      <th>0</th>\n",
       "      <td>Suggest some food items for a children's birth...</td>\n",
       "      <td>1. Mini Pizzas\\n2. Chicken Nuggets\\n3. Chocola...</td>\n",
       "    </tr>\n",
       "    <tr>\n",
       "      <th>1</th>\n",
       "      <td>What food items should I prepare for a traditi...</td>\n",
       "      <td>1. Roasted Turkey\\n2. Stuffing\\n3. Mashed Pota...</td>\n",
       "    </tr>\n",
       "    <tr>\n",
       "      <th>2</th>\n",
       "      <td>Suggest some food items for a Diwali party.</td>\n",
       "      <td>1. Samosas\\n2. Butter Chicken\\n3. Paneer Tikka...</td>\n",
       "    </tr>\n",
       "    <tr>\n",
       "      <th>3</th>\n",
       "      <td>Suggest some food items for a St. Patrick's Da...</td>\n",
       "      <td>1. Corned Beef and Cabbage\\n2. Irish Soda Brea...</td>\n",
       "    </tr>\n",
       "    <tr>\n",
       "      <th>4</th>\n",
       "      <td>Suggest some food items for a Ramadan Iftar meal.</td>\n",
       "      <td>1. Dates\\n2. Lentil Soup\\n3. Samosas\\n4. Chick...</td>\n",
       "    </tr>\n",
       "  </tbody>\n",
       "</table>\n",
       "</div>\n",
       "    <div class=\"colab-df-buttons\">\n",
       "\n",
       "  <div class=\"colab-df-container\">\n",
       "    <button class=\"colab-df-convert\" onclick=\"convertToInteractive('df-486f9cbb-f2e3-4361-a866-27a504111f2b')\"\n",
       "            title=\"Convert this dataframe to an interactive table.\"\n",
       "            style=\"display:none;\">\n",
       "\n",
       "  <svg xmlns=\"http://www.w3.org/2000/svg\" height=\"24px\" viewBox=\"0 -960 960 960\">\n",
       "    <path d=\"M120-120v-720h720v720H120Zm60-500h600v-160H180v160Zm220 220h160v-160H400v160Zm0 220h160v-160H400v160ZM180-400h160v-160H180v160Zm440 0h160v-160H620v160ZM180-180h160v-160H180v160Zm440 0h160v-160H620v160Z\"/>\n",
       "  </svg>\n",
       "    </button>\n",
       "\n",
       "  <style>\n",
       "    .colab-df-container {\n",
       "      display:flex;\n",
       "      gap: 12px;\n",
       "    }\n",
       "\n",
       "    .colab-df-convert {\n",
       "      background-color: #E8F0FE;\n",
       "      border: none;\n",
       "      border-radius: 50%;\n",
       "      cursor: pointer;\n",
       "      display: none;\n",
       "      fill: #1967D2;\n",
       "      height: 32px;\n",
       "      padding: 0 0 0 0;\n",
       "      width: 32px;\n",
       "    }\n",
       "\n",
       "    .colab-df-convert:hover {\n",
       "      background-color: #E2EBFA;\n",
       "      box-shadow: 0px 1px 2px rgba(60, 64, 67, 0.3), 0px 1px 3px 1px rgba(60, 64, 67, 0.15);\n",
       "      fill: #174EA6;\n",
       "    }\n",
       "\n",
       "    .colab-df-buttons div {\n",
       "      margin-bottom: 4px;\n",
       "    }\n",
       "\n",
       "    [theme=dark] .colab-df-convert {\n",
       "      background-color: #3B4455;\n",
       "      fill: #D2E3FC;\n",
       "    }\n",
       "\n",
       "    [theme=dark] .colab-df-convert:hover {\n",
       "      background-color: #434B5C;\n",
       "      box-shadow: 0px 1px 3px 1px rgba(0, 0, 0, 0.15);\n",
       "      filter: drop-shadow(0px 1px 2px rgba(0, 0, 0, 0.3));\n",
       "      fill: #FFFFFF;\n",
       "    }\n",
       "  </style>\n",
       "\n",
       "    <script>\n",
       "      const buttonEl =\n",
       "        document.querySelector('#df-486f9cbb-f2e3-4361-a866-27a504111f2b button.colab-df-convert');\n",
       "      buttonEl.style.display =\n",
       "        google.colab.kernel.accessAllowed ? 'block' : 'none';\n",
       "\n",
       "      async function convertToInteractive(key) {\n",
       "        const element = document.querySelector('#df-486f9cbb-f2e3-4361-a866-27a504111f2b');\n",
       "        const dataTable =\n",
       "          await google.colab.kernel.invokeFunction('convertToInteractive',\n",
       "                                                    [key], {});\n",
       "        if (!dataTable) return;\n",
       "\n",
       "        const docLinkHtml = 'Like what you see? Visit the ' +\n",
       "          '<a target=\"_blank\" href=https://colab.research.google.com/notebooks/data_table.ipynb>data table notebook</a>'\n",
       "          + ' to learn more about interactive tables.';\n",
       "        element.innerHTML = '';\n",
       "        dataTable['output_type'] = 'display_data';\n",
       "        await google.colab.output.renderOutput(dataTable, element);\n",
       "        const docLink = document.createElement('div');\n",
       "        docLink.innerHTML = docLinkHtml;\n",
       "        element.appendChild(docLink);\n",
       "      }\n",
       "    </script>\n",
       "  </div>\n",
       "\n",
       "\n",
       "<div id=\"df-8e4f38f6-d0cd-448e-bacd-2b7650fff77e\">\n",
       "  <button class=\"colab-df-quickchart\" onclick=\"quickchart('df-8e4f38f6-d0cd-448e-bacd-2b7650fff77e')\"\n",
       "            title=\"Suggest charts.\"\n",
       "            style=\"display:none;\">\n",
       "\n",
       "<svg xmlns=\"http://www.w3.org/2000/svg\" height=\"24px\"viewBox=\"0 0 24 24\"\n",
       "     width=\"24px\">\n",
       "    <g>\n",
       "        <path d=\"M19 3H5c-1.1 0-2 .9-2 2v14c0 1.1.9 2 2 2h14c1.1 0 2-.9 2-2V5c0-1.1-.9-2-2-2zM9 17H7v-7h2v7zm4 0h-2V7h2v10zm4 0h-2v-4h2v4z\"/>\n",
       "    </g>\n",
       "</svg>\n",
       "  </button>\n",
       "\n",
       "<style>\n",
       "  .colab-df-quickchart {\n",
       "      --bg-color: #E8F0FE;\n",
       "      --fill-color: #1967D2;\n",
       "      --hover-bg-color: #E2EBFA;\n",
       "      --hover-fill-color: #174EA6;\n",
       "      --disabled-fill-color: #AAA;\n",
       "      --disabled-bg-color: #DDD;\n",
       "  }\n",
       "\n",
       "  [theme=dark] .colab-df-quickchart {\n",
       "      --bg-color: #3B4455;\n",
       "      --fill-color: #D2E3FC;\n",
       "      --hover-bg-color: #434B5C;\n",
       "      --hover-fill-color: #FFFFFF;\n",
       "      --disabled-bg-color: #3B4455;\n",
       "      --disabled-fill-color: #666;\n",
       "  }\n",
       "\n",
       "  .colab-df-quickchart {\n",
       "    background-color: var(--bg-color);\n",
       "    border: none;\n",
       "    border-radius: 50%;\n",
       "    cursor: pointer;\n",
       "    display: none;\n",
       "    fill: var(--fill-color);\n",
       "    height: 32px;\n",
       "    padding: 0;\n",
       "    width: 32px;\n",
       "  }\n",
       "\n",
       "  .colab-df-quickchart:hover {\n",
       "    background-color: var(--hover-bg-color);\n",
       "    box-shadow: 0 1px 2px rgba(60, 64, 67, 0.3), 0 1px 3px 1px rgba(60, 64, 67, 0.15);\n",
       "    fill: var(--button-hover-fill-color);\n",
       "  }\n",
       "\n",
       "  .colab-df-quickchart-complete:disabled,\n",
       "  .colab-df-quickchart-complete:disabled:hover {\n",
       "    background-color: var(--disabled-bg-color);\n",
       "    fill: var(--disabled-fill-color);\n",
       "    box-shadow: none;\n",
       "  }\n",
       "\n",
       "  .colab-df-spinner {\n",
       "    border: 2px solid var(--fill-color);\n",
       "    border-color: transparent;\n",
       "    border-bottom-color: var(--fill-color);\n",
       "    animation:\n",
       "      spin 1s steps(1) infinite;\n",
       "  }\n",
       "\n",
       "  @keyframes spin {\n",
       "    0% {\n",
       "      border-color: transparent;\n",
       "      border-bottom-color: var(--fill-color);\n",
       "      border-left-color: var(--fill-color);\n",
       "    }\n",
       "    20% {\n",
       "      border-color: transparent;\n",
       "      border-left-color: var(--fill-color);\n",
       "      border-top-color: var(--fill-color);\n",
       "    }\n",
       "    30% {\n",
       "      border-color: transparent;\n",
       "      border-left-color: var(--fill-color);\n",
       "      border-top-color: var(--fill-color);\n",
       "      border-right-color: var(--fill-color);\n",
       "    }\n",
       "    40% {\n",
       "      border-color: transparent;\n",
       "      border-right-color: var(--fill-color);\n",
       "      border-top-color: var(--fill-color);\n",
       "    }\n",
       "    60% {\n",
       "      border-color: transparent;\n",
       "      border-right-color: var(--fill-color);\n",
       "    }\n",
       "    80% {\n",
       "      border-color: transparent;\n",
       "      border-right-color: var(--fill-color);\n",
       "      border-bottom-color: var(--fill-color);\n",
       "    }\n",
       "    90% {\n",
       "      border-color: transparent;\n",
       "      border-bottom-color: var(--fill-color);\n",
       "    }\n",
       "  }\n",
       "</style>\n",
       "\n",
       "  <script>\n",
       "    async function quickchart(key) {\n",
       "      const quickchartButtonEl =\n",
       "        document.querySelector('#' + key + ' button');\n",
       "      quickchartButtonEl.disabled = true;  // To prevent multiple clicks.\n",
       "      quickchartButtonEl.classList.add('colab-df-spinner');\n",
       "      try {\n",
       "        const charts = await google.colab.kernel.invokeFunction(\n",
       "            'suggestCharts', [key], {});\n",
       "      } catch (error) {\n",
       "        console.error('Error during call to suggestCharts:', error);\n",
       "      }\n",
       "      quickchartButtonEl.classList.remove('colab-df-spinner');\n",
       "      quickchartButtonEl.classList.add('colab-df-quickchart-complete');\n",
       "    }\n",
       "    (() => {\n",
       "      let quickchartButtonEl =\n",
       "        document.querySelector('#df-8e4f38f6-d0cd-448e-bacd-2b7650fff77e button');\n",
       "      quickchartButtonEl.style.display =\n",
       "        google.colab.kernel.accessAllowed ? 'block' : 'none';\n",
       "    })();\n",
       "  </script>\n",
       "</div>\n",
       "    </div>\n",
       "  </div>\n"
      ],
      "text/plain": [
       "                                              prompt  \\\n",
       "0  Suggest some food items for a children's birth...   \n",
       "1  What food items should I prepare for a traditi...   \n",
       "2        Suggest some food items for a Diwali party.   \n",
       "3  Suggest some food items for a St. Patrick's Da...   \n",
       "4  Suggest some food items for a Ramadan Iftar meal.   \n",
       "\n",
       "                                            response  \n",
       "0  1. Mini Pizzas\\n2. Chicken Nuggets\\n3. Chocola...  \n",
       "1  1. Roasted Turkey\\n2. Stuffing\\n3. Mashed Pota...  \n",
       "2  1. Samosas\\n2. Butter Chicken\\n3. Paneer Tikka...  \n",
       "3  1. Corned Beef and Cabbage\\n2. Irish Soda Brea...  \n",
       "4  1. Dates\\n2. Lentil Soup\\n3. Samosas\\n4. Chick...  "
      ]
     },
     "execution_count": 10,
     "metadata": {},
     "output_type": "execute_result"
    }
   ],
   "source": [
    "import pandas as pd\n",
    "\n",
    "# Initialize lists to store prompts and responses\n",
    "prompts = []\n",
    "responses = []\n",
    "\n",
    "# Parse out prompts and responses from examples\n",
    "for example in prev_examples:\n",
    "  try:\n",
    "    split_example = example.split('-----------')\n",
    "    prompts.append(split_example[1].strip())\n",
    "    responses.append(split_example[3].strip())\n",
    "  except:\n",
    "    pass\n",
    "\n",
    "# Create a DataFrame\n",
    "df = pd.DataFrame({\n",
    "    'prompt': prompts,\n",
    "    'response': responses\n",
    "})\n",
    "\n",
    "# Remove duplicates\n",
    "df = df.drop_duplicates()\n",
    "\n",
    "print('There are ' + str(len(df)) + ' successfully-generated examples. Here are the first few:')\n",
    "\n",
    "df.head()\n"
   ]
  },
  {
   "cell_type": "code",
   "execution_count": null,
   "metadata": {
    "colab": {
     "base_uri": "https://localhost:8080/",
     "height": 250
    },
    "executionInfo": {
     "elapsed": 209,
     "status": "error",
     "timestamp": 1698653854207,
     "user": {
      "displayName": "Aishwarya Agrawal",
      "userId": "02157546517471328250"
     },
     "user_tz": 240
    },
    "id": "qSwqR4BPq0BM",
    "outputId": "348565a9-3ae8-4ddb-baa4-efc8204aadb0"
   },
   "outputs": [
    {
     "ename": "NameError",
     "evalue": "ignored",
     "output_type": "error",
     "traceback": [
      "\u001b[0;31m---------------------------------------------------------------------------\u001b[0m",
      "\u001b[0;31mNameError\u001b[0m                                 Traceback (most recent call last)",
      "\u001b[0;32m<ipython-input-12-21ca706cb85e>\u001b[0m in \u001b[0;36m<cell line: 2>\u001b[0;34m()\u001b[0m\n\u001b[1;32m      1\u001b[0m \u001b[0;31m# Split the data into train and test sets, with 90% in the train set\u001b[0m\u001b[0;34m\u001b[0m\u001b[0;34m\u001b[0m\u001b[0m\n\u001b[0;32m----> 2\u001b[0;31m \u001b[0mtrain_df\u001b[0m \u001b[0;34m=\u001b[0m \u001b[0mdf\u001b[0m\u001b[0;34m.\u001b[0m\u001b[0msample\u001b[0m\u001b[0;34m(\u001b[0m\u001b[0mfrac\u001b[0m\u001b[0;34m=\u001b[0m\u001b[0;36m0.9\u001b[0m\u001b[0;34m,\u001b[0m \u001b[0mrandom_state\u001b[0m\u001b[0;34m=\u001b[0m\u001b[0;36m42\u001b[0m\u001b[0;34m)\u001b[0m\u001b[0;34m\u001b[0m\u001b[0;34m\u001b[0m\u001b[0m\n\u001b[0m\u001b[1;32m      3\u001b[0m \u001b[0mtest_df\u001b[0m \u001b[0;34m=\u001b[0m \u001b[0mdf\u001b[0m\u001b[0;34m.\u001b[0m\u001b[0mdrop\u001b[0m\u001b[0;34m(\u001b[0m\u001b[0mtrain_df\u001b[0m\u001b[0;34m.\u001b[0m\u001b[0mindex\u001b[0m\u001b[0;34m)\u001b[0m\u001b[0;34m\u001b[0m\u001b[0;34m\u001b[0m\u001b[0m\n\u001b[1;32m      4\u001b[0m \u001b[0;34m\u001b[0m\u001b[0m\n\u001b[1;32m      5\u001b[0m \u001b[0;31m# Save the dataframes to .jsonl files\u001b[0m\u001b[0;34m\u001b[0m\u001b[0;34m\u001b[0m\u001b[0m\n",
      "\u001b[0;31mNameError\u001b[0m: name 'df' is not defined"
     ]
    }
   ],
   "source": [
    "# Split the data into train and test sets, with 90% in the train set\n",
    "train_df = df.sample(frac=0.9, random_state=42)\n",
    "test_df = df.drop(train_df.index)\n",
    "\n",
    "# Save the dataframes to .jsonl files\n",
    "train_df.to_json('/content/drive/MyDrive/grocer_ease2/train.jsonl', orient='records', lines=True)\n",
    "test_df.to_json('/content/drive/MyDrive/grocer_ease2/test.jsonl', orient='records', lines=True)"
   ]
  },
  {
   "cell_type": "code",
   "execution_count": null,
   "metadata": {
    "id": "vhaEUC9Kq78L"
   },
   "outputs": [],
   "source": [
    "_# The model that you want to train from the Hugging Face hub\n",
    "model_name = \"NousResearch/Llama-2-7b-chat-hf\"\n",
    "\n",
    "# The instruction dataset to use\n",
    "dataset_name = \"/content/drive/MyDrive/grocer_ease2/train.jsonl\"\n",
    "\n",
    "# Fine-tuned model name\n",
    "new_model = \"llama-2-7b-finetuned\"\n",
    "\n",
    "################################################################################\n",
    "# QLoRA parameters\n",
    "################################################################################\n",
    "\n",
    "# LoRA attention dimension\n",
    "lora_r = 64\n",
    "\n",
    "# Alpha parameter for LoRA scaling\n",
    "lora_alpha = 16\n",
    "\n",
    "# Dropout probability for LoRA layers\n",
    "lora_dropout = 0.1\n",
    "\n",
    "################################################################################\n",
    "# bitsandbytes parameters\n",
    "################################################################################\n",
    "\n",
    "# Activate 4-bit precision base model loading\n",
    "use_4bit = True\n",
    "\n",
    "# Compute dtype for 4-bit base models\n",
    "bnb_4bit_compute_dtype = \"float16\"\n",
    "\n",
    "# Quantization type (fp4 or nf4)\n",
    "bnb_4bit_quant_type = \"nf4\"\n",
    "\n",
    "# Activate nested quantization for 4-bit base models (double quantization)\n",
    "use_nested_quant = False\n",
    "\n",
    "################################################################################\n",
    "# TrainingArguments parameters\n",
    "################################################################################\n",
    "\n",
    "# Output directory where the model predictions and checkpoints will be stored\n",
    "output_dir = \"/content/drive/MyDrive/grocer_ease2/results\"\n",
    "\n",
    "# Number of training epochs\n",
    "num_train_epochs = 4\n",
    "\n",
    "# Enable fp16/bf16 training (set bf16 to True with an A100)\n",
    "fp16 = False\n",
    "bf16 = False\n",
    "\n",
    "# Batch size per GPU for training\n",
    "per_device_train_batch_size = 2\n",
    "\n",
    "# Batch size per GPU for evaluation\n",
    "per_device_eval_batch_size = 2\n",
    "\n",
    "# Number of update steps to accumulate the gradients for\n",
    "gradient_accumulation_steps = 1\n",
    "\n",
    "# Enable gradient checkpointing\n",
    "gradient_checkpointing = True\n",
    "\n",
    "# Maximum gradient normal (gradient clipping)\n",
    "max_grad_norm = 0.3\n",
    "\n",
    "# Initial learning rate (AdamW optimizer)\n",
    "learning_rate = 2e-4\n",
    "\n",
    "# Weight decay to apply to all layers except bias/LayerNorm weights\n",
    "weight_decay = 0.001\n",
    "\n",
    "# Optimizer to use\n",
    "optim = \"paged_adamw_32bit\"\n",
    "\n",
    "# Learning rate schedule\n",
    "lr_scheduler_type = \"cosine\"\n",
    "\n",
    "# Number of training steps (overrides num_train_epochs)\n",
    "max_steps = -1\n",
    "\n",
    "# Ratio of steps for a linear warmup (from 0 to learning rate)\n",
    "warmup_ratio = 0.03\n",
    "\n",
    "# Group sequences into batches with same length\n",
    "# Saves memory and speeds up training considerably\n",
    "group_by_length = True\n",
    "\n",
    "# Save checkpoint every X updates steps\n",
    "save_steps = 0\n",
    "\n",
    "# Log every X updates steps\n",
    "logging_steps = 25\n",
    "\n",
    "################################################################################\n",
    "# SFT parameters\n",
    "################################################################################\n",
    "\n",
    "# Maximum sequence length to use\n",
    "max_seq_length = None\n",
    "\n",
    "# Pack multiple short examples in the same input sequence to increase efficiency\n",
    "packing = False\n",
    "\n",
    "# Load the entire model on the GPU 0\n",
    "device_map = {\"\": 0}"
   ]
  },
  {
   "cell_type": "code",
   "execution_count": null,
   "metadata": {
    "colab": {
     "base_uri": "https://localhost:8080/",
     "height": 137,
     "referenced_widgets": [
      "792a2474ba1f4a5c8418698bd7103cc7",
      "989f2bc212744e59ac651fdb8dec08cb",
      "786e2902ab8b4ef583d789272e60d701",
      "af7da2aba4e2496e9f14eec30dd7193d",
      "3df52597902f4d4dbe897b95cff52e77",
      "b2cf72b61b574163abc0699bb6af8e37",
      "6dee642049034dbc84229eba9d80de31",
      "888385b0e36048aa8e6a7009847f99c3",
      "e6aa806af46d42e5bc81b6de26767622",
      "70d1571731124a899a562f02049c5e38",
      "25b032d2fa0d47f3a7a31945cbf6c9ac",
      "ed2dd62b959b424589829892b0c1f5cb",
      "8b54ace0a94041739a0b73505fd3e5ee",
      "aaadaef7175e477ba78405824d7c64bb",
      "5395feab00e6405bbda570eb9e0480b2",
      "a07c54c9b77c42fc842a6185a0f5b17b",
      "66c87bb07a334045b2fbedd6b6e1b84c",
      "8283edca554e451a8a5067571e1d1091",
      "50f3e16bf47e411db27d0bf8bad6ae30",
      "119cb55f52ce45d0810a69016fb3f0e4",
      "7794537b72f842869e9133495d33e80a",
      "d3e7faea1ade475f888dd3ed7e75eb2e"
     ]
    },
    "executionInfo": {
     "elapsed": 33140,
     "status": "ok",
     "timestamp": 1698654152440,
     "user": {
      "displayName": "Aishwarya Agrawal",
      "userId": "02157546517471328250"
     },
     "user_tz": 240
    },
    "id": "kxjY7UlCrAOl",
    "outputId": "aa8d6d48-3a40-4d1e-af26-d95712c95145"
   },
   "outputs": [
    {
     "data": {
      "application/vnd.jupyter.widget-view+json": {
       "model_id": "792a2474ba1f4a5c8418698bd7103cc7",
       "version_major": 2,
       "version_minor": 0
      },
      "text/plain": [
       "Loading checkpoint shards:   0%|          | 0/2 [00:00<?, ?it/s]"
      ]
     },
     "metadata": {},
     "output_type": "display_data"
    },
    {
     "data": {
      "application/vnd.jupyter.widget-view+json": {
       "model_id": "ed2dd62b959b424589829892b0c1f5cb",
       "version_major": 2,
       "version_minor": 0
      },
      "text/plain": [
       "Map:   0%|          | 0/2 [00:00<?, ? examples/s]"
      ]
     },
     "metadata": {},
     "output_type": "display_data"
    },
    {
     "name": "stdout",
     "output_type": "stream",
     "text": [
      "{'loss': 1.4388, 'learning_rate': 4.735678371226441e-05, 'epoch': 2.78}\n",
      "{'train_runtime': 17.137, 'train_samples_per_second': 4.201, 'train_steps_per_second': 2.101, 'train_loss': 1.2214988867441814, 'epoch': 4.0}\n"
     ]
    }
   ],
   "source": [
    "# Load datasets\n",
    "train_dataset = load_dataset('json', data_files='/content/drive/MyDrive/grocer_ease2/train.jsonl', split=\"train\")\n",
    "valid_dataset = load_dataset('json', data_files='/content/drive/MyDrive/grocer_ease2/test.jsonl', split=\"train\")\n",
    "\n",
    "# Preprocess datasets\n",
    "train_dataset_mapped = train_dataset.map(lambda examples: {'text': [f'[INST] <<SYS>>\\n{system_message.strip()}\\n<</SYS>>\\n\\n' + prompt + ' [/INST] ' + response for prompt, response in zip(examples['prompt'], examples['response'])]}, batched=True)\n",
    "valid_dataset_mapped = valid_dataset.map(lambda examples: {'text': [f'[INST] <<SYS>>\\n{system_message.strip()}\\n<</SYS>>\\n\\n' + prompt + ' [/INST] ' + response for prompt, response in zip(examples['prompt'], examples['response'])]}, batched=True)\n",
    "\n",
    "# Load tokenizer and model with QLoRA configuration\n",
    "compute_dtype = getattr(torch, bnb_4bit_compute_dtype)\n",
    "\n",
    "bnb_config = BitsAndBytesConfig(\n",
    "    load_in_4bit=use_4bit,\n",
    "    bnb_4bit_quant_type=bnb_4bit_quant_type,\n",
    "    bnb_4bit_compute_dtype=compute_dtype,\n",
    "    bnb_4bit_use_double_quant=use_nested_quant,\n",
    ")\n",
    "\n",
    "# Check GPU compatibility with bfloat16\n",
    "if compute_dtype == torch.float16 and use_4bit:\n",
    "    major, _ = torch.cuda.get_device_capability()\n",
    "    if major >= 8:\n",
    "        print(\"=\" * 80)\n",
    "        print(\"Your GPU supports bfloat16: accelerate training with bf16=True\")\n",
    "        print(\"=\" * 80)\n",
    "\n",
    "# Load base model\n",
    "model = AutoModelForCausalLM.from_pretrained(\n",
    "    model_name,\n",
    "    quantization_config=bnb_config,\n",
    "    device_map=device_map\n",
    ")\n",
    "model.config.use_cache = False\n",
    "model.config.pretraining_tp = 1\n",
    "\n",
    "# Load LLaMA tokenizer\n",
    "tokenizer = AutoTokenizer.from_pretrained(model_name, trust_remote_code=True)\n",
    "tokenizer.pad_token = tokenizer.eos_token\n",
    "tokenizer.padding_side = \"right\" # Fix weird overflow issue with fp16 training\n",
    "\n",
    "# Load LoRA configuration\n",
    "peft_config = LoraConfig(\n",
    "    lora_alpha=lora_alpha,\n",
    "    lora_dropout=lora_dropout,\n",
    "    r=lora_r,\n",
    "    bias=\"none\",\n",
    "    task_type=\"CAUSAL_LM\",\n",
    ")\n",
    "\n",
    "# Set training parameters\n",
    "training_arguments = TrainingArguments(\n",
    "    output_dir=output_dir,\n",
    "    num_train_epochs=num_train_epochs,\n",
    "    per_device_train_batch_size=per_device_train_batch_size,\n",
    "    gradient_accumulation_steps=gradient_accumulation_steps,\n",
    "    optim=optim,\n",
    "    save_steps=save_steps,\n",
    "    logging_steps=logging_steps,\n",
    "    learning_rate=learning_rate,\n",
    "    weight_decay=weight_decay,\n",
    "    fp16=fp16,\n",
    "    bf16=bf16,\n",
    "    max_grad_norm=max_grad_norm,\n",
    "    max_steps=max_steps,\n",
    "    warmup_ratio=warmup_ratio,\n",
    "    group_by_length=group_by_length,\n",
    "    lr_scheduler_type=lr_scheduler_type,\n",
    "    report_to=\"tensorboard\"\n",
    ")\n",
    "\n",
    "# Set supervised fine-tuning parameters\n",
    "trainer = SFTTrainer(\n",
    "    model=model,\n",
    "    train_dataset=train_dataset_mapped,\n",
    "    eval_dataset=valid_dataset_mapped,  # Pass validation dataset here\n",
    "    peft_config=peft_config,\n",
    "    dataset_text_field=\"text\",\n",
    "    max_seq_length=max_seq_length,\n",
    "    tokenizer=tokenizer,\n",
    "    args=training_arguments,\n",
    "    packing=packing,\n",
    ")\n",
    "\n",
    "# Train model\n",
    "trainer.train()\n",
    "\n",
    "# Save trained model\n",
    "trainer.model.save_pretrained(new_model)\n",
    "\n"
   ]
  },
  {
   "cell_type": "code",
   "execution_count": null,
   "metadata": {
    "colab": {
     "base_uri": "https://localhost:8080/"
    },
    "executionInfo": {
     "elapsed": 16553,
     "status": "ok",
     "timestamp": 1698654182590,
     "user": {
      "displayName": "Aishwarya Agrawal",
      "userId": "02157546517471328250"
     },
     "user_tz": 240
    },
    "id": "JYCozmphi6Dt",
    "outputId": "5eec67d2-7d9e-41ca-ba0a-c67ced18088e"
   },
   "outputs": [
    {
     "name": "stdout",
     "output_type": "stream",
     "text": [
      "[INST] <<SYS>>\n",
      "Given an event name, generate a list of food item suggestions suitable for that event.\n",
      "<</SYS>>\n",
      "\n",
      " what should I prepare for halloween [/INST]  Great! Here are some food item suggestions that are perfect for a spooky Halloween party:\n",
      "\n",
      "1. Pumpkin-themed treats: Pumpkin pie, pumpkin bread, pumpkin bread pudding, pumpkin spice latte, pumpkin-shaped cookies, pumpkin-themed cupcakes.\n",
      "2. Spooky snacks: Ghostly deviled eggs, witches' brew (a green-colored punch), spider web (a cheese and crackers platter), monster eyes (deviled eggs with black olives), bats (chocolate-dipped strawberries).\n",
      "3. Creepy\n"
     ]
    }
   ],
   "source": [
    "# Cell 4: Test the model\n",
    "logging.set_verbosity(logging.CRITICAL)\n",
    "prompt = f\"[INST] <<SYS>>\\n{system_message}\\n<</SYS>>\\n\\n what should I prepare for halloween [/INST]\" # replace the command here with something relevant to your task\n",
    "pipe = pipeline(task=\"text-generation\", model=model, tokenizer=tokenizer, max_length=200)\n",
    "result = pipe(prompt)\n",
    "print(result[0]['generated_text'])"
   ]
  },
  {
   "cell_type": "code",
   "execution_count": null,
   "metadata": {
    "colab": {
     "base_uri": "https://localhost:8080/"
    },
    "executionInfo": {
     "elapsed": 15771,
     "status": "ok",
     "timestamp": 1698654213429,
     "user": {
      "displayName": "Aishwarya Agrawal",
      "userId": "02157546517471328250"
     },
     "user_tz": 240
    },
    "id": "t0mw9bMNrCb3",
    "outputId": "7430abfb-da48-430f-d37f-927d3b018b77"
   },
   "outputs": [
    {
     "name": "stdout",
     "output_type": "stream",
     "text": [
      "[INST] <<SYS>>\n",
      "Given an event name, generate a list of food item suggestions suitable for that event.\n",
      "<</SYS>>\n",
      "\n",
      "Write the recipes and foods associated with the event diwali. [/INST]  Sure, here are some traditional food suggestions for Diwali:\n",
      "\n",
      "1. Sweets:\n",
      "\t* Gulab Jamun\n",
      "\t* Jalebi\n",
      "\t* Barfi\n",
      "\t* Ladoo\n",
      "\t* Mysore Pak\n",
      "\t* Petha\n",
      "\t* Chakli\n",
      "\t* Dhokla\n",
      "\t* Kheer\n",
      "\t* Payasam\n",
      "2. Savory Snacks:\n",
      "\t* Samosas\n",
      "\t* Chaat\n",
      "\t* Papdi Chaat\n",
      "\t* Dahi Vada\n",
      "\t* Chole Bhature\n",
      "\t* Aloo Tikki\n",
      "\t* Kachoris\n",
      "\t* Chivda\n",
      "\t* Bh\n"
     ]
    }
   ],
   "source": [
    "logging.set_verbosity(logging.CRITICAL)\n",
    "prompt = f\"[INST] <<SYS>>\\n{system_message}\\n<</SYS>>\\n\\nWrite the recipes and foods associated with the event diwali. [/INST]\" # replace the command here with something relevant to your task\n",
    "pipe = pipeline(task=\"text-generation\", model=model, tokenizer=tokenizer, max_length=200)\n",
    "result = pipe(prompt)\n",
    "print(result[0]['generated_text'])"
   ]
  },
  {
   "cell_type": "code",
   "execution_count": null,
   "metadata": {
    "colab": {
     "base_uri": "https://localhost:8080/"
    },
    "executionInfo": {
     "elapsed": 58323,
     "status": "ok",
     "timestamp": 1698654275075,
     "user": {
      "displayName": "Aishwarya Agrawal",
      "userId": "02157546517471328250"
     },
     "user_tz": 240
    },
    "id": "53h74Wu0r9GN",
    "outputId": "1590a9c1-31ba-4c78-b7d0-73868dfdeb7d"
   },
   "outputs": [
    {
     "name": "stdout",
     "output_type": "stream",
     "text": [
      "  Sure, here are some traditional Indian food items that are commonly associated with the Hindu festival of Holi:\n",
      "\n",
      "1. Gujiyas - a sweet, fried doughnut-like snack that is typically served during Holi.\n",
      "2. Thandai - a cold drink made with milk, almonds, and spices, often served during Holi to cool down from the heat of the festival.\n",
      "3. Pani Puri - a popular street food in India, pani puri is a snack made with crispy bread, spicy water, and a variety of toppings such as potatoes, onions, and chickpeas.\n",
      "4. Mathri - a crunchy, savory snack made with wheat flour, water, and spices, often served during Holi.\n",
      "5. Gajar Ka Halwa - a sweet, slow-cooked carrot pudding that is a popular dish during Holi.\n",
      "6. Jalebi - a sweet, deep-fried doughnut that is often served during Holi.\n",
      "7. Kachoris - a crispy, savory snack made with wheat flour, water, and spices, often served during Holi.\n",
      "8. Chole Bhature - a spicy chickpea curry served with a deep-fried bread called bhature, which is often enjoyed during Holi.\n",
      "9. Papad - a thin, crispy bread made from lentil flour, often served during Holi as a snack or appetizer.\n",
      "10. Kheer - a sweet, creamy rice pudding that is often served during Holi.\n",
      "\n",
      "These are just a few examples of the many delicious foods that are traditionally enjoyed during Holi in India. The festival is a time for celebration and feasting, and there are many other dishes that are commonly enjoyed during this time.\n"
     ]
    }
   ],
   "source": [
    "\n",
    "prompt = f\"[INST] <<SYS>>\\n{system_message}\\n<</SYS>>\\n\\nGive the relevant foods associated with holi. [/INST]\" # replace the command here with something relevant to your task\n",
    "num_new_tokens = 500  # change to the number of new tokens you want to generate\n",
    "\n",
    "# Count the number of tokens in the prompt\n",
    "num_prompt_tokens = len(tokenizer(prompt)['input_ids'])\n",
    "\n",
    "# Calculate the maximum length for the generation\n",
    "max_length = num_prompt_tokens + num_new_tokens\n",
    "\n",
    "gen = pipeline('text-generation', model=model, tokenizer=tokenizer, max_length=max_length)\n",
    "result = gen(prompt)\n",
    "print(result[0]['generated_text'].replace(prompt, ''))"
   ]
  },
  {
   "cell_type": "code",
   "execution_count": null,
   "metadata": {
    "colab": {
     "base_uri": "https://localhost:8080/"
    },
    "executionInfo": {
     "elapsed": 473,
     "status": "ok",
     "timestamp": 1698654377422,
     "user": {
      "displayName": "Aishwarya Agrawal",
      "userId": "02157546517471328250"
     },
     "user_tz": 240
    },
    "id": "Ez3CCQJnsO4R",
    "outputId": "f4882e73-c54f-4f3f-a245-75b2244cb7b7"
   },
   "outputs": [
    {
     "data": {
      "text/plain": [
       "0"
      ]
     },
     "execution_count": 32,
     "metadata": {},
     "output_type": "execute_result"
    }
   ],
   "source": [
    "# Empty VRAM\n",
    "# del model\n",
    "# del pipe\n",
    "# del trainer\n",
    "import gc\n",
    "gc.collect()\n",
    "gc.collect()"
   ]
  },
  {
   "cell_type": "code",
   "execution_count": null,
   "metadata": {
    "colab": {
     "base_uri": "https://localhost:8080/",
     "height": 503,
     "referenced_widgets": [
      "90c21749da934ba799367157148b9d16",
      "d56c9dadc0a84b2ca7fc2d359c0d5dd5",
      "3c3fbf667bba455f8aa445887d538d99",
      "cdb170379fd9449c9329666b6c3eda78",
      "9890c3aeca9e48bf821b1e8e13fdcce9",
      "2930ffae180f47cfb8ac6abddb3d38e6",
      "3e7babcb85a64c59b1229b49f389ec4b",
      "acc4e4b6e23642f2badaafa85897a68b",
      "a90434e69cb743a8bfae0dd4a271a769",
      "e052be635408461f8b2c433db8b8527f",
      "0e5eac3d8fe24233a4f1c1191bc26d4b"
     ]
    },
    "executionInfo": {
     "elapsed": 465,
     "status": "error",
     "timestamp": 1698654380000,
     "user": {
      "displayName": "Aishwarya Agrawal",
      "userId": "02157546517471328250"
     },
     "user_tz": 240
    },
    "id": "vBdyCNjNsmj7",
    "outputId": "1783ae3c-09cc-4cef-afd6-5b671859c749"
   },
   "outputs": [
    {
     "data": {
      "application/vnd.jupyter.widget-view+json": {
       "model_id": "90c21749da934ba799367157148b9d16",
       "version_major": 2,
       "version_minor": 0
      },
      "text/plain": [
       "Loading checkpoint shards:   0%|          | 0/2 [00:00<?, ?it/s]"
      ]
     },
     "metadata": {},
     "output_type": "display_data"
    },
    {
     "ename": "OutOfMemoryError",
     "evalue": "ignored",
     "output_type": "error",
     "traceback": [
      "\u001b[0;31m---------------------------------------------------------------------------\u001b[0m",
      "\u001b[0;31mOutOfMemoryError\u001b[0m                          Traceback (most recent call last)",
      "\u001b[0;32m<ipython-input-33-d99ab57ff2b0>\u001b[0m in \u001b[0;36m<cell line: 8>\u001b[0;34m()\u001b[0m\n\u001b[1;32m      6\u001b[0m \u001b[0;34m\u001b[0m\u001b[0m\n\u001b[1;32m      7\u001b[0m \u001b[0;31m# Reload model in FP16 and merge it with LoRA weights\u001b[0m\u001b[0;34m\u001b[0m\u001b[0;34m\u001b[0m\u001b[0m\n\u001b[0;32m----> 8\u001b[0;31m base_model = AutoModelForCausalLM.from_pretrained(\n\u001b[0m\u001b[1;32m      9\u001b[0m     \u001b[0mmodel_name\u001b[0m\u001b[0;34m,\u001b[0m\u001b[0;34m\u001b[0m\u001b[0;34m\u001b[0m\u001b[0m\n\u001b[1;32m     10\u001b[0m     \u001b[0mlow_cpu_mem_usage\u001b[0m\u001b[0;34m=\u001b[0m\u001b[0;32mTrue\u001b[0m\u001b[0;34m,\u001b[0m\u001b[0;34m\u001b[0m\u001b[0;34m\u001b[0m\u001b[0m\n",
      "\u001b[0;32m/usr/local/lib/python3.10/dist-packages/transformers/models/auto/auto_factory.py\u001b[0m in \u001b[0;36mfrom_pretrained\u001b[0;34m(cls, pretrained_model_name_or_path, *model_args, **kwargs)\u001b[0m\n\u001b[1;32m    491\u001b[0m         \u001b[0;32melif\u001b[0m \u001b[0mtype\u001b[0m\u001b[0;34m(\u001b[0m\u001b[0mconfig\u001b[0m\u001b[0;34m)\u001b[0m \u001b[0;32min\u001b[0m \u001b[0mcls\u001b[0m\u001b[0;34m.\u001b[0m\u001b[0m_model_mapping\u001b[0m\u001b[0;34m.\u001b[0m\u001b[0mkeys\u001b[0m\u001b[0;34m(\u001b[0m\u001b[0;34m)\u001b[0m\u001b[0;34m:\u001b[0m\u001b[0;34m\u001b[0m\u001b[0;34m\u001b[0m\u001b[0m\n\u001b[1;32m    492\u001b[0m             \u001b[0mmodel_class\u001b[0m \u001b[0;34m=\u001b[0m \u001b[0m_get_model_class\u001b[0m\u001b[0;34m(\u001b[0m\u001b[0mconfig\u001b[0m\u001b[0;34m,\u001b[0m \u001b[0mcls\u001b[0m\u001b[0;34m.\u001b[0m\u001b[0m_model_mapping\u001b[0m\u001b[0;34m)\u001b[0m\u001b[0;34m\u001b[0m\u001b[0;34m\u001b[0m\u001b[0m\n\u001b[0;32m--> 493\u001b[0;31m             return model_class.from_pretrained(\n\u001b[0m\u001b[1;32m    494\u001b[0m                 \u001b[0mpretrained_model_name_or_path\u001b[0m\u001b[0;34m,\u001b[0m \u001b[0;34m*\u001b[0m\u001b[0mmodel_args\u001b[0m\u001b[0;34m,\u001b[0m \u001b[0mconfig\u001b[0m\u001b[0;34m=\u001b[0m\u001b[0mconfig\u001b[0m\u001b[0;34m,\u001b[0m \u001b[0;34m**\u001b[0m\u001b[0mhub_kwargs\u001b[0m\u001b[0;34m,\u001b[0m \u001b[0;34m**\u001b[0m\u001b[0mkwargs\u001b[0m\u001b[0;34m\u001b[0m\u001b[0;34m\u001b[0m\u001b[0m\n\u001b[1;32m    495\u001b[0m             )\n",
      "\u001b[0;32m/usr/local/lib/python3.10/dist-packages/transformers/modeling_utils.py\u001b[0m in \u001b[0;36mfrom_pretrained\u001b[0;34m(cls, pretrained_model_name_or_path, config, cache_dir, ignore_mismatched_sizes, force_download, local_files_only, token, revision, use_safetensors, *model_args, **kwargs)\u001b[0m\n\u001b[1;32m   2901\u001b[0m                 \u001b[0moffload_index\u001b[0m\u001b[0;34m,\u001b[0m\u001b[0;34m\u001b[0m\u001b[0;34m\u001b[0m\u001b[0m\n\u001b[1;32m   2902\u001b[0m                 \u001b[0merror_msgs\u001b[0m\u001b[0;34m,\u001b[0m\u001b[0;34m\u001b[0m\u001b[0;34m\u001b[0m\u001b[0m\n\u001b[0;32m-> 2903\u001b[0;31m             \u001b[0;34m)\u001b[0m \u001b[0;34m=\u001b[0m \u001b[0mcls\u001b[0m\u001b[0;34m.\u001b[0m\u001b[0m_load_pretrained_model\u001b[0m\u001b[0;34m(\u001b[0m\u001b[0;34m\u001b[0m\u001b[0;34m\u001b[0m\u001b[0m\n\u001b[0m\u001b[1;32m   2904\u001b[0m                 \u001b[0mmodel\u001b[0m\u001b[0;34m,\u001b[0m\u001b[0;34m\u001b[0m\u001b[0;34m\u001b[0m\u001b[0m\n\u001b[1;32m   2905\u001b[0m                 \u001b[0mstate_dict\u001b[0m\u001b[0;34m,\u001b[0m\u001b[0;34m\u001b[0m\u001b[0;34m\u001b[0m\u001b[0m\n",
      "\u001b[0;32m/usr/local/lib/python3.10/dist-packages/transformers/modeling_utils.py\u001b[0m in \u001b[0;36m_load_pretrained_model\u001b[0;34m(cls, model, state_dict, loaded_keys, resolved_archive_file, pretrained_model_name_or_path, ignore_mismatched_sizes, sharded_metadata, _fast_init, low_cpu_mem_usage, device_map, offload_folder, offload_state_dict, dtype, is_quantized, keep_in_fp32_modules)\u001b[0m\n\u001b[1;32m   3258\u001b[0m \u001b[0;34m\u001b[0m\u001b[0m\n\u001b[1;32m   3259\u001b[0m                 \u001b[0;32mif\u001b[0m \u001b[0mlow_cpu_mem_usage\u001b[0m\u001b[0;34m:\u001b[0m\u001b[0;34m\u001b[0m\u001b[0;34m\u001b[0m\u001b[0m\n\u001b[0;32m-> 3260\u001b[0;31m                     new_error_msgs, offload_index, state_dict_index = _load_state_dict_into_meta_model(\n\u001b[0m\u001b[1;32m   3261\u001b[0m                         \u001b[0mmodel_to_load\u001b[0m\u001b[0;34m,\u001b[0m\u001b[0;34m\u001b[0m\u001b[0;34m\u001b[0m\u001b[0m\n\u001b[1;32m   3262\u001b[0m                         \u001b[0mstate_dict\u001b[0m\u001b[0;34m,\u001b[0m\u001b[0;34m\u001b[0m\u001b[0;34m\u001b[0m\u001b[0m\n",
      "\u001b[0;32m/usr/local/lib/python3.10/dist-packages/transformers/modeling_utils.py\u001b[0m in \u001b[0;36m_load_state_dict_into_meta_model\u001b[0;34m(model, state_dict, loaded_state_dict_keys, start_prefix, expected_keys, device_map, offload_folder, offload_index, state_dict_folder, state_dict_index, dtype, is_quantized, is_safetensors, keep_in_fp32_modules)\u001b[0m\n\u001b[1;32m    715\u001b[0m         \u001b[0;32melif\u001b[0m \u001b[0;32mnot\u001b[0m \u001b[0mis_quantized\u001b[0m\u001b[0;34m:\u001b[0m\u001b[0;34m\u001b[0m\u001b[0;34m\u001b[0m\u001b[0m\n\u001b[1;32m    716\u001b[0m             \u001b[0;31m# For backward compatibility with older versions of `accelerate`\u001b[0m\u001b[0;34m\u001b[0m\u001b[0;34m\u001b[0m\u001b[0m\n\u001b[0;32m--> 717\u001b[0;31m             \u001b[0mset_module_tensor_to_device\u001b[0m\u001b[0;34m(\u001b[0m\u001b[0mmodel\u001b[0m\u001b[0;34m,\u001b[0m \u001b[0mparam_name\u001b[0m\u001b[0;34m,\u001b[0m \u001b[0mparam_device\u001b[0m\u001b[0;34m,\u001b[0m \u001b[0;34m**\u001b[0m\u001b[0mset_module_kwargs\u001b[0m\u001b[0;34m)\u001b[0m\u001b[0;34m\u001b[0m\u001b[0;34m\u001b[0m\u001b[0m\n\u001b[0m\u001b[1;32m    718\u001b[0m         \u001b[0;32melse\u001b[0m\u001b[0;34m:\u001b[0m\u001b[0;34m\u001b[0m\u001b[0;34m\u001b[0m\u001b[0m\n\u001b[1;32m    719\u001b[0m             \u001b[0;32mif\u001b[0m \u001b[0mparam\u001b[0m\u001b[0;34m.\u001b[0m\u001b[0mdtype\u001b[0m \u001b[0;34m==\u001b[0m \u001b[0mtorch\u001b[0m\u001b[0;34m.\u001b[0m\u001b[0mint8\u001b[0m \u001b[0;32mand\u001b[0m \u001b[0mparam_name\u001b[0m\u001b[0;34m.\u001b[0m\u001b[0mreplace\u001b[0m\u001b[0;34m(\u001b[0m\u001b[0;34m\"weight\"\u001b[0m\u001b[0;34m,\u001b[0m \u001b[0;34m\"SCB\"\u001b[0m\u001b[0;34m)\u001b[0m \u001b[0;32min\u001b[0m \u001b[0mstate_dict\u001b[0m\u001b[0;34m.\u001b[0m\u001b[0mkeys\u001b[0m\u001b[0;34m(\u001b[0m\u001b[0;34m)\u001b[0m\u001b[0;34m:\u001b[0m\u001b[0;34m\u001b[0m\u001b[0;34m\u001b[0m\u001b[0m\n",
      "\u001b[0;32m/usr/local/lib/python3.10/dist-packages/accelerate/utils/modeling.py\u001b[0m in \u001b[0;36mset_module_tensor_to_device\u001b[0;34m(module, tensor_name, device, value, dtype, fp16_statistics)\u001b[0m\n\u001b[1;32m    296\u001b[0m                     \u001b[0mmodule\u001b[0m\u001b[0;34m.\u001b[0m\u001b[0m_parameters\u001b[0m\u001b[0;34m[\u001b[0m\u001b[0mtensor_name\u001b[0m\u001b[0;34m]\u001b[0m \u001b[0;34m=\u001b[0m \u001b[0mparam_cls\u001b[0m\u001b[0;34m(\u001b[0m\u001b[0mnew_value\u001b[0m\u001b[0;34m,\u001b[0m \u001b[0mrequires_grad\u001b[0m\u001b[0;34m=\u001b[0m\u001b[0mold_value\u001b[0m\u001b[0;34m.\u001b[0m\u001b[0mrequires_grad\u001b[0m\u001b[0;34m)\u001b[0m\u001b[0;34m\u001b[0m\u001b[0;34m\u001b[0m\u001b[0m\n\u001b[1;32m    297\u001b[0m         \u001b[0;32melif\u001b[0m \u001b[0misinstance\u001b[0m\u001b[0;34m(\u001b[0m\u001b[0mvalue\u001b[0m\u001b[0;34m,\u001b[0m \u001b[0mtorch\u001b[0m\u001b[0;34m.\u001b[0m\u001b[0mTensor\u001b[0m\u001b[0;34m)\u001b[0m\u001b[0;34m:\u001b[0m\u001b[0;34m\u001b[0m\u001b[0;34m\u001b[0m\u001b[0m\n\u001b[0;32m--> 298\u001b[0;31m             \u001b[0mnew_value\u001b[0m \u001b[0;34m=\u001b[0m \u001b[0mvalue\u001b[0m\u001b[0;34m.\u001b[0m\u001b[0mto\u001b[0m\u001b[0;34m(\u001b[0m\u001b[0mdevice\u001b[0m\u001b[0;34m)\u001b[0m\u001b[0;34m\u001b[0m\u001b[0;34m\u001b[0m\u001b[0m\n\u001b[0m\u001b[1;32m    299\u001b[0m         \u001b[0;32melse\u001b[0m\u001b[0;34m:\u001b[0m\u001b[0;34m\u001b[0m\u001b[0;34m\u001b[0m\u001b[0m\n\u001b[1;32m    300\u001b[0m             \u001b[0mnew_value\u001b[0m \u001b[0;34m=\u001b[0m \u001b[0mtorch\u001b[0m\u001b[0;34m.\u001b[0m\u001b[0mtensor\u001b[0m\u001b[0;34m(\u001b[0m\u001b[0mvalue\u001b[0m\u001b[0;34m,\u001b[0m \u001b[0mdevice\u001b[0m\u001b[0;34m=\u001b[0m\u001b[0mdevice\u001b[0m\u001b[0;34m)\u001b[0m\u001b[0;34m\u001b[0m\u001b[0;34m\u001b[0m\u001b[0m\n",
      "\u001b[0;31mOutOfMemoryError\u001b[0m: CUDA out of memory. Tried to allocate 250.00 MiB. GPU 0 has a total capacty of 15.77 GiB of which 18.12 MiB is free. Process 32121 has 15.72 GiB memory in use. Of the allocated memory 14.31 GiB is allocated by PyTorch, and 159.53 MiB is reserved by PyTorch but unallocated. If reserved but unallocated memory is large try setting max_split_size_mb to avoid fragmentation.  See documentation for Memory Management and PYTORCH_CUDA_ALLOC_CONF"
     ]
    }
   ],
   "source": [
    "# Merge and save the fine-tuned model\n",
    "from google.colab import drive\n",
    "# drive.mount('/content/drive')\n",
    "\n",
    "model_path = \"/content/drive/MyDrive/grocer_ease2/model\"\n",
    "\n",
    "# Reload model in FP16 and merge it with LoRA weights\n",
    "base_model = AutoModelForCausalLM.from_pretrained(\n",
    "    model_name,\n",
    "    low_cpu_mem_usage=True,\n",
    "    return_dict=True,\n",
    "    torch_dtype=torch.float16,\n",
    "    device_map=device_map,\n",
    ")\n",
    "model = PeftModel.from_pretrained(base_model, new_model)\n",
    "model = model.merge_and_unload()\n",
    "\n",
    "# Reload tokenizer to save it\n",
    "tokenizer = AutoTokenizer.from_pretrained(model_name, trust_remote_code=True)\n",
    "tokenizer.pad_token = tokenizer.eos_token\n",
    "tokenizer.padding_side = \"right\"\n",
    "\n",
    "# Save the merged model\n",
    "model.save_pretrained(model_path)\n",
    "tokenizer.save_pretrained(model_path)"
   ]
  },
  {
   "cell_type": "code",
   "execution_count": null,
   "metadata": {
    "colab": {
     "base_uri": "https://localhost:8080/"
    },
    "executionInfo": {
     "elapsed": 43824,
     "status": "ok",
     "timestamp": 1698641298089,
     "user": {
      "displayName": "Aishwarya Agrawal",
      "userId": "02157546517471328250"
     },
     "user_tz": 240
    },
    "id": "ApmrIT_stC-e",
    "outputId": "aff7b5bb-9ff5-41f3-bfdf-8930cc3b6d26"
   },
   "outputs": [
    {
     "data": {
      "text/plain": [
       "('/content/llama-2-7b-custom/tokenizer_config.json',\n",
       " '/content/llama-2-7b-custom/special_tokens_map.json',\n",
       " '/content/llama-2-7b-custom/tokenizer.json')"
      ]
     },
     "execution_count": 34,
     "metadata": {},
     "output_type": "execute_result"
    }
   ],
   "source": [
    "# drive.mount('/content/drive')\n",
    "\n",
    "model_path = \"/content/llama-2-7b-custom\"  # change to your preferred path\n",
    "\n",
    "# Save the merged model\n",
    "model.save_pretrained(model_path)\n",
    "tokenizer.save_pretrained(model_path)"
   ]
  },
  {
   "cell_type": "code",
   "execution_count": null,
   "metadata": {
    "colab": {
     "base_uri": "https://localhost:8080/",
     "height": 77,
     "referenced_widgets": [
      "4dc44d5b9a75499d9f59ce8af6418c63",
      "2f167ecdda1a416db5f365712955bc04",
      "22aaca7872794e11bf72c711d590eb7a",
      "84d29f919f054699ab9371d0394adf7b",
      "d764b8baba1541f986fa2c9852bf04ab",
      "5b8a3b1a9ac840be8c35f46057a85310",
      "c976f7c162164f22b0e64df6475fa0fd",
      "875e7a74f40f43f489b6a3f064fef769",
      "35a595e825264751b090b25e20a3e32f",
      "10ea851d96e540e5a91e310ce249d57a",
      "295002c817b34480a54d9e6d1797e50e"
     ]
    },
    "executionInfo": {
     "elapsed": 123950,
     "status": "ok",
     "timestamp": 1698641446092,
     "user": {
      "displayName": "Aishwarya Agrawal",
      "userId": "02157546517471328250"
     },
     "user_tz": 240
    },
    "id": "GfVRbAfQ14U2",
    "outputId": "f7cff272-07b4-4851-a98e-a285895b686c"
   },
   "outputs": [
    {
     "data": {
      "application/vnd.jupyter.widget-view+json": {
       "model_id": "4dc44d5b9a75499d9f59ce8af6418c63",
       "version_major": 2,
       "version_minor": 0
      },
      "text/plain": [
       "Loading checkpoint shards:   0%|          | 0/2 [00:00<?, ?it/s]"
      ]
     },
     "metadata": {},
     "output_type": "display_data"
    }
   ],
   "source": [
    "\n",
    "# from google.colab import drive\n",
    "# from transformers import AutoModelForCausalLM, AutoTokenizer\n",
    "\n",
    "# drive.mount('/content/drive')\n",
    "\n",
    "model_path = \"/content/llama-2-7b-custom\"  # change to the path where model is saved\n",
    "\n",
    "model = AutoModelForCausalLM.from_pretrained(model_path)\n",
    "tokenizer = AutoTokenizer.from_pretrained(model_path)"
   ]
  },
  {
   "cell_type": "code",
   "execution_count": null,
   "metadata": {
    "colab": {
     "base_uri": "https://localhost:8080/"
    },
    "executionInfo": {
     "elapsed": 90723,
     "status": "ok",
     "timestamp": 1698643754548,
     "user": {
      "displayName": "Aishwarya Agrawal",
      "userId": "02157546517471328250"
     },
     "user_tz": 240
    },
    "id": "_VmYmz2b2PQf",
    "outputId": "71539983-8611-4954-f28b-1e3f025a693f"
   },
   "outputs": [
    {
     "name": "stdout",
     "output_type": "stream",
     "text": [
      "[{'generated_text': 'Write the recipes and foods associated with the event diwali.\\nDiwali, the festival of lights, is a significant event in Hinduism and is celebrated with great enthusiasm and joy across the world. It is a five-day festival that starts on the 13th day of the Hindu month of Ashvina and ends on the 18th day of the month of Kartika. During this festival, people clean their homes, decorate them with diyas (small clay lamps), and exchange gifts and sweets with their loved ones.\\nHere are some recipes and foods associated with Diwali:\\n1. Sweets: Diwali is a time for indulging in delicious sweets and savouries. Some popular sweets include laddu (a ball-shaped sweet made with flour, sugar, and ghee), barfi (a dense, sweet dessert'}]\n"
     ]
    }
   ],
   "source": [
    "\n",
    "from transformers import pipeline\n",
    "\n",
    "prompt = \"Write the recipes and foods associated with the event diwali\"  # change to your desired prompt\n",
    "gen = pipeline('text-generation', model=model, tokenizer=tokenizer, max_length = 200)\n",
    "result = gen(prompt)\n",
    "print(result)"
   ]
  },
  {
   "cell_type": "code",
   "execution_count": null,
   "metadata": {
    "id": "xvpg0UP52lX0"
   },
   "outputs": [],
   "source": [
    "\n",
    "import locale\n",
    "locale.getpreferredencoding = lambda: \"UTF-8\""
   ]
  },
  {
   "cell_type": "code",
   "execution_count": null,
   "metadata": {
    "colab": {
     "base_uri": "https://localhost:8080/"
    },
    "executionInfo": {
     "elapsed": 11364,
     "status": "ok",
     "timestamp": 1698641924686,
     "user": {
      "displayName": "Aishwarya Agrawal",
      "userId": "02157546517471328250"
     },
     "user_tz": 240
    },
    "id": "ByeAgwYR75N8",
    "outputId": "122deaad-53ae-4f75-fe90-d5950ce2d248"
   },
   "outputs": [
    {
     "name": "stdout",
     "output_type": "stream",
     "text": [
      "\n",
      "    _|    _|  _|    _|    _|_|_|    _|_|_|  _|_|_|  _|      _|    _|_|_|      _|_|_|_|    _|_|      _|_|_|  _|_|_|_|\n",
      "    _|    _|  _|    _|  _|        _|          _|    _|_|    _|  _|            _|        _|    _|  _|        _|\n",
      "    _|_|_|_|  _|    _|  _|  _|_|  _|  _|_|    _|    _|  _|  _|  _|  _|_|      _|_|_|    _|_|_|_|  _|        _|_|_|\n",
      "    _|    _|  _|    _|  _|    _|  _|    _|    _|    _|    _|_|  _|    _|      _|        _|    _|  _|        _|\n",
      "    _|    _|    _|_|      _|_|_|    _|_|_|  _|_|_|  _|      _|    _|_|_|      _|        _|    _|    _|_|_|  _|_|_|_|\n",
      "    \n",
      "    To login, `huggingface_hub` requires a token generated from https://huggingface.co/settings/tokens .\n",
      "Token: \n",
      "Add token as git credential? (Y/n) y\n",
      "Token is valid (permission: write).\n",
      "\u001b[1m\u001b[31mCannot authenticate through git-credential as no helper is defined on your machine.\n",
      "You might have to re-authenticate when pushing to the Hugging Face Hub.\n",
      "Run the following command in your terminal in case you want to set the 'store' credential helper as default.\n",
      "\n",
      "git config --global credential.helper store\n",
      "\n",
      "Read https://git-scm.com/book/en/v2/Git-Tools-Credential-Storage for more details.\u001b[0m\n",
      "Token has not been saved to git credential helper.\n",
      "Your token has been saved to /root/.cache/huggingface/token\n",
      "Login successful\n"
     ]
    }
   ],
   "source": [
    "\n",
    "!huggingface-cli login\n",
    "\n",
    "# model.push_to_hub(\"MoinFaisal/llama-2-7b-custom\", check_pr=True)\n",
    "\n",
    "# tokenizer.push_to_hub(\"MoinFaisal/llama-2-7b-custom\",check_pr=True)\n"
   ]
  },
  {
   "cell_type": "code",
   "execution_count": null,
   "metadata": {
    "colab": {
     "base_uri": "https://localhost:8080/",
     "height": 488
    },
    "executionInfo": {
     "elapsed": 2305,
     "status": "error",
     "timestamp": 1698644099862,
     "user": {
      "displayName": "Aishwarya Agrawal",
      "userId": "02157546517471328250"
     },
     "user_tz": 240
    },
    "id": "eRjKAoYf79SO",
    "outputId": "a80b1e8d-e31d-4d87-bcc1-aedffcd5eb7a"
   },
   "outputs": [
    {
     "ename": "KeyboardInterrupt",
     "evalue": "ignored",
     "output_type": "error",
     "traceback": [
      "\u001b[0;31m---------------------------------------------------------------------------\u001b[0m",
      "\u001b[0;31mKeyboardInterrupt\u001b[0m                         Traceback (most recent call last)",
      "\u001b[0;32m<ipython-input-44-cc89d8c59c18>\u001b[0m in \u001b[0;36m<cell line: 1>\u001b[0;34m()\u001b[0m\n\u001b[0;32m----> 1\u001b[0;31m \u001b[0mmodel\u001b[0m\u001b[0;34m.\u001b[0m\u001b[0mpush_to_hub\u001b[0m\u001b[0;34m(\u001b[0m\u001b[0;34m\"aishwarya21/llama-2-7b-grocer_ease\"\u001b[0m\u001b[0;34m,\u001b[0m \u001b[0mcheck_pr\u001b[0m\u001b[0;34m=\u001b[0m\u001b[0;32mTrue\u001b[0m\u001b[0;34m)\u001b[0m\u001b[0;34m\u001b[0m\u001b[0;34m\u001b[0m\u001b[0m\n\u001b[0m\u001b[1;32m      2\u001b[0m \u001b[0;34m\u001b[0m\u001b[0m\n\u001b[1;32m      3\u001b[0m \u001b[0mtokenizer\u001b[0m\u001b[0;34m.\u001b[0m\u001b[0mpush_to_hub\u001b[0m\u001b[0;34m(\u001b[0m\u001b[0;34m\"aishwarya21/llama-2-7b-grocer-ease\"\u001b[0m\u001b[0;34m,\u001b[0m\u001b[0mcheck_pr\u001b[0m\u001b[0;34m=\u001b[0m\u001b[0;32mTrue\u001b[0m\u001b[0;34m)\u001b[0m\u001b[0;34m\u001b[0m\u001b[0;34m\u001b[0m\u001b[0m\n",
      "\u001b[0;32m/usr/local/lib/python3.10/dist-packages/transformers/utils/hub.py\u001b[0m in \u001b[0;36mpush_to_hub\u001b[0;34m(self, repo_id, use_temp_dir, commit_message, private, use_auth_token, max_shard_size, create_pr, safe_serialization, **deprecated_kwargs)\u001b[0m\n\u001b[1;32m    812\u001b[0m \u001b[0;34m\u001b[0m\u001b[0m\n\u001b[1;32m    813\u001b[0m             \u001b[0;31m# Save all files.\u001b[0m\u001b[0;34m\u001b[0m\u001b[0;34m\u001b[0m\u001b[0m\n\u001b[0;32m--> 814\u001b[0;31m             \u001b[0mself\u001b[0m\u001b[0;34m.\u001b[0m\u001b[0msave_pretrained\u001b[0m\u001b[0;34m(\u001b[0m\u001b[0mwork_dir\u001b[0m\u001b[0;34m,\u001b[0m \u001b[0mmax_shard_size\u001b[0m\u001b[0;34m=\u001b[0m\u001b[0mmax_shard_size\u001b[0m\u001b[0;34m,\u001b[0m \u001b[0msafe_serialization\u001b[0m\u001b[0;34m=\u001b[0m\u001b[0msafe_serialization\u001b[0m\u001b[0;34m)\u001b[0m\u001b[0;34m\u001b[0m\u001b[0;34m\u001b[0m\u001b[0m\n\u001b[0m\u001b[1;32m    815\u001b[0m \u001b[0;34m\u001b[0m\u001b[0m\n\u001b[1;32m    816\u001b[0m             return self._upload_modified_files(\n",
      "\u001b[0;32m/usr/local/lib/python3.10/dist-packages/transformers/modeling_utils.py\u001b[0m in \u001b[0;36msave_pretrained\u001b[0;34m(self, save_directory, is_main_process, state_dict, save_function, push_to_hub, max_shard_size, safe_serialization, variant, **kwargs)\u001b[0m\n\u001b[1;32m   1845\u001b[0m                 \u001b[0msafe_save_file\u001b[0m\u001b[0;34m(\u001b[0m\u001b[0mshard\u001b[0m\u001b[0;34m,\u001b[0m \u001b[0mos\u001b[0m\u001b[0;34m.\u001b[0m\u001b[0mpath\u001b[0m\u001b[0;34m.\u001b[0m\u001b[0mjoin\u001b[0m\u001b[0;34m(\u001b[0m\u001b[0msave_directory\u001b[0m\u001b[0;34m,\u001b[0m \u001b[0mshard_file\u001b[0m\u001b[0;34m)\u001b[0m\u001b[0;34m,\u001b[0m \u001b[0mmetadata\u001b[0m\u001b[0;34m=\u001b[0m\u001b[0;34m{\u001b[0m\u001b[0;34m\"format\"\u001b[0m\u001b[0;34m:\u001b[0m \u001b[0;34m\"pt\"\u001b[0m\u001b[0;34m}\u001b[0m\u001b[0;34m)\u001b[0m\u001b[0;34m\u001b[0m\u001b[0;34m\u001b[0m\u001b[0m\n\u001b[1;32m   1846\u001b[0m             \u001b[0;32melse\u001b[0m\u001b[0;34m:\u001b[0m\u001b[0;34m\u001b[0m\u001b[0;34m\u001b[0m\u001b[0m\n\u001b[0;32m-> 1847\u001b[0;31m                 \u001b[0msave_function\u001b[0m\u001b[0;34m(\u001b[0m\u001b[0mshard\u001b[0m\u001b[0;34m,\u001b[0m \u001b[0mos\u001b[0m\u001b[0;34m.\u001b[0m\u001b[0mpath\u001b[0m\u001b[0;34m.\u001b[0m\u001b[0mjoin\u001b[0m\u001b[0;34m(\u001b[0m\u001b[0msave_directory\u001b[0m\u001b[0;34m,\u001b[0m \u001b[0mshard_file\u001b[0m\u001b[0;34m)\u001b[0m\u001b[0;34m)\u001b[0m\u001b[0;34m\u001b[0m\u001b[0;34m\u001b[0m\u001b[0m\n\u001b[0m\u001b[1;32m   1848\u001b[0m \u001b[0;34m\u001b[0m\u001b[0m\n\u001b[1;32m   1849\u001b[0m         \u001b[0;32mif\u001b[0m \u001b[0mindex\u001b[0m \u001b[0;32mis\u001b[0m \u001b[0;32mNone\u001b[0m\u001b[0;34m:\u001b[0m\u001b[0;34m\u001b[0m\u001b[0;34m\u001b[0m\u001b[0m\n",
      "\u001b[0;32m/usr/local/lib/python3.10/dist-packages/torch/serialization.py\u001b[0m in \u001b[0;36msave\u001b[0;34m(obj, f, pickle_module, pickle_protocol, _use_new_zipfile_serialization, _disable_byteorder_record)\u001b[0m\n\u001b[1;32m    617\u001b[0m     \u001b[0;32mif\u001b[0m \u001b[0m_use_new_zipfile_serialization\u001b[0m\u001b[0;34m:\u001b[0m\u001b[0;34m\u001b[0m\u001b[0;34m\u001b[0m\u001b[0m\n\u001b[1;32m    618\u001b[0m         \u001b[0;32mwith\u001b[0m \u001b[0m_open_zipfile_writer\u001b[0m\u001b[0;34m(\u001b[0m\u001b[0mf\u001b[0m\u001b[0;34m)\u001b[0m \u001b[0;32mas\u001b[0m \u001b[0mopened_zipfile\u001b[0m\u001b[0;34m:\u001b[0m\u001b[0;34m\u001b[0m\u001b[0;34m\u001b[0m\u001b[0m\n\u001b[0;32m--> 619\u001b[0;31m             \u001b[0m_save\u001b[0m\u001b[0;34m(\u001b[0m\u001b[0mobj\u001b[0m\u001b[0;34m,\u001b[0m \u001b[0mopened_zipfile\u001b[0m\u001b[0;34m,\u001b[0m \u001b[0mpickle_module\u001b[0m\u001b[0;34m,\u001b[0m \u001b[0mpickle_protocol\u001b[0m\u001b[0;34m,\u001b[0m \u001b[0m_disable_byteorder_record\u001b[0m\u001b[0;34m)\u001b[0m\u001b[0;34m\u001b[0m\u001b[0;34m\u001b[0m\u001b[0m\n\u001b[0m\u001b[1;32m    620\u001b[0m             \u001b[0;32mreturn\u001b[0m\u001b[0;34m\u001b[0m\u001b[0;34m\u001b[0m\u001b[0m\n\u001b[1;32m    621\u001b[0m     \u001b[0;32melse\u001b[0m\u001b[0;34m:\u001b[0m\u001b[0;34m\u001b[0m\u001b[0;34m\u001b[0m\u001b[0m\n",
      "\u001b[0;32m/usr/local/lib/python3.10/dist-packages/torch/serialization.py\u001b[0m in \u001b[0;36m_save\u001b[0;34m(obj, zip_file, pickle_module, pickle_protocol, _disable_byteorder_record)\u001b[0m\n\u001b[1;32m    851\u001b[0m         \u001b[0;31m# Now that it is on the CPU we can directly copy it into the zip file\u001b[0m\u001b[0;34m\u001b[0m\u001b[0;34m\u001b[0m\u001b[0m\n\u001b[1;32m    852\u001b[0m         \u001b[0mnum_bytes\u001b[0m \u001b[0;34m=\u001b[0m \u001b[0mstorage\u001b[0m\u001b[0;34m.\u001b[0m\u001b[0mnbytes\u001b[0m\u001b[0;34m(\u001b[0m\u001b[0;34m)\u001b[0m\u001b[0;34m\u001b[0m\u001b[0;34m\u001b[0m\u001b[0m\n\u001b[0;32m--> 853\u001b[0;31m         \u001b[0mzip_file\u001b[0m\u001b[0;34m.\u001b[0m\u001b[0mwrite_record\u001b[0m\u001b[0;34m(\u001b[0m\u001b[0mname\u001b[0m\u001b[0;34m,\u001b[0m \u001b[0mstorage\u001b[0m\u001b[0;34m.\u001b[0m\u001b[0mdata_ptr\u001b[0m\u001b[0;34m(\u001b[0m\u001b[0;34m)\u001b[0m\u001b[0;34m,\u001b[0m \u001b[0mnum_bytes\u001b[0m\u001b[0;34m)\u001b[0m\u001b[0;34m\u001b[0m\u001b[0;34m\u001b[0m\u001b[0m\n\u001b[0m\u001b[1;32m    854\u001b[0m \u001b[0;34m\u001b[0m\u001b[0m\n\u001b[1;32m    855\u001b[0m \u001b[0;34m\u001b[0m\u001b[0m\n",
      "\u001b[0;31mKeyboardInterrupt\u001b[0m: "
     ]
    }
   ],
   "source": [
    "model.push_to_hub(\"aishwarya21/llama-2-7b-grocer_ease\", check_pr=True)\n",
    "\n",
    "tokenizer.push_to_hub(\"aishwarya21/llama-2-7b-grocer-ease\",check_pr=True)"
   ]
  },
  {
   "cell_type": "code",
   "execution_count": null,
   "metadata": {
    "id": "9St8zbOK8uis"
   },
   "outputs": [],
   "source": []
  }
 ],
 "metadata": {
  "accelerator": "GPU",
  "colab": {
   "authorship_tag": "ABX9TyOdRkUSbi1qKgQvaFHaAVmt",
   "gpuType": "A100",
   "machine_shape": "hm",
   "provenance": []
  },
  "kernelspec": {
   "display_name": "Python 3",
   "name": "python3"
  },
  "language_info": {
   "name": "python"
  },
  "widgets": {
   "application/vnd.jupyter.widget-state+json": {
    "0e5eac3d8fe24233a4f1c1191bc26d4b": {
     "model_module": "@jupyter-widgets/controls",
     "model_module_version": "1.5.0",
     "model_name": "DescriptionStyleModel",
     "state": {
      "_model_module": "@jupyter-widgets/controls",
      "_model_module_version": "1.5.0",
      "_model_name": "DescriptionStyleModel",
      "_view_count": null,
      "_view_module": "@jupyter-widgets/base",
      "_view_module_version": "1.2.0",
      "_view_name": "StyleView",
      "description_width": ""
     }
    },
    "10ea851d96e540e5a91e310ce249d57a": {
     "model_module": "@jupyter-widgets/base",
     "model_module_version": "1.2.0",
     "model_name": "LayoutModel",
     "state": {
      "_model_module": "@jupyter-widgets/base",
      "_model_module_version": "1.2.0",
      "_model_name": "LayoutModel",
      "_view_count": null,
      "_view_module": "@jupyter-widgets/base",
      "_view_module_version": "1.2.0",
      "_view_name": "LayoutView",
      "align_content": null,
      "align_items": null,
      "align_self": null,
      "border": null,
      "bottom": null,
      "display": null,
      "flex": null,
      "flex_flow": null,
      "grid_area": null,
      "grid_auto_columns": null,
      "grid_auto_flow": null,
      "grid_auto_rows": null,
      "grid_column": null,
      "grid_gap": null,
      "grid_row": null,
      "grid_template_areas": null,
      "grid_template_columns": null,
      "grid_template_rows": null,
      "height": null,
      "justify_content": null,
      "justify_items": null,
      "left": null,
      "margin": null,
      "max_height": null,
      "max_width": null,
      "min_height": null,
      "min_width": null,
      "object_fit": null,
      "object_position": null,
      "order": null,
      "overflow": null,
      "overflow_x": null,
      "overflow_y": null,
      "padding": null,
      "right": null,
      "top": null,
      "visibility": null,
      "width": null
     }
    },
    "119cb55f52ce45d0810a69016fb3f0e4": {
     "model_module": "@jupyter-widgets/controls",
     "model_module_version": "1.5.0",
     "model_name": "ProgressStyleModel",
     "state": {
      "_model_module": "@jupyter-widgets/controls",
      "_model_module_version": "1.5.0",
      "_model_name": "ProgressStyleModel",
      "_view_count": null,
      "_view_module": "@jupyter-widgets/base",
      "_view_module_version": "1.2.0",
      "_view_name": "StyleView",
      "bar_color": null,
      "description_width": ""
     }
    },
    "22aaca7872794e11bf72c711d590eb7a": {
     "model_module": "@jupyter-widgets/controls",
     "model_module_version": "1.5.0",
     "model_name": "FloatProgressModel",
     "state": {
      "_dom_classes": [],
      "_model_module": "@jupyter-widgets/controls",
      "_model_module_version": "1.5.0",
      "_model_name": "FloatProgressModel",
      "_view_count": null,
      "_view_module": "@jupyter-widgets/controls",
      "_view_module_version": "1.5.0",
      "_view_name": "ProgressView",
      "bar_style": "success",
      "description": "",
      "description_tooltip": null,
      "layout": "IPY_MODEL_875e7a74f40f43f489b6a3f064fef769",
      "max": 2,
      "min": 0,
      "orientation": "horizontal",
      "style": "IPY_MODEL_35a595e825264751b090b25e20a3e32f",
      "value": 2
     }
    },
    "25b032d2fa0d47f3a7a31945cbf6c9ac": {
     "model_module": "@jupyter-widgets/controls",
     "model_module_version": "1.5.0",
     "model_name": "DescriptionStyleModel",
     "state": {
      "_model_module": "@jupyter-widgets/controls",
      "_model_module_version": "1.5.0",
      "_model_name": "DescriptionStyleModel",
      "_view_count": null,
      "_view_module": "@jupyter-widgets/base",
      "_view_module_version": "1.2.0",
      "_view_name": "StyleView",
      "description_width": ""
     }
    },
    "2930ffae180f47cfb8ac6abddb3d38e6": {
     "model_module": "@jupyter-widgets/base",
     "model_module_version": "1.2.0",
     "model_name": "LayoutModel",
     "state": {
      "_model_module": "@jupyter-widgets/base",
      "_model_module_version": "1.2.0",
      "_model_name": "LayoutModel",
      "_view_count": null,
      "_view_module": "@jupyter-widgets/base",
      "_view_module_version": "1.2.0",
      "_view_name": "LayoutView",
      "align_content": null,
      "align_items": null,
      "align_self": null,
      "border": null,
      "bottom": null,
      "display": null,
      "flex": null,
      "flex_flow": null,
      "grid_area": null,
      "grid_auto_columns": null,
      "grid_auto_flow": null,
      "grid_auto_rows": null,
      "grid_column": null,
      "grid_gap": null,
      "grid_row": null,
      "grid_template_areas": null,
      "grid_template_columns": null,
      "grid_template_rows": null,
      "height": null,
      "justify_content": null,
      "justify_items": null,
      "left": null,
      "margin": null,
      "max_height": null,
      "max_width": null,
      "min_height": null,
      "min_width": null,
      "object_fit": null,
      "object_position": null,
      "order": null,
      "overflow": null,
      "overflow_x": null,
      "overflow_y": null,
      "padding": null,
      "right": null,
      "top": null,
      "visibility": null,
      "width": null
     }
    },
    "295002c817b34480a54d9e6d1797e50e": {
     "model_module": "@jupyter-widgets/controls",
     "model_module_version": "1.5.0",
     "model_name": "DescriptionStyleModel",
     "state": {
      "_model_module": "@jupyter-widgets/controls",
      "_model_module_version": "1.5.0",
      "_model_name": "DescriptionStyleModel",
      "_view_count": null,
      "_view_module": "@jupyter-widgets/base",
      "_view_module_version": "1.2.0",
      "_view_name": "StyleView",
      "description_width": ""
     }
    },
    "2f167ecdda1a416db5f365712955bc04": {
     "model_module": "@jupyter-widgets/controls",
     "model_module_version": "1.5.0",
     "model_name": "HTMLModel",
     "state": {
      "_dom_classes": [],
      "_model_module": "@jupyter-widgets/controls",
      "_model_module_version": "1.5.0",
      "_model_name": "HTMLModel",
      "_view_count": null,
      "_view_module": "@jupyter-widgets/controls",
      "_view_module_version": "1.5.0",
      "_view_name": "HTMLView",
      "description": "",
      "description_tooltip": null,
      "layout": "IPY_MODEL_5b8a3b1a9ac840be8c35f46057a85310",
      "placeholder": "​",
      "style": "IPY_MODEL_c976f7c162164f22b0e64df6475fa0fd",
      "value": "Loading checkpoint shards: 100%"
     }
    },
    "35a595e825264751b090b25e20a3e32f": {
     "model_module": "@jupyter-widgets/controls",
     "model_module_version": "1.5.0",
     "model_name": "ProgressStyleModel",
     "state": {
      "_model_module": "@jupyter-widgets/controls",
      "_model_module_version": "1.5.0",
      "_model_name": "ProgressStyleModel",
      "_view_count": null,
      "_view_module": "@jupyter-widgets/base",
      "_view_module_version": "1.2.0",
      "_view_name": "StyleView",
      "bar_color": null,
      "description_width": ""
     }
    },
    "3c3fbf667bba455f8aa445887d538d99": {
     "model_module": "@jupyter-widgets/controls",
     "model_module_version": "1.5.0",
     "model_name": "FloatProgressModel",
     "state": {
      "_dom_classes": [],
      "_model_module": "@jupyter-widgets/controls",
      "_model_module_version": "1.5.0",
      "_model_name": "FloatProgressModel",
      "_view_count": null,
      "_view_module": "@jupyter-widgets/controls",
      "_view_module_version": "1.5.0",
      "_view_name": "ProgressView",
      "bar_style": "danger",
      "description": "",
      "description_tooltip": null,
      "layout": "IPY_MODEL_acc4e4b6e23642f2badaafa85897a68b",
      "max": 2,
      "min": 0,
      "orientation": "horizontal",
      "style": "IPY_MODEL_a90434e69cb743a8bfae0dd4a271a769",
      "value": 0
     }
    },
    "3df52597902f4d4dbe897b95cff52e77": {
     "model_module": "@jupyter-widgets/base",
     "model_module_version": "1.2.0",
     "model_name": "LayoutModel",
     "state": {
      "_model_module": "@jupyter-widgets/base",
      "_model_module_version": "1.2.0",
      "_model_name": "LayoutModel",
      "_view_count": null,
      "_view_module": "@jupyter-widgets/base",
      "_view_module_version": "1.2.0",
      "_view_name": "LayoutView",
      "align_content": null,
      "align_items": null,
      "align_self": null,
      "border": null,
      "bottom": null,
      "display": null,
      "flex": null,
      "flex_flow": null,
      "grid_area": null,
      "grid_auto_columns": null,
      "grid_auto_flow": null,
      "grid_auto_rows": null,
      "grid_column": null,
      "grid_gap": null,
      "grid_row": null,
      "grid_template_areas": null,
      "grid_template_columns": null,
      "grid_template_rows": null,
      "height": null,
      "justify_content": null,
      "justify_items": null,
      "left": null,
      "margin": null,
      "max_height": null,
      "max_width": null,
      "min_height": null,
      "min_width": null,
      "object_fit": null,
      "object_position": null,
      "order": null,
      "overflow": null,
      "overflow_x": null,
      "overflow_y": null,
      "padding": null,
      "right": null,
      "top": null,
      "visibility": null,
      "width": null
     }
    },
    "3e7babcb85a64c59b1229b49f389ec4b": {
     "model_module": "@jupyter-widgets/controls",
     "model_module_version": "1.5.0",
     "model_name": "DescriptionStyleModel",
     "state": {
      "_model_module": "@jupyter-widgets/controls",
      "_model_module_version": "1.5.0",
      "_model_name": "DescriptionStyleModel",
      "_view_count": null,
      "_view_module": "@jupyter-widgets/base",
      "_view_module_version": "1.2.0",
      "_view_name": "StyleView",
      "description_width": ""
     }
    },
    "4dc44d5b9a75499d9f59ce8af6418c63": {
     "model_module": "@jupyter-widgets/controls",
     "model_module_version": "1.5.0",
     "model_name": "HBoxModel",
     "state": {
      "_dom_classes": [],
      "_model_module": "@jupyter-widgets/controls",
      "_model_module_version": "1.5.0",
      "_model_name": "HBoxModel",
      "_view_count": null,
      "_view_module": "@jupyter-widgets/controls",
      "_view_module_version": "1.5.0",
      "_view_name": "HBoxView",
      "box_style": "",
      "children": [
       "IPY_MODEL_2f167ecdda1a416db5f365712955bc04",
       "IPY_MODEL_22aaca7872794e11bf72c711d590eb7a",
       "IPY_MODEL_84d29f919f054699ab9371d0394adf7b"
      ],
      "layout": "IPY_MODEL_d764b8baba1541f986fa2c9852bf04ab"
     }
    },
    "50f3e16bf47e411db27d0bf8bad6ae30": {
     "model_module": "@jupyter-widgets/base",
     "model_module_version": "1.2.0",
     "model_name": "LayoutModel",
     "state": {
      "_model_module": "@jupyter-widgets/base",
      "_model_module_version": "1.2.0",
      "_model_name": "LayoutModel",
      "_view_count": null,
      "_view_module": "@jupyter-widgets/base",
      "_view_module_version": "1.2.0",
      "_view_name": "LayoutView",
      "align_content": null,
      "align_items": null,
      "align_self": null,
      "border": null,
      "bottom": null,
      "display": null,
      "flex": null,
      "flex_flow": null,
      "grid_area": null,
      "grid_auto_columns": null,
      "grid_auto_flow": null,
      "grid_auto_rows": null,
      "grid_column": null,
      "grid_gap": null,
      "grid_row": null,
      "grid_template_areas": null,
      "grid_template_columns": null,
      "grid_template_rows": null,
      "height": null,
      "justify_content": null,
      "justify_items": null,
      "left": null,
      "margin": null,
      "max_height": null,
      "max_width": null,
      "min_height": null,
      "min_width": null,
      "object_fit": null,
      "object_position": null,
      "order": null,
      "overflow": null,
      "overflow_x": null,
      "overflow_y": null,
      "padding": null,
      "right": null,
      "top": null,
      "visibility": null,
      "width": null
     }
    },
    "5395feab00e6405bbda570eb9e0480b2": {
     "model_module": "@jupyter-widgets/controls",
     "model_module_version": "1.5.0",
     "model_name": "HTMLModel",
     "state": {
      "_dom_classes": [],
      "_model_module": "@jupyter-widgets/controls",
      "_model_module_version": "1.5.0",
      "_model_name": "HTMLModel",
      "_view_count": null,
      "_view_module": "@jupyter-widgets/controls",
      "_view_module_version": "1.5.0",
      "_view_name": "HTMLView",
      "description": "",
      "description_tooltip": null,
      "layout": "IPY_MODEL_7794537b72f842869e9133495d33e80a",
      "placeholder": "​",
      "style": "IPY_MODEL_d3e7faea1ade475f888dd3ed7e75eb2e",
      "value": " 2/2 [00:00&lt;00:00, 112.01 examples/s]"
     }
    },
    "5b8a3b1a9ac840be8c35f46057a85310": {
     "model_module": "@jupyter-widgets/base",
     "model_module_version": "1.2.0",
     "model_name": "LayoutModel",
     "state": {
      "_model_module": "@jupyter-widgets/base",
      "_model_module_version": "1.2.0",
      "_model_name": "LayoutModel",
      "_view_count": null,
      "_view_module": "@jupyter-widgets/base",
      "_view_module_version": "1.2.0",
      "_view_name": "LayoutView",
      "align_content": null,
      "align_items": null,
      "align_self": null,
      "border": null,
      "bottom": null,
      "display": null,
      "flex": null,
      "flex_flow": null,
      "grid_area": null,
      "grid_auto_columns": null,
      "grid_auto_flow": null,
      "grid_auto_rows": null,
      "grid_column": null,
      "grid_gap": null,
      "grid_row": null,
      "grid_template_areas": null,
      "grid_template_columns": null,
      "grid_template_rows": null,
      "height": null,
      "justify_content": null,
      "justify_items": null,
      "left": null,
      "margin": null,
      "max_height": null,
      "max_width": null,
      "min_height": null,
      "min_width": null,
      "object_fit": null,
      "object_position": null,
      "order": null,
      "overflow": null,
      "overflow_x": null,
      "overflow_y": null,
      "padding": null,
      "right": null,
      "top": null,
      "visibility": null,
      "width": null
     }
    },
    "66c87bb07a334045b2fbedd6b6e1b84c": {
     "model_module": "@jupyter-widgets/base",
     "model_module_version": "1.2.0",
     "model_name": "LayoutModel",
     "state": {
      "_model_module": "@jupyter-widgets/base",
      "_model_module_version": "1.2.0",
      "_model_name": "LayoutModel",
      "_view_count": null,
      "_view_module": "@jupyter-widgets/base",
      "_view_module_version": "1.2.0",
      "_view_name": "LayoutView",
      "align_content": null,
      "align_items": null,
      "align_self": null,
      "border": null,
      "bottom": null,
      "display": null,
      "flex": null,
      "flex_flow": null,
      "grid_area": null,
      "grid_auto_columns": null,
      "grid_auto_flow": null,
      "grid_auto_rows": null,
      "grid_column": null,
      "grid_gap": null,
      "grid_row": null,
      "grid_template_areas": null,
      "grid_template_columns": null,
      "grid_template_rows": null,
      "height": null,
      "justify_content": null,
      "justify_items": null,
      "left": null,
      "margin": null,
      "max_height": null,
      "max_width": null,
      "min_height": null,
      "min_width": null,
      "object_fit": null,
      "object_position": null,
      "order": null,
      "overflow": null,
      "overflow_x": null,
      "overflow_y": null,
      "padding": null,
      "right": null,
      "top": null,
      "visibility": null,
      "width": null
     }
    },
    "6dee642049034dbc84229eba9d80de31": {
     "model_module": "@jupyter-widgets/controls",
     "model_module_version": "1.5.0",
     "model_name": "DescriptionStyleModel",
     "state": {
      "_model_module": "@jupyter-widgets/controls",
      "_model_module_version": "1.5.0",
      "_model_name": "DescriptionStyleModel",
      "_view_count": null,
      "_view_module": "@jupyter-widgets/base",
      "_view_module_version": "1.2.0",
      "_view_name": "StyleView",
      "description_width": ""
     }
    },
    "70d1571731124a899a562f02049c5e38": {
     "model_module": "@jupyter-widgets/base",
     "model_module_version": "1.2.0",
     "model_name": "LayoutModel",
     "state": {
      "_model_module": "@jupyter-widgets/base",
      "_model_module_version": "1.2.0",
      "_model_name": "LayoutModel",
      "_view_count": null,
      "_view_module": "@jupyter-widgets/base",
      "_view_module_version": "1.2.0",
      "_view_name": "LayoutView",
      "align_content": null,
      "align_items": null,
      "align_self": null,
      "border": null,
      "bottom": null,
      "display": null,
      "flex": null,
      "flex_flow": null,
      "grid_area": null,
      "grid_auto_columns": null,
      "grid_auto_flow": null,
      "grid_auto_rows": null,
      "grid_column": null,
      "grid_gap": null,
      "grid_row": null,
      "grid_template_areas": null,
      "grid_template_columns": null,
      "grid_template_rows": null,
      "height": null,
      "justify_content": null,
      "justify_items": null,
      "left": null,
      "margin": null,
      "max_height": null,
      "max_width": null,
      "min_height": null,
      "min_width": null,
      "object_fit": null,
      "object_position": null,
      "order": null,
      "overflow": null,
      "overflow_x": null,
      "overflow_y": null,
      "padding": null,
      "right": null,
      "top": null,
      "visibility": null,
      "width": null
     }
    },
    "7794537b72f842869e9133495d33e80a": {
     "model_module": "@jupyter-widgets/base",
     "model_module_version": "1.2.0",
     "model_name": "LayoutModel",
     "state": {
      "_model_module": "@jupyter-widgets/base",
      "_model_module_version": "1.2.0",
      "_model_name": "LayoutModel",
      "_view_count": null,
      "_view_module": "@jupyter-widgets/base",
      "_view_module_version": "1.2.0",
      "_view_name": "LayoutView",
      "align_content": null,
      "align_items": null,
      "align_self": null,
      "border": null,
      "bottom": null,
      "display": null,
      "flex": null,
      "flex_flow": null,
      "grid_area": null,
      "grid_auto_columns": null,
      "grid_auto_flow": null,
      "grid_auto_rows": null,
      "grid_column": null,
      "grid_gap": null,
      "grid_row": null,
      "grid_template_areas": null,
      "grid_template_columns": null,
      "grid_template_rows": null,
      "height": null,
      "justify_content": null,
      "justify_items": null,
      "left": null,
      "margin": null,
      "max_height": null,
      "max_width": null,
      "min_height": null,
      "min_width": null,
      "object_fit": null,
      "object_position": null,
      "order": null,
      "overflow": null,
      "overflow_x": null,
      "overflow_y": null,
      "padding": null,
      "right": null,
      "top": null,
      "visibility": null,
      "width": null
     }
    },
    "786e2902ab8b4ef583d789272e60d701": {
     "model_module": "@jupyter-widgets/controls",
     "model_module_version": "1.5.0",
     "model_name": "FloatProgressModel",
     "state": {
      "_dom_classes": [],
      "_model_module": "@jupyter-widgets/controls",
      "_model_module_version": "1.5.0",
      "_model_name": "FloatProgressModel",
      "_view_count": null,
      "_view_module": "@jupyter-widgets/controls",
      "_view_module_version": "1.5.0",
      "_view_name": "ProgressView",
      "bar_style": "success",
      "description": "",
      "description_tooltip": null,
      "layout": "IPY_MODEL_888385b0e36048aa8e6a7009847f99c3",
      "max": 2,
      "min": 0,
      "orientation": "horizontal",
      "style": "IPY_MODEL_e6aa806af46d42e5bc81b6de26767622",
      "value": 2
     }
    },
    "792a2474ba1f4a5c8418698bd7103cc7": {
     "model_module": "@jupyter-widgets/controls",
     "model_module_version": "1.5.0",
     "model_name": "HBoxModel",
     "state": {
      "_dom_classes": [],
      "_model_module": "@jupyter-widgets/controls",
      "_model_module_version": "1.5.0",
      "_model_name": "HBoxModel",
      "_view_count": null,
      "_view_module": "@jupyter-widgets/controls",
      "_view_module_version": "1.5.0",
      "_view_name": "HBoxView",
      "box_style": "",
      "children": [
       "IPY_MODEL_989f2bc212744e59ac651fdb8dec08cb",
       "IPY_MODEL_786e2902ab8b4ef583d789272e60d701",
       "IPY_MODEL_af7da2aba4e2496e9f14eec30dd7193d"
      ],
      "layout": "IPY_MODEL_3df52597902f4d4dbe897b95cff52e77"
     }
    },
    "8283edca554e451a8a5067571e1d1091": {
     "model_module": "@jupyter-widgets/controls",
     "model_module_version": "1.5.0",
     "model_name": "DescriptionStyleModel",
     "state": {
      "_model_module": "@jupyter-widgets/controls",
      "_model_module_version": "1.5.0",
      "_model_name": "DescriptionStyleModel",
      "_view_count": null,
      "_view_module": "@jupyter-widgets/base",
      "_view_module_version": "1.2.0",
      "_view_name": "StyleView",
      "description_width": ""
     }
    },
    "84d29f919f054699ab9371d0394adf7b": {
     "model_module": "@jupyter-widgets/controls",
     "model_module_version": "1.5.0",
     "model_name": "HTMLModel",
     "state": {
      "_dom_classes": [],
      "_model_module": "@jupyter-widgets/controls",
      "_model_module_version": "1.5.0",
      "_model_name": "HTMLModel",
      "_view_count": null,
      "_view_module": "@jupyter-widgets/controls",
      "_view_module_version": "1.5.0",
      "_view_name": "HTMLView",
      "description": "",
      "description_tooltip": null,
      "layout": "IPY_MODEL_10ea851d96e540e5a91e310ce249d57a",
      "placeholder": "​",
      "style": "IPY_MODEL_295002c817b34480a54d9e6d1797e50e",
      "value": " 2/2 [01:10&lt;00:00, 32.47s/it]"
     }
    },
    "875e7a74f40f43f489b6a3f064fef769": {
     "model_module": "@jupyter-widgets/base",
     "model_module_version": "1.2.0",
     "model_name": "LayoutModel",
     "state": {
      "_model_module": "@jupyter-widgets/base",
      "_model_module_version": "1.2.0",
      "_model_name": "LayoutModel",
      "_view_count": null,
      "_view_module": "@jupyter-widgets/base",
      "_view_module_version": "1.2.0",
      "_view_name": "LayoutView",
      "align_content": null,
      "align_items": null,
      "align_self": null,
      "border": null,
      "bottom": null,
      "display": null,
      "flex": null,
      "flex_flow": null,
      "grid_area": null,
      "grid_auto_columns": null,
      "grid_auto_flow": null,
      "grid_auto_rows": null,
      "grid_column": null,
      "grid_gap": null,
      "grid_row": null,
      "grid_template_areas": null,
      "grid_template_columns": null,
      "grid_template_rows": null,
      "height": null,
      "justify_content": null,
      "justify_items": null,
      "left": null,
      "margin": null,
      "max_height": null,
      "max_width": null,
      "min_height": null,
      "min_width": null,
      "object_fit": null,
      "object_position": null,
      "order": null,
      "overflow": null,
      "overflow_x": null,
      "overflow_y": null,
      "padding": null,
      "right": null,
      "top": null,
      "visibility": null,
      "width": null
     }
    },
    "888385b0e36048aa8e6a7009847f99c3": {
     "model_module": "@jupyter-widgets/base",
     "model_module_version": "1.2.0",
     "model_name": "LayoutModel",
     "state": {
      "_model_module": "@jupyter-widgets/base",
      "_model_module_version": "1.2.0",
      "_model_name": "LayoutModel",
      "_view_count": null,
      "_view_module": "@jupyter-widgets/base",
      "_view_module_version": "1.2.0",
      "_view_name": "LayoutView",
      "align_content": null,
      "align_items": null,
      "align_self": null,
      "border": null,
      "bottom": null,
      "display": null,
      "flex": null,
      "flex_flow": null,
      "grid_area": null,
      "grid_auto_columns": null,
      "grid_auto_flow": null,
      "grid_auto_rows": null,
      "grid_column": null,
      "grid_gap": null,
      "grid_row": null,
      "grid_template_areas": null,
      "grid_template_columns": null,
      "grid_template_rows": null,
      "height": null,
      "justify_content": null,
      "justify_items": null,
      "left": null,
      "margin": null,
      "max_height": null,
      "max_width": null,
      "min_height": null,
      "min_width": null,
      "object_fit": null,
      "object_position": null,
      "order": null,
      "overflow": null,
      "overflow_x": null,
      "overflow_y": null,
      "padding": null,
      "right": null,
      "top": null,
      "visibility": null,
      "width": null
     }
    },
    "8b54ace0a94041739a0b73505fd3e5ee": {
     "model_module": "@jupyter-widgets/controls",
     "model_module_version": "1.5.0",
     "model_name": "HTMLModel",
     "state": {
      "_dom_classes": [],
      "_model_module": "@jupyter-widgets/controls",
      "_model_module_version": "1.5.0",
      "_model_name": "HTMLModel",
      "_view_count": null,
      "_view_module": "@jupyter-widgets/controls",
      "_view_module_version": "1.5.0",
      "_view_name": "HTMLView",
      "description": "",
      "description_tooltip": null,
      "layout": "IPY_MODEL_66c87bb07a334045b2fbedd6b6e1b84c",
      "placeholder": "​",
      "style": "IPY_MODEL_8283edca554e451a8a5067571e1d1091",
      "value": "Map: 100%"
     }
    },
    "90c21749da934ba799367157148b9d16": {
     "model_module": "@jupyter-widgets/controls",
     "model_module_version": "1.5.0",
     "model_name": "HBoxModel",
     "state": {
      "_dom_classes": [],
      "_model_module": "@jupyter-widgets/controls",
      "_model_module_version": "1.5.0",
      "_model_name": "HBoxModel",
      "_view_count": null,
      "_view_module": "@jupyter-widgets/controls",
      "_view_module_version": "1.5.0",
      "_view_name": "HBoxView",
      "box_style": "",
      "children": [
       "IPY_MODEL_d56c9dadc0a84b2ca7fc2d359c0d5dd5",
       "IPY_MODEL_3c3fbf667bba455f8aa445887d538d99",
       "IPY_MODEL_cdb170379fd9449c9329666b6c3eda78"
      ],
      "layout": "IPY_MODEL_9890c3aeca9e48bf821b1e8e13fdcce9"
     }
    },
    "9890c3aeca9e48bf821b1e8e13fdcce9": {
     "model_module": "@jupyter-widgets/base",
     "model_module_version": "1.2.0",
     "model_name": "LayoutModel",
     "state": {
      "_model_module": "@jupyter-widgets/base",
      "_model_module_version": "1.2.0",
      "_model_name": "LayoutModel",
      "_view_count": null,
      "_view_module": "@jupyter-widgets/base",
      "_view_module_version": "1.2.0",
      "_view_name": "LayoutView",
      "align_content": null,
      "align_items": null,
      "align_self": null,
      "border": null,
      "bottom": null,
      "display": null,
      "flex": null,
      "flex_flow": null,
      "grid_area": null,
      "grid_auto_columns": null,
      "grid_auto_flow": null,
      "grid_auto_rows": null,
      "grid_column": null,
      "grid_gap": null,
      "grid_row": null,
      "grid_template_areas": null,
      "grid_template_columns": null,
      "grid_template_rows": null,
      "height": null,
      "justify_content": null,
      "justify_items": null,
      "left": null,
      "margin": null,
      "max_height": null,
      "max_width": null,
      "min_height": null,
      "min_width": null,
      "object_fit": null,
      "object_position": null,
      "order": null,
      "overflow": null,
      "overflow_x": null,
      "overflow_y": null,
      "padding": null,
      "right": null,
      "top": null,
      "visibility": null,
      "width": null
     }
    },
    "989f2bc212744e59ac651fdb8dec08cb": {
     "model_module": "@jupyter-widgets/controls",
     "model_module_version": "1.5.0",
     "model_name": "HTMLModel",
     "state": {
      "_dom_classes": [],
      "_model_module": "@jupyter-widgets/controls",
      "_model_module_version": "1.5.0",
      "_model_name": "HTMLModel",
      "_view_count": null,
      "_view_module": "@jupyter-widgets/controls",
      "_view_module_version": "1.5.0",
      "_view_name": "HTMLView",
      "description": "",
      "description_tooltip": null,
      "layout": "IPY_MODEL_b2cf72b61b574163abc0699bb6af8e37",
      "placeholder": "​",
      "style": "IPY_MODEL_6dee642049034dbc84229eba9d80de31",
      "value": "Loading checkpoint shards: 100%"
     }
    },
    "a07c54c9b77c42fc842a6185a0f5b17b": {
     "model_module": "@jupyter-widgets/base",
     "model_module_version": "1.2.0",
     "model_name": "LayoutModel",
     "state": {
      "_model_module": "@jupyter-widgets/base",
      "_model_module_version": "1.2.0",
      "_model_name": "LayoutModel",
      "_view_count": null,
      "_view_module": "@jupyter-widgets/base",
      "_view_module_version": "1.2.0",
      "_view_name": "LayoutView",
      "align_content": null,
      "align_items": null,
      "align_self": null,
      "border": null,
      "bottom": null,
      "display": null,
      "flex": null,
      "flex_flow": null,
      "grid_area": null,
      "grid_auto_columns": null,
      "grid_auto_flow": null,
      "grid_auto_rows": null,
      "grid_column": null,
      "grid_gap": null,
      "grid_row": null,
      "grid_template_areas": null,
      "grid_template_columns": null,
      "grid_template_rows": null,
      "height": null,
      "justify_content": null,
      "justify_items": null,
      "left": null,
      "margin": null,
      "max_height": null,
      "max_width": null,
      "min_height": null,
      "min_width": null,
      "object_fit": null,
      "object_position": null,
      "order": null,
      "overflow": null,
      "overflow_x": null,
      "overflow_y": null,
      "padding": null,
      "right": null,
      "top": null,
      "visibility": null,
      "width": null
     }
    },
    "a90434e69cb743a8bfae0dd4a271a769": {
     "model_module": "@jupyter-widgets/controls",
     "model_module_version": "1.5.0",
     "model_name": "ProgressStyleModel",
     "state": {
      "_model_module": "@jupyter-widgets/controls",
      "_model_module_version": "1.5.0",
      "_model_name": "ProgressStyleModel",
      "_view_count": null,
      "_view_module": "@jupyter-widgets/base",
      "_view_module_version": "1.2.0",
      "_view_name": "StyleView",
      "bar_color": null,
      "description_width": ""
     }
    },
    "aaadaef7175e477ba78405824d7c64bb": {
     "model_module": "@jupyter-widgets/controls",
     "model_module_version": "1.5.0",
     "model_name": "FloatProgressModel",
     "state": {
      "_dom_classes": [],
      "_model_module": "@jupyter-widgets/controls",
      "_model_module_version": "1.5.0",
      "_model_name": "FloatProgressModel",
      "_view_count": null,
      "_view_module": "@jupyter-widgets/controls",
      "_view_module_version": "1.5.0",
      "_view_name": "ProgressView",
      "bar_style": "success",
      "description": "",
      "description_tooltip": null,
      "layout": "IPY_MODEL_50f3e16bf47e411db27d0bf8bad6ae30",
      "max": 2,
      "min": 0,
      "orientation": "horizontal",
      "style": "IPY_MODEL_119cb55f52ce45d0810a69016fb3f0e4",
      "value": 2
     }
    },
    "acc4e4b6e23642f2badaafa85897a68b": {
     "model_module": "@jupyter-widgets/base",
     "model_module_version": "1.2.0",
     "model_name": "LayoutModel",
     "state": {
      "_model_module": "@jupyter-widgets/base",
      "_model_module_version": "1.2.0",
      "_model_name": "LayoutModel",
      "_view_count": null,
      "_view_module": "@jupyter-widgets/base",
      "_view_module_version": "1.2.0",
      "_view_name": "LayoutView",
      "align_content": null,
      "align_items": null,
      "align_self": null,
      "border": null,
      "bottom": null,
      "display": null,
      "flex": null,
      "flex_flow": null,
      "grid_area": null,
      "grid_auto_columns": null,
      "grid_auto_flow": null,
      "grid_auto_rows": null,
      "grid_column": null,
      "grid_gap": null,
      "grid_row": null,
      "grid_template_areas": null,
      "grid_template_columns": null,
      "grid_template_rows": null,
      "height": null,
      "justify_content": null,
      "justify_items": null,
      "left": null,
      "margin": null,
      "max_height": null,
      "max_width": null,
      "min_height": null,
      "min_width": null,
      "object_fit": null,
      "object_position": null,
      "order": null,
      "overflow": null,
      "overflow_x": null,
      "overflow_y": null,
      "padding": null,
      "right": null,
      "top": null,
      "visibility": null,
      "width": null
     }
    },
    "af7da2aba4e2496e9f14eec30dd7193d": {
     "model_module": "@jupyter-widgets/controls",
     "model_module_version": "1.5.0",
     "model_name": "HTMLModel",
     "state": {
      "_dom_classes": [],
      "_model_module": "@jupyter-widgets/controls",
      "_model_module_version": "1.5.0",
      "_model_name": "HTMLModel",
      "_view_count": null,
      "_view_module": "@jupyter-widgets/controls",
      "_view_module_version": "1.5.0",
      "_view_name": "HTMLView",
      "description": "",
      "description_tooltip": null,
      "layout": "IPY_MODEL_70d1571731124a899a562f02049c5e38",
      "placeholder": "​",
      "style": "IPY_MODEL_25b032d2fa0d47f3a7a31945cbf6c9ac",
      "value": " 2/2 [00:04&lt;00:00,  2.30s/it]"
     }
    },
    "b2cf72b61b574163abc0699bb6af8e37": {
     "model_module": "@jupyter-widgets/base",
     "model_module_version": "1.2.0",
     "model_name": "LayoutModel",
     "state": {
      "_model_module": "@jupyter-widgets/base",
      "_model_module_version": "1.2.0",
      "_model_name": "LayoutModel",
      "_view_count": null,
      "_view_module": "@jupyter-widgets/base",
      "_view_module_version": "1.2.0",
      "_view_name": "LayoutView",
      "align_content": null,
      "align_items": null,
      "align_self": null,
      "border": null,
      "bottom": null,
      "display": null,
      "flex": null,
      "flex_flow": null,
      "grid_area": null,
      "grid_auto_columns": null,
      "grid_auto_flow": null,
      "grid_auto_rows": null,
      "grid_column": null,
      "grid_gap": null,
      "grid_row": null,
      "grid_template_areas": null,
      "grid_template_columns": null,
      "grid_template_rows": null,
      "height": null,
      "justify_content": null,
      "justify_items": null,
      "left": null,
      "margin": null,
      "max_height": null,
      "max_width": null,
      "min_height": null,
      "min_width": null,
      "object_fit": null,
      "object_position": null,
      "order": null,
      "overflow": null,
      "overflow_x": null,
      "overflow_y": null,
      "padding": null,
      "right": null,
      "top": null,
      "visibility": null,
      "width": null
     }
    },
    "c976f7c162164f22b0e64df6475fa0fd": {
     "model_module": "@jupyter-widgets/controls",
     "model_module_version": "1.5.0",
     "model_name": "DescriptionStyleModel",
     "state": {
      "_model_module": "@jupyter-widgets/controls",
      "_model_module_version": "1.5.0",
      "_model_name": "DescriptionStyleModel",
      "_view_count": null,
      "_view_module": "@jupyter-widgets/base",
      "_view_module_version": "1.2.0",
      "_view_name": "StyleView",
      "description_width": ""
     }
    },
    "cdb170379fd9449c9329666b6c3eda78": {
     "model_module": "@jupyter-widgets/controls",
     "model_module_version": "1.5.0",
     "model_name": "HTMLModel",
     "state": {
      "_dom_classes": [],
      "_model_module": "@jupyter-widgets/controls",
      "_model_module_version": "1.5.0",
      "_model_name": "HTMLModel",
      "_view_count": null,
      "_view_module": "@jupyter-widgets/controls",
      "_view_module_version": "1.5.0",
      "_view_name": "HTMLView",
      "description": "",
      "description_tooltip": null,
      "layout": "IPY_MODEL_e052be635408461f8b2c433db8b8527f",
      "placeholder": "​",
      "style": "IPY_MODEL_0e5eac3d8fe24233a4f1c1191bc26d4b",
      "value": " 0/2 [00:00&lt;?, ?it/s]"
     }
    },
    "d3e7faea1ade475f888dd3ed7e75eb2e": {
     "model_module": "@jupyter-widgets/controls",
     "model_module_version": "1.5.0",
     "model_name": "DescriptionStyleModel",
     "state": {
      "_model_module": "@jupyter-widgets/controls",
      "_model_module_version": "1.5.0",
      "_model_name": "DescriptionStyleModel",
      "_view_count": null,
      "_view_module": "@jupyter-widgets/base",
      "_view_module_version": "1.2.0",
      "_view_name": "StyleView",
      "description_width": ""
     }
    },
    "d56c9dadc0a84b2ca7fc2d359c0d5dd5": {
     "model_module": "@jupyter-widgets/controls",
     "model_module_version": "1.5.0",
     "model_name": "HTMLModel",
     "state": {
      "_dom_classes": [],
      "_model_module": "@jupyter-widgets/controls",
      "_model_module_version": "1.5.0",
      "_model_name": "HTMLModel",
      "_view_count": null,
      "_view_module": "@jupyter-widgets/controls",
      "_view_module_version": "1.5.0",
      "_view_name": "HTMLView",
      "description": "",
      "description_tooltip": null,
      "layout": "IPY_MODEL_2930ffae180f47cfb8ac6abddb3d38e6",
      "placeholder": "​",
      "style": "IPY_MODEL_3e7babcb85a64c59b1229b49f389ec4b",
      "value": "Loading checkpoint shards:   0%"
     }
    },
    "d764b8baba1541f986fa2c9852bf04ab": {
     "model_module": "@jupyter-widgets/base",
     "model_module_version": "1.2.0",
     "model_name": "LayoutModel",
     "state": {
      "_model_module": "@jupyter-widgets/base",
      "_model_module_version": "1.2.0",
      "_model_name": "LayoutModel",
      "_view_count": null,
      "_view_module": "@jupyter-widgets/base",
      "_view_module_version": "1.2.0",
      "_view_name": "LayoutView",
      "align_content": null,
      "align_items": null,
      "align_self": null,
      "border": null,
      "bottom": null,
      "display": null,
      "flex": null,
      "flex_flow": null,
      "grid_area": null,
      "grid_auto_columns": null,
      "grid_auto_flow": null,
      "grid_auto_rows": null,
      "grid_column": null,
      "grid_gap": null,
      "grid_row": null,
      "grid_template_areas": null,
      "grid_template_columns": null,
      "grid_template_rows": null,
      "height": null,
      "justify_content": null,
      "justify_items": null,
      "left": null,
      "margin": null,
      "max_height": null,
      "max_width": null,
      "min_height": null,
      "min_width": null,
      "object_fit": null,
      "object_position": null,
      "order": null,
      "overflow": null,
      "overflow_x": null,
      "overflow_y": null,
      "padding": null,
      "right": null,
      "top": null,
      "visibility": null,
      "width": null
     }
    },
    "e052be635408461f8b2c433db8b8527f": {
     "model_module": "@jupyter-widgets/base",
     "model_module_version": "1.2.0",
     "model_name": "LayoutModel",
     "state": {
      "_model_module": "@jupyter-widgets/base",
      "_model_module_version": "1.2.0",
      "_model_name": "LayoutModel",
      "_view_count": null,
      "_view_module": "@jupyter-widgets/base",
      "_view_module_version": "1.2.0",
      "_view_name": "LayoutView",
      "align_content": null,
      "align_items": null,
      "align_self": null,
      "border": null,
      "bottom": null,
      "display": null,
      "flex": null,
      "flex_flow": null,
      "grid_area": null,
      "grid_auto_columns": null,
      "grid_auto_flow": null,
      "grid_auto_rows": null,
      "grid_column": null,
      "grid_gap": null,
      "grid_row": null,
      "grid_template_areas": null,
      "grid_template_columns": null,
      "grid_template_rows": null,
      "height": null,
      "justify_content": null,
      "justify_items": null,
      "left": null,
      "margin": null,
      "max_height": null,
      "max_width": null,
      "min_height": null,
      "min_width": null,
      "object_fit": null,
      "object_position": null,
      "order": null,
      "overflow": null,
      "overflow_x": null,
      "overflow_y": null,
      "padding": null,
      "right": null,
      "top": null,
      "visibility": null,
      "width": null
     }
    },
    "e6aa806af46d42e5bc81b6de26767622": {
     "model_module": "@jupyter-widgets/controls",
     "model_module_version": "1.5.0",
     "model_name": "ProgressStyleModel",
     "state": {
      "_model_module": "@jupyter-widgets/controls",
      "_model_module_version": "1.5.0",
      "_model_name": "ProgressStyleModel",
      "_view_count": null,
      "_view_module": "@jupyter-widgets/base",
      "_view_module_version": "1.2.0",
      "_view_name": "StyleView",
      "bar_color": null,
      "description_width": ""
     }
    },
    "ed2dd62b959b424589829892b0c1f5cb": {
     "model_module": "@jupyter-widgets/controls",
     "model_module_version": "1.5.0",
     "model_name": "HBoxModel",
     "state": {
      "_dom_classes": [],
      "_model_module": "@jupyter-widgets/controls",
      "_model_module_version": "1.5.0",
      "_model_name": "HBoxModel",
      "_view_count": null,
      "_view_module": "@jupyter-widgets/controls",
      "_view_module_version": "1.5.0",
      "_view_name": "HBoxView",
      "box_style": "",
      "children": [
       "IPY_MODEL_8b54ace0a94041739a0b73505fd3e5ee",
       "IPY_MODEL_aaadaef7175e477ba78405824d7c64bb",
       "IPY_MODEL_5395feab00e6405bbda570eb9e0480b2"
      ],
      "layout": "IPY_MODEL_a07c54c9b77c42fc842a6185a0f5b17b"
     }
    }
   }
  }
 },
 "nbformat": 4,
 "nbformat_minor": 0
}

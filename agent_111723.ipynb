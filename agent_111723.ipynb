{
 "cells": [
  {
   "cell_type": "code",
   "execution_count": 1,
   "id": "sj-n4Bb3zEP4",
   "metadata": {
    "colab": {
     "base_uri": "https://localhost:8080/"
    },
    "executionInfo": {
     "elapsed": 12939,
     "status": "ok",
     "timestamp": 1702081147642,
     "user": {
      "displayName": "Noel D Souza",
      "userId": "08271886554769483306"
     },
     "user_tz": 300
    },
    "id": "sj-n4Bb3zEP4",
    "outputId": "0a009e28-7998-4568-aa0c-52b7a9f4fd4a"
   },
   "outputs": [
    {
     "name": "stdout",
     "output_type": "stream",
     "text": [
      "Collecting llama-index\n",
      "  Downloading llama_index-0.9.13-py3-none-any.whl (929 kB)\n",
      "\u001b[2K     \u001b[90m━━━━━━━━━━━━━━━━━━━━━━━━━━━━━━━━━━━━━━━━\u001b[0m \u001b[32m929.3/929.3 kB\u001b[0m \u001b[31m15.0 MB/s\u001b[0m eta \u001b[36m0:00:00\u001b[0m\n",
      "\u001b[?25hRequirement already satisfied: SQLAlchemy[asyncio]>=1.4.49 in /usr/local/lib/python3.10/dist-packages (from llama-index) (2.0.23)\n",
      "Requirement already satisfied: aiohttp<4.0.0,>=3.8.6 in /usr/local/lib/python3.10/dist-packages (from llama-index) (3.9.1)\n",
      "Collecting aiostream<0.6.0,>=0.5.2 (from llama-index)\n",
      "  Downloading aiostream-0.5.2-py3-none-any.whl (39 kB)\n",
      "Collecting beautifulsoup4<5.0.0,>=4.12.2 (from llama-index)\n",
      "  Downloading beautifulsoup4-4.12.2-py3-none-any.whl (142 kB)\n",
      "\u001b[2K     \u001b[90m━━━━━━━━━━━━━━━━━━━━━━━━━━━━━━━━━━━━━━━━\u001b[0m \u001b[32m143.0/143.0 kB\u001b[0m \u001b[31m15.2 MB/s\u001b[0m eta \u001b[36m0:00:00\u001b[0m\n",
      "\u001b[?25hCollecting dataclasses-json (from llama-index)\n",
      "  Downloading dataclasses_json-0.6.3-py3-none-any.whl (28 kB)\n",
      "Collecting deprecated>=1.2.9.3 (from llama-index)\n",
      "  Downloading Deprecated-1.2.14-py2.py3-none-any.whl (9.6 kB)\n",
      "Requirement already satisfied: fsspec>=2023.5.0 in /usr/local/lib/python3.10/dist-packages (from llama-index) (2023.6.0)\n",
      "Collecting httpx (from llama-index)\n",
      "  Downloading httpx-0.25.2-py3-none-any.whl (74 kB)\n",
      "\u001b[2K     \u001b[90m━━━━━━━━━━━━━━━━━━━━━━━━━━━━━━━━━━━━━━━━\u001b[0m \u001b[32m75.0/75.0 kB\u001b[0m \u001b[31m11.0 MB/s\u001b[0m eta \u001b[36m0:00:00\u001b[0m\n",
      "\u001b[?25hRequirement already satisfied: nest-asyncio<2.0.0,>=1.5.8 in /usr/local/lib/python3.10/dist-packages (from llama-index) (1.5.8)\n",
      "Requirement already satisfied: nltk<4.0.0,>=3.8.1 in /usr/local/lib/python3.10/dist-packages (from llama-index) (3.8.1)\n",
      "Requirement already satisfied: numpy in /usr/local/lib/python3.10/dist-packages (from llama-index) (1.23.5)\n",
      "Collecting openai>=1.1.0 (from llama-index)\n",
      "  Downloading openai-1.3.7-py3-none-any.whl (221 kB)\n",
      "\u001b[2K     \u001b[90m━━━━━━━━━━━━━━━━━━━━━━━━━━━━━━━━━━━━━━━━\u001b[0m \u001b[32m221.4/221.4 kB\u001b[0m \u001b[31m26.0 MB/s\u001b[0m eta \u001b[36m0:00:00\u001b[0m\n",
      "\u001b[?25hRequirement already satisfied: pandas in /usr/local/lib/python3.10/dist-packages (from llama-index) (1.5.3)\n",
      "Requirement already satisfied: requests>=2.31.0 in /usr/local/lib/python3.10/dist-packages (from llama-index) (2.31.0)\n",
      "Requirement already satisfied: tenacity<9.0.0,>=8.2.0 in /usr/local/lib/python3.10/dist-packages (from llama-index) (8.2.3)\n",
      "Collecting tiktoken>=0.3.3 (from llama-index)\n",
      "  Downloading tiktoken-0.5.2-cp310-cp310-manylinux_2_17_x86_64.manylinux2014_x86_64.whl (2.0 MB)\n",
      "\u001b[2K     \u001b[90m━━━━━━━━━━━━━━━━━━━━━━━━━━━━━━━━━━━━━━━━\u001b[0m \u001b[32m2.0/2.0 MB\u001b[0m \u001b[31m72.9 MB/s\u001b[0m eta \u001b[36m0:00:00\u001b[0m\n",
      "\u001b[?25hRequirement already satisfied: typing-extensions>=4.5.0 in /usr/local/lib/python3.10/dist-packages (from llama-index) (4.5.0)\n",
      "Collecting typing-inspect>=0.8.0 (from llama-index)\n",
      "  Downloading typing_inspect-0.9.0-py3-none-any.whl (8.8 kB)\n",
      "Requirement already satisfied: attrs>=17.3.0 in /usr/local/lib/python3.10/dist-packages (from aiohttp<4.0.0,>=3.8.6->llama-index) (23.1.0)\n",
      "Requirement already satisfied: multidict<7.0,>=4.5 in /usr/local/lib/python3.10/dist-packages (from aiohttp<4.0.0,>=3.8.6->llama-index) (6.0.4)\n",
      "Requirement already satisfied: yarl<2.0,>=1.0 in /usr/local/lib/python3.10/dist-packages (from aiohttp<4.0.0,>=3.8.6->llama-index) (1.9.3)\n",
      "Requirement already satisfied: frozenlist>=1.1.1 in /usr/local/lib/python3.10/dist-packages (from aiohttp<4.0.0,>=3.8.6->llama-index) (1.4.0)\n",
      "Requirement already satisfied: aiosignal>=1.1.2 in /usr/local/lib/python3.10/dist-packages (from aiohttp<4.0.0,>=3.8.6->llama-index) (1.3.1)\n",
      "Requirement already satisfied: async-timeout<5.0,>=4.0 in /usr/local/lib/python3.10/dist-packages (from aiohttp<4.0.0,>=3.8.6->llama-index) (4.0.3)\n",
      "Requirement already satisfied: soupsieve>1.2 in /usr/local/lib/python3.10/dist-packages (from beautifulsoup4<5.0.0,>=4.12.2->llama-index) (2.5)\n",
      "Requirement already satisfied: wrapt<2,>=1.10 in /usr/local/lib/python3.10/dist-packages (from deprecated>=1.2.9.3->llama-index) (1.14.1)\n",
      "Requirement already satisfied: click in /usr/local/lib/python3.10/dist-packages (from nltk<4.0.0,>=3.8.1->llama-index) (8.1.7)\n",
      "Requirement already satisfied: joblib in /usr/local/lib/python3.10/dist-packages (from nltk<4.0.0,>=3.8.1->llama-index) (1.3.2)\n",
      "Requirement already satisfied: regex>=2021.8.3 in /usr/local/lib/python3.10/dist-packages (from nltk<4.0.0,>=3.8.1->llama-index) (2023.6.3)\n",
      "Requirement already satisfied: tqdm in /usr/local/lib/python3.10/dist-packages (from nltk<4.0.0,>=3.8.1->llama-index) (4.66.1)\n",
      "Requirement already satisfied: anyio<4,>=3.5.0 in /usr/local/lib/python3.10/dist-packages (from openai>=1.1.0->llama-index) (3.7.1)\n",
      "Requirement already satisfied: distro<2,>=1.7.0 in /usr/lib/python3/dist-packages (from openai>=1.1.0->llama-index) (1.7.0)\n",
      "Requirement already satisfied: pydantic<3,>=1.9.0 in /usr/local/lib/python3.10/dist-packages (from openai>=1.1.0->llama-index) (1.10.13)\n",
      "Requirement already satisfied: sniffio in /usr/local/lib/python3.10/dist-packages (from openai>=1.1.0->llama-index) (1.3.0)\n",
      "Requirement already satisfied: certifi in /usr/local/lib/python3.10/dist-packages (from httpx->llama-index) (2023.11.17)\n",
      "Collecting httpcore==1.* (from httpx->llama-index)\n",
      "  Downloading httpcore-1.0.2-py3-none-any.whl (76 kB)\n",
      "\u001b[2K     \u001b[90m━━━━━━━━━━━━━━━━━━━━━━━━━━━━━━━━━━━━━━━━\u001b[0m \u001b[32m76.9/76.9 kB\u001b[0m \u001b[31m11.0 MB/s\u001b[0m eta \u001b[36m0:00:00\u001b[0m\n",
      "\u001b[?25hRequirement already satisfied: idna in /usr/local/lib/python3.10/dist-packages (from httpx->llama-index) (3.6)\n",
      "Collecting h11<0.15,>=0.13 (from httpcore==1.*->httpx->llama-index)\n",
      "  Downloading h11-0.14.0-py3-none-any.whl (58 kB)\n",
      "\u001b[2K     \u001b[90m━━━━━━━━━━━━━━━━━━━━━━━━━━━━━━━━━━━━━━━━\u001b[0m \u001b[32m58.3/58.3 kB\u001b[0m \u001b[31m7.1 MB/s\u001b[0m eta \u001b[36m0:00:00\u001b[0m\n",
      "\u001b[?25hRequirement already satisfied: charset-normalizer<4,>=2 in /usr/local/lib/python3.10/dist-packages (from requests>=2.31.0->llama-index) (3.3.2)\n",
      "Requirement already satisfied: urllib3<3,>=1.21.1 in /usr/local/lib/python3.10/dist-packages (from requests>=2.31.0->llama-index) (2.0.7)\n",
      "Requirement already satisfied: greenlet!=0.4.17 in /usr/local/lib/python3.10/dist-packages (from SQLAlchemy[asyncio]>=1.4.49->llama-index) (3.0.1)\n",
      "Collecting mypy-extensions>=0.3.0 (from typing-inspect>=0.8.0->llama-index)\n",
      "  Downloading mypy_extensions-1.0.0-py3-none-any.whl (4.7 kB)\n",
      "Collecting marshmallow<4.0.0,>=3.18.0 (from dataclasses-json->llama-index)\n",
      "  Downloading marshmallow-3.20.1-py3-none-any.whl (49 kB)\n",
      "\u001b[2K     \u001b[90m━━━━━━━━━━━━━━━━━━━━━━━━━━━━━━━━━━━━━━━━\u001b[0m \u001b[32m49.4/49.4 kB\u001b[0m \u001b[31m6.1 MB/s\u001b[0m eta \u001b[36m0:00:00\u001b[0m\n",
      "\u001b[?25hRequirement already satisfied: python-dateutil>=2.8.1 in /usr/local/lib/python3.10/dist-packages (from pandas->llama-index) (2.8.2)\n",
      "Requirement already satisfied: pytz>=2020.1 in /usr/local/lib/python3.10/dist-packages (from pandas->llama-index) (2023.3.post1)\n",
      "Requirement already satisfied: exceptiongroup in /usr/local/lib/python3.10/dist-packages (from anyio<4,>=3.5.0->openai>=1.1.0->llama-index) (1.2.0)\n",
      "Requirement already satisfied: packaging>=17.0 in /usr/local/lib/python3.10/dist-packages (from marshmallow<4.0.0,>=3.18.0->dataclasses-json->llama-index) (23.2)\n",
      "Requirement already satisfied: six>=1.5 in /usr/local/lib/python3.10/dist-packages (from python-dateutil>=2.8.1->pandas->llama-index) (1.16.0)\n",
      "Installing collected packages: mypy-extensions, marshmallow, h11, deprecated, beautifulsoup4, aiostream, typing-inspect, tiktoken, httpcore, httpx, dataclasses-json, openai, llama-index\n",
      "  Attempting uninstall: beautifulsoup4\n",
      "    Found existing installation: beautifulsoup4 4.11.2\n",
      "    Uninstalling beautifulsoup4-4.11.2:\n",
      "      Successfully uninstalled beautifulsoup4-4.11.2\n",
      "\u001b[31mERROR: pip's dependency resolver does not currently take into account all the packages that are installed. This behaviour is the source of the following dependency conflicts.\n",
      "llmx 0.0.15a0 requires cohere, which is not installed.\u001b[0m\u001b[31m\n",
      "\u001b[0mSuccessfully installed aiostream-0.5.2 beautifulsoup4-4.12.2 dataclasses-json-0.6.3 deprecated-1.2.14 h11-0.14.0 httpcore-1.0.2 httpx-0.25.2 llama-index-0.9.13 marshmallow-3.20.1 mypy-extensions-1.0.0 openai-1.3.7 tiktoken-0.5.2 typing-inspect-0.9.0\n"
     ]
    }
   ],
   "source": [
    "pip install llama-index\n"
   ]
  },
  {
   "cell_type": "code",
   "execution_count": 2,
   "id": "fbe28d5d",
   "metadata": {
    "executionInfo": {
     "elapsed": 4306,
     "status": "ok",
     "timestamp": 1702081182709,
     "user": {
      "displayName": "Noel D Souza",
      "userId": "08271886554769483306"
     },
     "user_tz": 300
    },
    "id": "fbe28d5d"
   },
   "outputs": [],
   "source": [
    "from pathlib import Path\n",
    "from llama_index.agent import OpenAIAgent\n",
    "from llama_index.llms import OpenAI\n",
    "import json\n",
    "from typing import Sequence, List\n",
    "\n",
    "from llama_index.llms import OpenAI, ChatMessage\n",
    "from llama_index.tools import BaseTool, FunctionTool\n",
    "\n",
    "import nest_asyncio\n",
    "\n",
    "nest_asyncio.apply()\n",
    "\n",
    "from llama_index import (\n",
    "    SimpleDirectoryReader,\n",
    "    VectorStoreIndex,\n",
    "    StorageContext,\n",
    "    load_index_from_storage,\n",
    ")\n",
    "\n",
    "from llama_index.tools import QueryEngineTool, ToolMetadata\n",
    "from llama_index import VectorStoreIndex\n",
    "from llama_index import download_loader\n",
    "\n",
    "import json\n",
    "from typing import Sequence\n",
    "\n",
    "from llama_index.tools import BaseTool, FunctionTool\n",
    "import llama_index"
   ]
  },
  {
   "cell_type": "code",
   "execution_count": 5,
   "id": "0-qZbQfq2NgC",
   "metadata": {
    "executionInfo": {
     "elapsed": 213,
     "status": "ok",
     "timestamp": 1702081212913,
     "user": {
      "displayName": "Noel D Souza",
      "userId": "08271886554769483306"
     },
     "user_tz": 300
    },
    "id": "0-qZbQfq2NgC"
   },
   "outputs": [],
   "source": [
    "import json\n",
    "import time\n",
    "import os\n",
    "def save_chat(chat_input, chat_output):\n",
    "    \"\"\"\n",
    "    save chat with timestamp\n",
    "    \"\"\"\n",
    "    chat = {\n",
    "    \"input\":chat_input,\n",
    "    \"output\":chat_output\n",
    "}\n",
    "    os.makedirs(\"./chat_log\", exist_ok=True)\n",
    "    with open(os.path.join(\"./chat_log\", f'chat_{time.time()}.json'), 'w') as f:\n",
    "        json.dump(chat, f)"
   ]
  },
  {
   "cell_type": "code",
   "execution_count": 8,
   "id": "951b572d",
   "metadata": {
    "colab": {
     "base_uri": "https://localhost:8080/"
    },
    "executionInfo": {
     "elapsed": 8668,
     "status": "ok",
     "timestamp": 1702081271777,
     "user": {
      "displayName": "Noel D Souza",
      "userId": "08271886554769483306"
     },
     "user_tz": 300
    },
    "id": "951b572d",
    "outputId": "bacdbeb3-f4b9-407f-8f2b-21b7ae671b23"
   },
   "outputs": [
    {
     "name": "stderr",
     "output_type": "stream",
     "text": [
      "[nltk_data] Downloading package punkt to /tmp/llama_index...\n",
      "[nltk_data]   Unzipping tokenizers/punkt.zip.\n"
     ]
    }
   ],
   "source": [
    "PagedCSVReader = download_loader(\"PagedCSVReader\")\n",
    "\n",
    "llama_index.set_global_handler(\"simple\")\n",
    "\n",
    "# def initialize_index():\n",
    "#     global index\n",
    "#     loader = PagedCSVReader(encoding=\"utf-8\")\n",
    "#     documents = loader.load_data(file=Path('./documents/grocery.csv'))\n",
    "#     index = VectorStoreIndex.from_documents(documents)\n",
    "#     index.storage_context.persist(persist_dir=\"./storage/\")\n",
    "\n",
    "PagedCSVReader = download_loader(\"PagedCSVReader\")\n",
    "loader = PagedCSVReader(encoding=\"utf-8\")\n",
    "documents = loader.load_data(file=Path('./documents/grocery.csv'))\n",
    "index = VectorStoreIndex.from_documents(documents)\n",
    "index.storage_context.persist(persist_dir=\"./storage/\")\n"
   ]
  },
  {
   "cell_type": "markdown",
   "id": "7b93487a",
   "metadata": {
    "id": "7b93487a"
   },
   "source": [
    "## OpenAI Agent with Query Engine Tools"
   ]
  },
  {
   "cell_type": "code",
   "execution_count": 6,
   "id": "4abe281b",
   "metadata": {
    "executionInfo": {
     "elapsed": 162,
     "status": "ok",
     "timestamp": 1702081242370,
     "user": {
      "displayName": "Noel D Souza",
      "userId": "08271886554769483306"
     },
     "user_tz": 300
    },
    "id": "4abe281b"
   },
   "outputs": [],
   "source": [
    "def get_cart_item_quantity(item_title):\n",
    "    \"\"\"Gets the current quantity in cart of a certain item.\n",
    "    It returns a tuple of (current_quatity, item_id)\n",
    "    \"\"\"\n",
    "    return 3, 26\n",
    "\n",
    "\n",
    "\n",
    "def set_cart_item_quantity(item_id, new_quantity):\n",
    "    \"\"\"Sets the quantity in cart of a certain item\"\"\"\n",
    "    return 200"
   ]
  },
  {
   "cell_type": "code",
   "execution_count": 9,
   "id": "7268abc2",
   "metadata": {
    "executionInfo": {
     "elapsed": 208,
     "status": "ok",
     "timestamp": 1702081271982,
     "user": {
      "displayName": "Noel D Souza",
      "userId": "08271886554769483306"
     },
     "user_tz": 300
    },
    "id": "7268abc2"
   },
   "outputs": [],
   "source": [
    "model = \"gpt-4-1106-preview\"\n",
    "\n",
    "# the query engine that retrieves items from the vector index\n",
    "grocery_query_engine = index.as_query_engine(similarity_top_k=5, model=model)\n",
    "query_engine_tools = [\n",
    "    QueryEngineTool(\n",
    "        query_engine=grocery_query_engine,\n",
    "        metadata=ToolMetadata(\n",
    "            name=\"get_grocery_items\",\n",
    "            description=(\n",
    "                \"Retrieves relavant grocery items that are available in the inventory.\"\n",
    "            ),\n",
    "        ),\n",
    "    )]\n",
    "\n",
    "get_cart_item_quantity_tool = FunctionTool.from_defaults(fn=get_cart_item_quantity)\n",
    "set_cart_item_quantity_tool = FunctionTool.from_defaults(fn=set_cart_item_quantity)\n",
    "tools = query_engine_tools + [get_cart_item_quantity_tool, set_cart_item_quantity_tool]\n",
    "stand_alone_agent = OpenAIAgent.from_tools(\n",
    "    tools,\n",
    "    verbose=True,\n",
    "    model=model,\n",
    "    system_prompt=\"\"\"You are a grocery assistant who suggests available grocery items to online grocery shoppers.\n",
    "    You only suggest items that are in the inventory, and none others.\n",
    "    If an item isn't relevant to the user's query, don't list it.\n",
    "    Always answer in one sentence or less.\n",
    "    When describing the grocery items, you only use the information you get from the tool.\n",
    "    You suggest a maximum of 5 relevant items from the inventory.\n",
    "    If it's at all possible that the user is seeking grocery suggestions, you interpret their query that way and use the tool to find suggestions from the inventory.\n",
    "    You do not provide suggestions that aren't related to groceries.\n",
    "    If the user asks something that clearly has nothing to do with groceries in any concievable way, ask them to \"Kindly fuck off. That has nothing to do with groceries.\".\n",
    "    You also are able to update the quantity of an item in the cart.\"\"\"\n",
    ")\n"
   ]
  },
  {
   "cell_type": "code",
   "execution_count": 10,
   "id": "23f41e82",
   "metadata": {
    "colab": {
     "base_uri": "https://localhost:8080/",
     "height": 208
    },
    "executionInfo": {
     "elapsed": 196,
     "status": "error",
     "timestamp": 1702081301244,
     "user": {
      "displayName": "Noel D Souza",
      "userId": "08271886554769483306"
     },
     "user_tz": 300
    },
    "id": "23f41e82",
    "outputId": "ce1d5a13-6275-4eca-843f-aa11963ff2e2"
   },
   "outputs": [
    {
     "ename": "NameError",
     "evalue": "ignored",
     "output_type": "error",
     "traceback": [
      "\u001b[0;31m---------------------------------------------------------------------------\u001b[0m",
      "\u001b[0;31mNameError\u001b[0m                                 Traceback (most recent call last)",
      "\u001b[0;32m<ipython-input-10-64599cc2d319>\u001b[0m in \u001b[0;36m<cell line: 2>\u001b[0;34m()\u001b[0m\n\u001b[1;32m      1\u001b[0m \u001b[0mchat_input\u001b[0m \u001b[0;34m=\u001b[0m \u001b[0;34m\"Suggest me gluten free snacks\"\u001b[0m\u001b[0;34m\u001b[0m\u001b[0;34m\u001b[0m\u001b[0m\n\u001b[0;32m----> 2\u001b[0;31m \u001b[0mresponse\u001b[0m \u001b[0;34m=\u001b[0m \u001b[0mouter_agent\u001b[0m\u001b[0;34m.\u001b[0m\u001b[0mchat\u001b[0m\u001b[0;34m(\u001b[0m\u001b[0mchat_input\u001b[0m\u001b[0;34m)\u001b[0m\u001b[0;34m\u001b[0m\u001b[0;34m\u001b[0m\u001b[0m\n\u001b[0m\u001b[1;32m      3\u001b[0m \u001b[0msave_chat\u001b[0m\u001b[0;34m(\u001b[0m\u001b[0mchat_input\u001b[0m\u001b[0;34m,\u001b[0m \u001b[0mresponse\u001b[0m\u001b[0;34m.\u001b[0m\u001b[0mresponse\u001b[0m\u001b[0;34m)\u001b[0m\u001b[0;34m\u001b[0m\u001b[0;34m\u001b[0m\u001b[0m\n",
      "\u001b[0;31mNameError\u001b[0m: name 'outer_agent' is not defined"
     ]
    }
   ],
   "source": [
    "chat_input = \"Suggest me gluten free snacks\"\n",
    "response = outer_agent.chat(chat_input)\n",
    "save_chat(chat_input, response.response)"
   ]
  },
  {
   "cell_type": "code",
   "execution_count": null,
   "id": "7f48d5df",
   "metadata": {
    "id": "7f48d5df"
   },
   "outputs": [],
   "source": []
  },
  {
   "cell_type": "code",
   "execution_count": null,
   "id": "f348124e",
   "metadata": {
    "id": "f348124e"
   },
   "outputs": [],
   "source": []
  },
  {
   "cell_type": "markdown",
   "id": "9ff9b345",
   "metadata": {
    "id": "9ff9b345"
   },
   "source": [
    "### Halloween party snack scenario"
   ]
  },
  {
   "cell_type": "code",
   "execution_count": null,
   "id": "de860176",
   "metadata": {
    "id": "de860176"
   },
   "outputs": [],
   "source": [
    "# response = await agent.astream_chat(\"What snacks would be good for a halloween party?\")\n",
    "# response_gen = response.rsponse_gen\n",
    "\n",
    "# async for token in response.async_response_gen():\n",
    "#     print(token, end=\"\")"
   ]
  },
  {
   "cell_type": "code",
   "execution_count": null,
   "id": "21aaabbe",
   "metadata": {
    "id": "21aaabbe"
   },
   "outputs": [],
   "source": [
    "# response.sources[0]"
   ]
  },
  {
   "cell_type": "code",
   "execution_count": null,
   "id": "42227ac3",
   "metadata": {
    "id": "42227ac3"
   },
   "outputs": [],
   "source": [
    "# for source in response.sources:\n",
    "#     for node in source.raw_output.source_nodes:\n",
    "#        print(node.node)\n",
    "# response\n",
    "# response.sources[0].raw_output.__dict__.keys()"
   ]
  },
  {
   "cell_type": "code",
   "execution_count": null,
   "id": "1d657f3a",
   "metadata": {
    "id": "1d657f3a"
   },
   "outputs": [],
   "source": [
    "# num_source_nodes = len(response.sources[0].raw_output.source_nodes)\n",
    "# nodes = [response.sources[0].raw_output.source_nodes[i] for i in range(num_source_nodes)]"
   ]
  },
  {
   "cell_type": "code",
   "execution_count": null,
   "id": "de1717bd",
   "metadata": {
    "id": "de1717bd"
   },
   "outputs": [],
   "source": [
    "# def csv_line_text_to_dict(line_text):\n",
    "#     line_text = line_text.lstrip('\\ufeff')\n",
    "#     lines = line_text.strip().split('\\n')\n",
    "#     data_dict = {line.split(':')[0].strip(): line.split(':')[1].strip() for line in lines}\n",
    "#     return data_dict\n",
    "\n",
    "# for node in nodes:\n",
    "# #     print(node.__dict__.keys())\n",
    "#     print(csv_line_text_to_dict(node.node.text))"
   ]
  },
  {
   "cell_type": "code",
   "execution_count": null,
   "id": "da9244de",
   "metadata": {
    "id": "da9244de"
   },
   "outputs": [],
   "source": [
    "# response = await agent.astream_chat(\"Tell me more about the first one\")\n",
    "# response_gen = response.response_gen\n",
    "\n",
    "# async for token in response.async_response_gen():\n",
    "#     print(token, end=\"\")"
   ]
  },
  {
   "cell_type": "markdown",
   "id": "5f936f02",
   "metadata": {
    "id": "5f936f02"
   },
   "source": [
    "### Hiking Scenario"
   ]
  },
  {
   "cell_type": "code",
   "execution_count": null,
   "id": "2d0e7f99",
   "metadata": {
    "id": "2d0e7f99"
   },
   "outputs": [],
   "source": [
    "# response = await agent.astream_chat(\"I'm going on a three day hiking trip through the smoky mountains. What foods should I pack?\")\n",
    "# response_gen = response.response_gen\n",
    "\n",
    "# async for token in response.async_response_gen():\n",
    "#     print(token, end=\"\")"
   ]
  },
  {
   "cell_type": "code",
   "execution_count": null,
   "id": "bd7c1e38",
   "metadata": {
    "id": "bd7c1e38"
   },
   "outputs": [],
   "source": [
    "# response = await agent.astream_chat(\"I'm going on a three day hiking trip through the smoky mountains. What food should I pack?\")\n",
    "# response_gen = response.response_gen\n",
    "\n",
    "# async for token in response.async_response_gen():\n",
    "#     print(token, end=\"\")"
   ]
  },
  {
   "cell_type": "code",
   "execution_count": 11,
   "id": "f4b55f3c",
   "metadata": {
    "executionInfo": {
     "elapsed": 153,
     "status": "ok",
     "timestamp": 1702081319530,
     "user": {
      "displayName": "Noel D Souza",
      "userId": "08271886554769483306"
     },
     "user_tz": 300
    },
    "id": "f4b55f3c"
   },
   "outputs": [],
   "source": [
    "# llm = OpenAI(model=\"gpt-4-1106-preview\")\n",
    "# agent = OpenAIAgent.from_tools(\n",
    "#     [get_cart_item_quantity_tool, set_cart_item_quantity_tool], llm=llm, verbose=True\n",
    "# )\n",
    "\n",
    "recommendations_tools = [ # tools to be used by the recommendations_agent\n",
    "    QueryEngineTool(\n",
    "        query_engine=grocery_query_engine,\n",
    "        metadata=ToolMetadata(\n",
    "            name=\"get_grocery_items\",\n",
    "            description=(\n",
    "                \"Retrieves relavant grocery items that are available in the inventory.\"\n",
    "            ),\n",
    "        ),\n",
    "    )]\n",
    "\n",
    "recommendations_agent = OpenAIAgent.from_tools(\n",
    "    recommendations_tools,\n",
    "    verbose=True,\n",
    "    model=\"gpt-4-1106-preview\",\n",
    "    system_prompt=\"\"\"You are an agent that suggests grocery items available in the inventory based on the user's query.\n",
    "    You only suggest items that are in the inventory, and none others.\n",
    "    You try to suggest 3-5 items.\n",
    "    You only recommend grocery items that suit the user's query.\n",
    "    If it's at all possible that the user is seeking grocery suggestions, you interpret their query that way and use the tool to find suggestions from the inventory.\n",
    "    When describing the grocery items, you only use the information you get from the tool.\n",
    "    You do not provide suggestions that aren't related to groceries.\n",
    "    \"\"\"\n",
    ")\n",
    "\n",
    "manage_cart_tools = [get_cart_item_quantity_tool, set_cart_item_quantity_tool]\n",
    "\n",
    "manage_cart_agent = OpenAIAgent.from_tools(\n",
    "    manage_cart_tools,\n",
    "    verbose=True,\n",
    "    model=\"gpt-4-1106-preview\",\n",
    "    system_prompt=\"\"\"You are an agent that is able to manage an online grocery shopper's shopping cart.\n",
    "    You can get the current quantity of an item in the cart and/or update the quantity of an item in the cart.\n",
    "    \"\"\"\n",
    ")"
   ]
  },
  {
   "cell_type": "code",
   "execution_count": 12,
   "id": "e20eb949",
   "metadata": {
    "executionInfo": {
     "elapsed": 396,
     "status": "ok",
     "timestamp": 1702081321328,
     "user": {
      "displayName": "Noel D Souza",
      "userId": "08271886554769483306"
     },
     "user_tz": 300
    },
    "id": "e20eb949"
   },
   "outputs": [],
   "source": [
    "outer_agent_tools = [\n",
    "    QueryEngineTool(\n",
    "        query_engine=recommendations_agent,\n",
    "        metadata=ToolMetadata(\n",
    "            name=\"recommendations_agent\", description=\"Agent that can give grocery item recommendations based on the user's query that are available in the inventory.\"\n",
    "        ),\n",
    "    ),\n",
    "    QueryEngineTool(\n",
    "        query_engine=manage_cart_agent,\n",
    "        metadata=ToolMetadata(\n",
    "            name=\"manage_cart_agent\",\n",
    "            description=\"Tool that can manage the quantity of items in the cart.\",\n",
    "        ),\n",
    "    ),\n",
    "]\n",
    "\n",
    "\n",
    "outer_agent = OpenAIAgent.from_tools(\n",
    "    outer_agent_tools,\n",
    "    verbose=True,\n",
    "    model=\"gpt-4-1106-preview\",\n",
    "    system_prompt=\"\"\"You are a grocery assistant chatbot.\n",
    "    You choose the correct tool to use based on the user's query.\n",
    "    You should use a tool whenever possible.\n",
    "    If the user mentions food (or anything similar to that), you assume they're talking about groceries.\n",
    "    If the tools can't be used for the user's query, respond to the query directly without calling a tool.\n",
    "    You don't give general food recommendations that you didn't get from your tools.\n",
    "    \"\"\"\n",
    ")\n",
    "# outer_agent = ReActAgent.from_tools(query_engine_tools, llm=llm, verbose=True)\n"
   ]
  },
  {
   "cell_type": "code",
   "execution_count": null,
   "id": "38307acb",
   "metadata": {
    "id": "38307acb",
    "outputId": "4a9fa8cc-bd1a-4a15-83a5-d2f1a251b74c"
   },
   "outputs": [
    {
     "name": "stdout",
     "output_type": "stream",
     "text": [
      "STARTING TURN 1\n",
      "---------------\n",
      "\n",
      "** Messages: **\n",
      "system: You are a grocery assistant chatbot. \n",
      "    You choose the correct tool to use based on the user's query. \n",
      "    You should use a tool whenever possible.\n",
      "    If the user mentions food (or anything similar to that), you assume they're talking about groceries.\n",
      "    If the tools can't be used for the user's query, respond to the query directly without calling a tool.\n",
      "    You don't give general food recommendations that you didn't get from your tools. \n",
      "    \n",
      "user: hi\n",
      "**************************************************\n",
      "** Response: **\n",
      "assistant: Hello! How can I assist you today?\n",
      "**************************************************\n",
      "\n",
      "\n"
     ]
    },
    {
     "data": {
      "text/plain": [
       "AgentChatResponse(response='Hello! How can I assist you today?', sources=[], source_nodes=[])"
      ]
     },
     "execution_count": 42,
     "metadata": {},
     "output_type": "execute_result"
    }
   ],
   "source": [
    "outer_agent.chat(\"hi\")"
   ]
  },
  {
   "cell_type": "code",
   "execution_count": 26,
   "id": "jaqY2mQo-C3c",
   "metadata": {
    "executionInfo": {
     "elapsed": 167,
     "status": "ok",
     "timestamp": 1702081632207,
     "user": {
      "displayName": "Noel D Souza",
      "userId": "08271886554769483306"
     },
     "user_tz": 300
    },
    "id": "jaqY2mQo-C3c"
   },
   "outputs": [],
   "source": [
    "food_related_needs = [\n",
    "    \"Healthy breakfast options for busy mornings\",\n",
    "    \"Low-carb meal ideas for a keto diet\",\n",
    "    \"Refreshing beverage choices for a hot summer day\",\n",
    "    \"Nutritious lunchbox ideas for school children\",\n",
    "    \"Quick and easy dinner recipes for a family of six\",\n",
    "    \"Dairy-free dessert options for lactose-intolerant individuals\",\n",
    "    \"High-protein snack ideas for bodybuilders\",\n",
    "    \"Festive appetizers for a New Year's Eve party\",\n",
    "    \"Romantic dinner ideas for a Valentine's Day celebration\",\n",
    "    \"Hearty soup recipes for cold winter evenings\"\n",
    "]"
   ]
  },
  {
   "cell_type": "code",
   "execution_count": null,
   "id": "615824d7",
   "metadata": {
    "id": "615824d7"
   },
   "outputs": [],
   "source": [
    "for chat_input in food_related_needs:\n",
    "    # chat_input = \"Snacks for children below 5 years\"\n",
    "    response = outer_agent.chat(chat_input)\n",
    "    save_chat(chat_input, response.response)"
   ]
  },
  {
   "cell_type": "code",
   "execution_count": null,
   "id": "f38ec1f8",
   "metadata": {
    "id": "f38ec1f8"
   },
   "outputs": [],
   "source": [
    "chat_input = \"Add 2 of the spooky cookies to my cart\"\n",
    "response = outer_agent.chat(chat_input)\n",
    "save_chat(chat_input, response.response)"
   ]
  },
  {
   "cell_type": "code",
   "execution_count": null,
   "id": "1f483c2e",
   "metadata": {
    "id": "1f483c2e",
    "outputId": "a8d57deb-7cbf-42cb-f5f6-c6442e62f27e"
   },
   "outputs": [
    {
     "name": "stdout",
     "output_type": "stream",
     "text": [
      "STARTING TURN 1\n",
      "---------------\n",
      "\n",
      "** Messages: **\n",
      "system: You are a grocery assistant chatbot. \n",
      "    You choose the correct tool to use based on the user's query. \n",
      "    If the tools can't be used for the user's query, respond to the query directly without calling a tool.\n",
      "    \n",
      "user: hi\n",
      "assistant: Hello! How can I assist you today?\n",
      "user: Give me halloween food recommendations\n",
      "assistant: None\n",
      "tool: Based on your query for \"halloween food,\" I have some spooky suggestions for you. How about trying some Spooky Cookies and Haunted Chips? These Halloween-themed snacks will add a fun and festive touch to your Halloween celebrations. Enjoy the delicious flavors while embracing the spooky spirit of the season!\n",
      "assistant: I recommend trying some Spooky Cookies and Haunted Chips for your Halloween celebrations. These Halloween-themed snacks will add a fun and festive touch to your festivities. Enjoy the delicious flavors while embracing the spooky spirit of the season!\n",
      "user: Add 2 of the spooky cookies to my cart\n",
      "assistant: None\n",
      "tool: I have updated the quantity of spooky cookies in your cart to 5.\n",
      "assistant: I have added 2 spooky cookies to your cart. You now have a total of 5 spooky cookies in your cart.\n",
      "user: Great. I'm going on a big hike. What food will I need?\n",
      "**************************************************\n",
      "** Response: **\n",
      "assistant: None\n",
      "**************************************************\n",
      "\n",
      "\n",
      "=== Calling Function ===\n",
      "Calling function: recommendations_agent with args: {\n",
      "  \"input\": \"food for hiking\"\n",
      "}\n",
      "STARTING TURN 1\n",
      "---------------\n",
      "\n",
      "** Messages: **\n",
      "system: You are an agent that suggests grocery items available in the inventory based on the user's query.\n",
      "    You only suggest items that are in the inventory, and none others. \n",
      "    You try to suggest 3-5 items.\n",
      "    You only recommend grocery items that suit the user's query.\n",
      "    If it's at all possible that the user is seeking grocery suggestions, you interpret their query that way and use the tool to find suggestions from the inventory.\n",
      "    When describing the grocery items, you only use the information you get from the tool.\n",
      "    You do not provide suggestions that aren't related to groceries.\n",
      "    \n",
      "user: {'input': 'food for hiking'}\n",
      "**************************************************\n",
      "** Response: **\n",
      "assistant: None\n",
      "**************************************************\n",
      "\n",
      "\n",
      "=== Calling Function ===\n",
      "Calling function: get_grocery_items with args: {\n",
      "  \"input\": \"food for hiking\"\n",
      "}\n",
      "** Messages: **\n",
      "system: You are an expert Q&A system that is trusted around the world.\n",
      "Always answer the query using the provided context information, and not prior knowledge.\n",
      "Some rules to follow:\n",
      "1. Never directly reference the given context in your answer.\n",
      "2. Avoid statements like 'Based on the context, ...' or 'The context information ...' or anything along those lines.\n",
      "user: Context information is below.\n",
      "---------------------\n",
      "﻿Title: Hikers Delight\n",
      "Type: Snacks\n",
      "Price: $5.99\n",
      "Weight: 1\n",
      "Description: Energy bar for hikers\n",
      "\n",
      "﻿Title: Nature Valley granola bars\n",
      "Type: Snacks\n",
      "Price: $2.99\n",
      "Weight: 170\n",
      "Description: Oat-based snack bars\n",
      "\n",
      "﻿Title: Hebrew National hot dogs\n",
      "Type: Meat\n",
      "Price: $4.99\n",
      "Weight: 340\n",
      "Description: Kosher beef hot dogs\n",
      "\n",
      "﻿Title: Hebrew National hot dogs\n",
      "Type: Meat\n",
      "Price: $4.99\n",
      "Weight: 340\n",
      "Description: Kosher beef hot dogs\n",
      "\n",
      "﻿Title: Spooky Cookies\n",
      "Type: Snacks\n",
      "Price: 0.99\n",
      "Weight: 12\n",
      "Description: Halloween themed cookies\n",
      "---------------------\n",
      "Given the context information and not prior knowledge, answer the query.\n",
      "Query: {'input': 'food for hiking'}\n",
      "Answer: \n",
      "**************************************************\n",
      "** Response: **\n",
      "assistant: Hikers Delight is a snack that could be suitable for hiking.\n",
      "**************************************************\n",
      "\n",
      "\n",
      "Got output: Hikers Delight is a snack that could be suitable for hiking.\n",
      "========================\n",
      "\n",
      "STARTING TURN 2\n",
      "---------------\n",
      "\n",
      "** Messages: **\n",
      "system: You are an agent that suggests grocery items available in the inventory based on the user's query.\n",
      "    You only suggest items that are in the inventory, and none others. \n",
      "    You try to suggest 3-5 items.\n",
      "    You only recommend grocery items that suit the user's query.\n",
      "    If it's at all possible that the user is seeking grocery suggestions, you interpret their query that way and use the tool to find suggestions from the inventory.\n",
      "    When describing the grocery items, you only use the information you get from the tool.\n",
      "    You do not provide suggestions that aren't related to groceries.\n",
      "    \n",
      "user: {'input': 'food for hiking'}\n",
      "assistant: None\n",
      "tool: Hikers Delight is a snack that could be suitable for hiking.\n",
      "**************************************************\n",
      "** Response: **\n",
      "assistant: Based on your query for \"food for hiking,\" I suggest trying the \"Hikers Delight\" snack. It is a great option for hikers and provides a convenient and energy-packed snack while on the trail. Enjoy your hiking adventure!\n",
      "**************************************************\n",
      "\n",
      "\n",
      "Got output: Based on your query for \"food for hiking,\" I suggest trying the \"Hikers Delight\" snack. It is a great option for hikers and provides a convenient and energy-packed snack while on the trail. Enjoy your hiking adventure!\n",
      "========================\n",
      "\n",
      "STARTING TURN 2\n",
      "---------------\n",
      "\n",
      "** Messages: **\n",
      "system: You are a grocery assistant chatbot. \n",
      "    You choose the correct tool to use based on the user's query. \n",
      "    If the tools can't be used for the user's query, respond to the query directly without calling a tool.\n",
      "    \n",
      "user: hi\n",
      "assistant: Hello! How can I assist you today?\n",
      "user: Give me halloween food recommendations\n",
      "assistant: None\n",
      "tool: Based on your query for \"halloween food,\" I have some spooky suggestions for you. How about trying some Spooky Cookies and Haunted Chips? These Halloween-themed snacks will add a fun and festive touch to your Halloween celebrations. Enjoy the delicious flavors while embracing the spooky spirit of the season!\n",
      "assistant: I recommend trying some Spooky Cookies and Haunted Chips for your Halloween celebrations. These Halloween-themed snacks will add a fun and festive touch to your festivities. Enjoy the delicious flavors while embracing the spooky spirit of the season!\n",
      "user: Add 2 of the spooky cookies to my cart\n",
      "assistant: None\n",
      "tool: I have updated the quantity of spooky cookies in your cart to 5.\n",
      "assistant: I have added 2 spooky cookies to your cart. You now have a total of 5 spooky cookies in your cart.\n",
      "user: Great. I'm going on a big hike. What food will I need?\n",
      "assistant: None\n",
      "tool: Based on your query for \"food for hiking,\" I suggest trying the \"Hikers Delight\" snack. It is a great option for hikers and provides a convenient and energy-packed snack while on the trail. Enjoy your hiking adventure!\n",
      "**************************************************\n",
      "** Response: **\n",
      "assistant: For your big hike, I recommend trying the \"Hikers Delight\" snack. It is a convenient and energy-packed option that will keep you fueled during your hike. Enjoy your hiking adventure!\n",
      "**************************************************\n",
      "\n",
      "\n"
     ]
    },
    {
     "data": {
      "text/plain": [
       "AgentChatResponse(response='For your big hike, I recommend trying the \"Hikers Delight\" snack. It is a convenient and energy-packed option that will keep you fueled during your hike. Enjoy your hiking adventure!', sources=[ToolOutput(content='Based on your query for \"food for hiking,\" I suggest trying the \"Hikers Delight\" snack. It is a great option for hikers and provides a convenient and energy-packed snack while on the trail. Enjoy your hiking adventure!', tool_name='recommendations_agent', raw_input={'input': <bound method Kernel.raw_input of <ipykernel.ipkernel.IPythonKernel object at 0x111df5dd0>>}, raw_output=Response(response='Based on your query for \"food for hiking,\" I suggest trying the \"Hikers Delight\" snack. It is a great option for hikers and provides a convenient and energy-packed snack while on the trail. Enjoy your hiking adventure!', source_nodes=[NodeWithScore(node=TextNode(id_='4b393dc1-ff8b-43e3-bef2-88dca6703632', embedding=None, metadata={}, excluded_embed_metadata_keys=[], excluded_llm_metadata_keys=[], relationships={<NodeRelationship.SOURCE: '1'>: RelatedNodeInfo(node_id='a7fca437-af18-423d-8387-aff2faadae9d', node_type=<ObjectType.DOCUMENT: '4'>, metadata={}, hash='d93eb73e28fe70c7b1ff43216278311c77931e6c63a2d7a98f9ccd8e589934ab')}, hash='d93eb73e28fe70c7b1ff43216278311c77931e6c63a2d7a98f9ccd8e589934ab', text='\\ufeffTitle: Hikers Delight\\nType: Snacks\\nPrice: $5.99\\nWeight: 1\\nDescription: Energy bar for hikers', start_char_idx=None, end_char_idx=None, text_template='{metadata_str}\\n\\n{content}', metadata_template='{key}: {value}', metadata_seperator='\\n'), score=0.7913177571686071), NodeWithScore(node=TextNode(id_='d1ac6bb7-2ad7-4f97-b532-89bd60d8cbf7', embedding=None, metadata={}, excluded_embed_metadata_keys=[], excluded_llm_metadata_keys=[], relationships={<NodeRelationship.SOURCE: '1'>: RelatedNodeInfo(node_id='0cdc0826-1495-40bd-ae35-a38e906fc183', node_type=<ObjectType.DOCUMENT: '4'>, metadata={}, hash='6602b464124fdf40f0474b2af7e2e6907c2627d0e338ab0af330b7628d676f34')}, hash='6602b464124fdf40f0474b2af7e2e6907c2627d0e338ab0af330b7628d676f34', text='\\ufeffTitle: Nature Valley granola bars\\nType: Snacks\\nPrice: $2.99\\nWeight: 170\\nDescription: Oat-based snack bars', start_char_idx=None, end_char_idx=None, text_template='{metadata_str}\\n\\n{content}', metadata_template='{key}: {value}', metadata_seperator='\\n'), score=0.73666151565767), NodeWithScore(node=TextNode(id_='69d4502c-be75-4ccd-836a-9a7d70ba5131', embedding=None, metadata={}, excluded_embed_metadata_keys=[], excluded_llm_metadata_keys=[], relationships={<NodeRelationship.SOURCE: '1'>: RelatedNodeInfo(node_id='e8a570d9-c73f-4077-beeb-7ef760209416', node_type=<ObjectType.DOCUMENT: '4'>, metadata={}, hash='976a5f228f36a9c923dca7b55c07140f044844cded823de3f422ba64129d3ceb')}, hash='976a5f228f36a9c923dca7b55c07140f044844cded823de3f422ba64129d3ceb', text='\\ufeffTitle: Hebrew National hot dogs\\nType: Meat\\nPrice: $4.99\\nWeight: 340\\nDescription: Kosher beef hot dogs', start_char_idx=None, end_char_idx=None, text_template='{metadata_str}\\n\\n{content}', metadata_template='{key}: {value}', metadata_seperator='\\n'), score=0.7328801452021999), NodeWithScore(node=TextNode(id_='be70420c-7fce-4255-be84-3cb8b6a934c7', embedding=None, metadata={}, excluded_embed_metadata_keys=[], excluded_llm_metadata_keys=[], relationships={<NodeRelationship.SOURCE: '1'>: RelatedNodeInfo(node_id='e50e9c72-1abe-4b3e-ad4b-5bce04037ae5', node_type=<ObjectType.DOCUMENT: '4'>, metadata={}, hash='976a5f228f36a9c923dca7b55c07140f044844cded823de3f422ba64129d3ceb')}, hash='976a5f228f36a9c923dca7b55c07140f044844cded823de3f422ba64129d3ceb', text='\\ufeffTitle: Hebrew National hot dogs\\nType: Meat\\nPrice: $4.99\\nWeight: 340\\nDescription: Kosher beef hot dogs', start_char_idx=None, end_char_idx=None, text_template='{metadata_str}\\n\\n{content}', metadata_template='{key}: {value}', metadata_seperator='\\n'), score=0.7328801452021999), NodeWithScore(node=TextNode(id_='08c71f2c-0c17-47b1-b6b3-f62efcedd713', embedding=None, metadata={}, excluded_embed_metadata_keys=[], excluded_llm_metadata_keys=[], relationships={<NodeRelationship.SOURCE: '1'>: RelatedNodeInfo(node_id='a0bcbb9b-18f7-4963-bf07-5c16b48c5c88', node_type=<ObjectType.DOCUMENT: '4'>, metadata={}, hash='a6431cae193d1f3f22b69bf10f4c3a5608d575d453b0d3169bef51970bc7eb27')}, hash='a6431cae193d1f3f22b69bf10f4c3a5608d575d453b0d3169bef51970bc7eb27', text='\\ufeffTitle: Spooky Cookies\\nType: Snacks\\nPrice: 0.99\\nWeight: 12\\nDescription: Halloween themed cookies', start_char_idx=None, end_char_idx=None, text_template='{metadata_str}\\n\\n{content}', metadata_template='{key}: {value}', metadata_seperator='\\n'), score=0.7306884216288781)], metadata=None))], source_nodes=[NodeWithScore(node=TextNode(id_='4b393dc1-ff8b-43e3-bef2-88dca6703632', embedding=None, metadata={}, excluded_embed_metadata_keys=[], excluded_llm_metadata_keys=[], relationships={<NodeRelationship.SOURCE: '1'>: RelatedNodeInfo(node_id='a7fca437-af18-423d-8387-aff2faadae9d', node_type=<ObjectType.DOCUMENT: '4'>, metadata={}, hash='d93eb73e28fe70c7b1ff43216278311c77931e6c63a2d7a98f9ccd8e589934ab')}, hash='d93eb73e28fe70c7b1ff43216278311c77931e6c63a2d7a98f9ccd8e589934ab', text='\\ufeffTitle: Hikers Delight\\nType: Snacks\\nPrice: $5.99\\nWeight: 1\\nDescription: Energy bar for hikers', start_char_idx=None, end_char_idx=None, text_template='{metadata_str}\\n\\n{content}', metadata_template='{key}: {value}', metadata_seperator='\\n'), score=0.7913177571686071), NodeWithScore(node=TextNode(id_='d1ac6bb7-2ad7-4f97-b532-89bd60d8cbf7', embedding=None, metadata={}, excluded_embed_metadata_keys=[], excluded_llm_metadata_keys=[], relationships={<NodeRelationship.SOURCE: '1'>: RelatedNodeInfo(node_id='0cdc0826-1495-40bd-ae35-a38e906fc183', node_type=<ObjectType.DOCUMENT: '4'>, metadata={}, hash='6602b464124fdf40f0474b2af7e2e6907c2627d0e338ab0af330b7628d676f34')}, hash='6602b464124fdf40f0474b2af7e2e6907c2627d0e338ab0af330b7628d676f34', text='\\ufeffTitle: Nature Valley granola bars\\nType: Snacks\\nPrice: $2.99\\nWeight: 170\\nDescription: Oat-based snack bars', start_char_idx=None, end_char_idx=None, text_template='{metadata_str}\\n\\n{content}', metadata_template='{key}: {value}', metadata_seperator='\\n'), score=0.73666151565767), NodeWithScore(node=TextNode(id_='69d4502c-be75-4ccd-836a-9a7d70ba5131', embedding=None, metadata={}, excluded_embed_metadata_keys=[], excluded_llm_metadata_keys=[], relationships={<NodeRelationship.SOURCE: '1'>: RelatedNodeInfo(node_id='e8a570d9-c73f-4077-beeb-7ef760209416', node_type=<ObjectType.DOCUMENT: '4'>, metadata={}, hash='976a5f228f36a9c923dca7b55c07140f044844cded823de3f422ba64129d3ceb')}, hash='976a5f228f36a9c923dca7b55c07140f044844cded823de3f422ba64129d3ceb', text='\\ufeffTitle: Hebrew National hot dogs\\nType: Meat\\nPrice: $4.99\\nWeight: 340\\nDescription: Kosher beef hot dogs', start_char_idx=None, end_char_idx=None, text_template='{metadata_str}\\n\\n{content}', metadata_template='{key}: {value}', metadata_seperator='\\n'), score=0.7328801452021999), NodeWithScore(node=TextNode(id_='be70420c-7fce-4255-be84-3cb8b6a934c7', embedding=None, metadata={}, excluded_embed_metadata_keys=[], excluded_llm_metadata_keys=[], relationships={<NodeRelationship.SOURCE: '1'>: RelatedNodeInfo(node_id='e50e9c72-1abe-4b3e-ad4b-5bce04037ae5', node_type=<ObjectType.DOCUMENT: '4'>, metadata={}, hash='976a5f228f36a9c923dca7b55c07140f044844cded823de3f422ba64129d3ceb')}, hash='976a5f228f36a9c923dca7b55c07140f044844cded823de3f422ba64129d3ceb', text='\\ufeffTitle: Hebrew National hot dogs\\nType: Meat\\nPrice: $4.99\\nWeight: 340\\nDescription: Kosher beef hot dogs', start_char_idx=None, end_char_idx=None, text_template='{metadata_str}\\n\\n{content}', metadata_template='{key}: {value}', metadata_seperator='\\n'), score=0.7328801452021999), NodeWithScore(node=TextNode(id_='08c71f2c-0c17-47b1-b6b3-f62efcedd713', embedding=None, metadata={}, excluded_embed_metadata_keys=[], excluded_llm_metadata_keys=[], relationships={<NodeRelationship.SOURCE: '1'>: RelatedNodeInfo(node_id='a0bcbb9b-18f7-4963-bf07-5c16b48c5c88', node_type=<ObjectType.DOCUMENT: '4'>, metadata={}, hash='a6431cae193d1f3f22b69bf10f4c3a5608d575d453b0d3169bef51970bc7eb27')}, hash='a6431cae193d1f3f22b69bf10f4c3a5608d575d453b0d3169bef51970bc7eb27', text='\\ufeffTitle: Spooky Cookies\\nType: Snacks\\nPrice: 0.99\\nWeight: 12\\nDescription: Halloween themed cookies', start_char_idx=None, end_char_idx=None, text_template='{metadata_str}\\n\\n{content}', metadata_template='{key}: {value}', metadata_seperator='\\n'), score=0.7306884216288781)])"
      ]
     },
     "execution_count": 26,
     "metadata": {},
     "output_type": "execute_result"
    }
   ],
   "source": [
    "chat_input = \"Great. I'm going on a big hike. What food will I need?\"\n",
    "response = outer_agent.chat(chat_input)\n",
    "save_chat(chat_input, response.response)"
   ]
  },
  {
   "cell_type": "code",
   "execution_count": null,
   "id": "2e32d0bd",
   "metadata": {
    "id": "2e32d0bd"
   },
   "outputs": [],
   "source": [
    "print(outer_agent.chat(\"I'm going on a big hike. What food will I need?\"))"
   ]
  },
  {
   "cell_type": "code",
   "execution_count": null,
   "id": "1d9423b7",
   "metadata": {
    "id": "1d9423b7"
   },
   "outputs": [],
   "source": []
  },
  {
   "cell_type": "markdown",
   "id": "TUi0DfNt_BY3",
   "metadata": {
    "id": "TUi0DfNt_BY3"
   },
   "source": [
    "Auto Eval code"
   ]
  },
  {
   "cell_type": "code",
   "execution_count": 33,
   "id": "kYVVUUEe_W9V",
   "metadata": {
    "executionInfo": {
     "elapsed": 3,
     "status": "ok",
     "timestamp": 1702082079334,
     "user": {
      "displayName": "Noel D Souza",
      "userId": "08271886554769483306"
     },
     "user_tz": 300
    },
    "id": "kYVVUUEe_W9V"
   },
   "outputs": [],
   "source": [
    "bot_response = \"For grilling, I recommend getting some high-quality hot dogs like Hebrew National. They have a delicious flavor and are perfect for BBQs. \\n\\nAs for sides, Knorr rice sides are a convenient and tasty option. They come in a variety of flavors and can be easily prepared on the grill or stove. \\n\\nI hope these recommendations help make your summer BBQ a success!\""
   ]
  },
  {
   "cell_type": "code",
   "execution_count": 32,
   "id": "guC8PsjJ_Zor",
   "metadata": {
    "executionInfo": {
     "elapsed": 185,
     "status": "ok",
     "timestamp": 1702081986842,
     "user": {
      "displayName": "Noel D Souza",
      "userId": "08271886554769483306"
     },
     "user_tz": 300
    },
    "id": "guC8PsjJ_Zor"
   },
   "outputs": [],
   "source": [
    "user_prompt = \"I'm hosting a summer BBQ for my friends. Could you recommend some essential items for grilling and sides?\""
   ]
  },
  {
   "cell_type": "code",
   "execution_count": null,
   "id": "jAet6H4KAB13",
   "metadata": {
    "executionInfo": {
     "elapsed": 153,
     "status": "ok",
     "timestamp": 1702082182144,
     "user": {
      "displayName": "Noel D Souza",
      "userId": "08271886554769483306"
     },
     "user_tz": 300
    },
    "id": "jAet6H4KAB13"
   },
   "outputs": [],
   "source": [
    "# This code is for v1 of the openai package: pypi.org/project/openai\n",
    "from openai import OpenAI\n",
    "client = OpenAI(api_key=\"OPENAI_API_KEY\")\n",
    "import json"
   ]
  },
  {
   "cell_type": "code",
   "execution_count": 61,
   "id": "yvgNB35yBRKv",
   "metadata": {
    "executionInfo": {
     "elapsed": 158,
     "status": "ok",
     "timestamp": 1702082647562,
     "user": {
      "displayName": "Noel D Souza",
      "userId": "08271886554769483306"
     },
     "user_tz": 300
    },
    "id": "yvgNB35yBRKv"
   },
   "outputs": [],
   "source": [
    "files = os.listdir('/content/chat_log')"
   ]
  },
  {
   "cell_type": "code",
   "execution_count": 49,
   "id": "sFmd0oBYAqLJ",
   "metadata": {
    "executionInfo": {
     "elapsed": 212,
     "status": "ok",
     "timestamp": 1702082400799,
     "user": {
      "displayName": "Noel D Souza",
      "userId": "08271886554769483306"
     },
     "user_tz": 300
    },
    "id": "sFmd0oBYAqLJ"
   },
   "outputs": [],
   "source": []
  },
  {
   "cell_type": "code",
   "execution_count": null,
   "id": "Elu-RW9NBGiQ",
   "metadata": {
    "id": "Elu-RW9NBGiQ"
   },
   "outputs": [],
   "source": []
  },
  {
   "cell_type": "code",
   "execution_count": 62,
   "id": "pu9Y1K7e_D2A",
   "metadata": {
    "executionInfo": {
     "elapsed": 18832,
     "status": "ok",
     "timestamp": 1702082668110,
     "user": {
      "displayName": "Noel D Souza",
      "userId": "08271886554769483306"
     },
     "user_tz": 300
    },
    "id": "pu9Y1K7e_D2A"
   },
   "outputs": [],
   "source": [
    "answer = []\n",
    "for file in files:\n",
    "    with open('/content/chat_log/' + file) as f:\n",
    "        data = json.load(f)\n",
    "    response = client.chat.completions.create(\n",
    "    model=\"gpt-4-1106-preview\",\n",
    "    messages=[\n",
    "        {\n",
    "        \"role\": \"system\",\n",
    "        \"content\": \"Your job is to rate interactions between a Grocery Chatbot and Users on a scale of 1-5.\n",
    "        Take into account the length, quality, and variability of the suggestions while evaluating the response. Only output the final score as a number.\"\n",
    "        },\n",
    "        {\n",
    "        \"role\": \"user\",\n",
    "        \"content\": f\"User: {data['input']}\\nBot: {data['output']}\"\n",
    "        },\n",
    "        {\n",
    "        \"role\": \"assistant\",\n",
    "        \"content\": \"1\"\n",
    "        }\n",
    "    ],\n",
    "    temperature=1,\n",
    "    max_tokens=256,\n",
    "    top_p=1,\n",
    "    frequency_penalty=0,\n",
    "    presence_penalty=0\n",
    "    )\n",
    "    answer.append(response.choices[0].message.content)"
   ]
  },
  {
   "cell_type": "code",
   "execution_count": 63,
   "id": "VUe7Zwvm_312",
   "metadata": {
    "colab": {
     "base_uri": "https://localhost:8080/"
    },
    "executionInfo": {
     "elapsed": 173,
     "status": "ok",
     "timestamp": 1702082672034,
     "user": {
      "displayName": "Noel D Souza",
      "userId": "08271886554769483306"
     },
     "user_tz": 300
    },
    "id": "VUe7Zwvm_312",
    "outputId": "b6be2232-0f2e-413d-e108-4acc39e208ab"
   },
   "outputs": [
    {
     "data": {
      "text/plain": [
       "31"
      ]
     },
     "execution_count": 63,
     "metadata": {},
     "output_type": "execute_result"
    }
   ],
   "source": [
    "len(answer)"
   ]
  },
  {
   "cell_type": "code",
   "execution_count": 64,
   "id": "PjxTjsEOB8P4",
   "metadata": {
    "colab": {
     "base_uri": "https://localhost:8080/"
    },
    "executionInfo": {
     "elapsed": 3,
     "status": "ok",
     "timestamp": 1702082672741,
     "user": {
      "displayName": "Noel D Souza",
      "userId": "08271886554769483306"
     },
     "user_tz": 300
    },
    "id": "PjxTjsEOB8P4",
    "outputId": "f32f29d7-698e-4ecf-917a-ac46b89acb89"
   },
   "outputs": [
    {
     "data": {
      "text/plain": [
       "31"
      ]
     },
     "execution_count": 64,
     "metadata": {},
     "output_type": "execute_result"
    }
   ],
   "source": [
    "len(files)"
   ]
  },
  {
   "cell_type": "code",
   "execution_count": 66,
   "id": "VQm7c6abB-6o",
   "metadata": {
    "executionInfo": {
     "elapsed": 3,
     "status": "ok",
     "timestamp": 1702082694023,
     "user": {
      "displayName": "Noel D Souza",
      "userId": "08271886554769483306"
     },
     "user_tz": 300
    },
    "id": "VQm7c6abB-6o"
   },
   "outputs": [],
   "source": [
    "answer_int = [int(val) for val in answer]"
   ]
  },
  {
   "cell_type": "code",
   "execution_count": 67,
   "id": "8I_zRVaTCH--",
   "metadata": {
    "executionInfo": {
     "elapsed": 179,
     "status": "ok",
     "timestamp": 1702082709414,
     "user": {
      "displayName": "Noel D Souza",
      "userId": "08271886554769483306"
     },
     "user_tz": 300
    },
    "id": "8I_zRVaTCH--"
   },
   "outputs": [],
   "source": [
    "import numpy as np\n",
    "arr = np.array(answer_int)"
   ]
  },
  {
   "cell_type": "code",
   "execution_count": 68,
   "id": "qPN08hYHCQW8",
   "metadata": {
    "colab": {
     "base_uri": "https://localhost:8080/"
    },
    "executionInfo": {
     "elapsed": 2,
     "status": "ok",
     "timestamp": 1702082710805,
     "user": {
      "displayName": "Noel D Souza",
      "userId": "08271886554769483306"
     },
     "user_tz": 300
    },
    "id": "qPN08hYHCQW8",
    "outputId": "cb915141-d2c5-408f-e469-719a4e5bd4bd"
   },
   "outputs": [
    {
     "data": {
      "text/plain": [
       "array([5, 1, 3, 4, 3, 5, 4, 4, 5, 2, 5, 2, 4, 4, 5, 4, 4, 4, 3, 4, 4, 5,\n",
       "       1, 4, 4, 1, 2, 1, 1, 5, 4])"
      ]
     },
     "execution_count": 68,
     "metadata": {},
     "output_type": "execute_result"
    }
   ],
   "source": [
    "arr"
   ]
  },
  {
   "cell_type": "code",
   "execution_count": 69,
   "id": "kFlcaCIzCQtx",
   "metadata": {
    "colab": {
     "base_uri": "https://localhost:8080/"
    },
    "executionInfo": {
     "elapsed": 193,
     "status": "ok",
     "timestamp": 1702082716591,
     "user": {
      "displayName": "Noel D Souza",
      "userId": "08271886554769483306"
     },
     "user_tz": 300
    },
    "id": "kFlcaCIzCQtx",
    "outputId": "b70306c7-b5b5-40e3-fb3c-c21da31df611"
   },
   "outputs": [
    {
     "data": {
      "text/plain": [
       "3.4516129032258065"
      ]
     },
     "execution_count": 69,
     "metadata": {},
     "output_type": "execute_result"
    }
   ],
   "source": [
    "np.mean(arr)"
   ]
  },
  {
   "cell_type": "code",
   "execution_count": 70,
   "id": "bijvlx18CSF9",
   "metadata": {
    "colab": {
     "base_uri": "https://localhost:8080/"
    },
    "executionInfo": {
     "elapsed": 194,
     "status": "ok",
     "timestamp": 1702082723883,
     "user": {
      "displayName": "Noel D Souza",
      "userId": "08271886554769483306"
     },
     "user_tz": 300
    },
    "id": "bijvlx18CSF9",
    "outputId": "bd0fea43-ae4e-4037-dfce-7097e2b6781f"
   },
   "outputs": [
    {
     "data": {
      "text/plain": [
       "1.3640241620558695"
      ]
     },
     "execution_count": 70,
     "metadata": {},
     "output_type": "execute_result"
    }
   ],
   "source": [
    "np.std(arr)"
   ]
  },
  {
   "cell_type": "code",
   "execution_count": 71,
   "id": "8i4iSf33CTzm",
   "metadata": {
    "colab": {
     "base_uri": "https://localhost:8080/",
     "height": 35
    },
    "executionInfo": {
     "elapsed": 155,
     "status": "ok",
     "timestamp": 1702083738929,
     "user": {
      "displayName": "Noel D Souza",
      "userId": "08271886554769483306"
     },
     "user_tz": 300
    },
    "id": "8i4iSf33CTzm",
    "outputId": "038dc89c-bb6b-4d22-aec1-205f4edb683c"
   },
   "outputs": [
    {
     "data": {
      "application/vnd.google.colaboratory.intrinsic+json": {
       "type": "string"
      },
      "text/plain": [
       "'chat_1702071956.526527.json'"
      ]
     },
     "execution_count": 71,
     "metadata": {},
     "output_type": "execute_result"
    }
   ],
   "source": [
    "files[0]"
   ]
  },
  {
   "cell_type": "code",
   "execution_count": 76,
   "id": "TFSo6-O5GLqW",
   "metadata": {
    "executionInfo": {
     "elapsed": 156,
     "status": "ok",
     "timestamp": 1702083847766,
     "user": {
      "displayName": "Noel D Souza",
      "userId": "08271886554769483306"
     },
     "user_tz": 300
    },
    "id": "TFSo6-O5GLqW"
   },
   "outputs": [],
   "source": [
    "for file in files[2:]:\n",
    "    with open('/content/chat_log/' + file) as f:\n",
    "        data = json.load(f)\n",
    "        break"
   ]
  },
  {
   "cell_type": "code",
   "execution_count": 77,
   "id": "vfW18pkJGPGZ",
   "metadata": {
    "colab": {
     "base_uri": "https://localhost:8080/"
    },
    "executionInfo": {
     "elapsed": 3,
     "status": "ok",
     "timestamp": 1702083848408,
     "user": {
      "displayName": "Noel D Souza",
      "userId": "08271886554769483306"
     },
     "user_tz": 300
    },
    "id": "vfW18pkJGPGZ",
    "outputId": "52246026-30e4-43f1-e5d0-b62770c49764"
   },
   "outputs": [
    {
     "data": {
      "text/plain": [
       "{'input': 'Suggest me food items for a christmas dinner for 4',\n",
       " 'output': \"I apologize, but I don't have any specific suggestions for a Christmas dinner for 4 based on the available inventory. However, I can provide some general ideas for a festive meal:\\n\\n1. Roast Turkey: A classic centerpiece for Christmas dinner, a roast turkey is a delicious and traditional choice. You can find a whole turkey in the meat section of the grocery store.\\n\\n2. Mashed Potatoes: Creamy and comforting, mashed potatoes are a perfect side dish for Christmas dinner. Look for potatoes in the produce section.\\n\\n3. Green Beans: Fresh or frozen green beans can be steamed or sautéed as a nutritious and colorful addition to your meal. Check the vegetable section for green beans.\\n\\n4. Cranberry Sauce: Tangy and sweet cranberry sauce pairs well with turkey. You can find canned cranberry sauce in the condiments aisle.\\n\\n5. Dinner Rolls: Soft and fluffy dinner rolls are a must-have for any holiday meal. Look for pre-packaged rolls in the bakery section.\\n\\nRemember to check the inventory at your local grocery store for availability and specific brands. Enjoy your Christmas dinner!\"}"
      ]
     },
     "execution_count": 77,
     "metadata": {},
     "output_type": "execute_result"
    }
   ],
   "source": [
    "data"
   ]
  },
  {
   "cell_type": "code",
   "execution_count": null,
   "id": "2woRSZvAGPbr",
   "metadata": {
    "id": "2woRSZvAGPbr"
   },
   "outputs": [],
   "source": []
  }
 ],
 "metadata": {
  "accelerator": "GPU",
  "colab": {
   "provenance": []
  },
  "kernelspec": {
   "display_name": "Python 3",
   "name": "python3"
  },
  "language_info": {
   "codemirror_mode": {
    "name": "ipython",
    "version": 3
   },
   "file_extension": ".py",
   "mimetype": "text/x-python",
   "name": "python",
   "nbconvert_exporter": "python",
   "pygments_lexer": "ipython3",
   "version": "3.11.5"
  }
 },
 "nbformat": 4,
 "nbformat_minor": 5
}

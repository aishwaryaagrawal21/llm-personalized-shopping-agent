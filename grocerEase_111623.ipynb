{
 "cells": [
  {
   "cell_type": "code",
   "execution_count": 1,
   "id": "16b06d41",
   "metadata": {},
   "outputs": [
    {
     "name": "stdout",
     "output_type": "stream",
     "text": [
      "default__vector_store.json graph_store.json\r\n",
      "docstore.json              index_store.json\r\n"
     ]
    }
   ],
   "source": [
    "!ls storage/"
   ]
  },
  {
   "cell_type": "code",
   "execution_count": 2,
   "id": "1651d243",
   "metadata": {},
   "outputs": [],
   "source": [
    "from pathlib import Path\n",
    "from llama_index import download_loader\n",
    "from llama_index.agent import OpenAIAssistantAgent\n",
    "from llama_index import (\n",
    "    SimpleDirectoryReader,\n",
    "    VectorStoreIndex,\n",
    "    StorageContext,\n",
    "    ServiceContext,\n",
    "    load_index_from_storage,\n",
    ")\n",
    "from llama_index.llms import OpenAI\n",
    "\n",
    "from llama_index.tools import QueryEngineTool, ToolMetadata\n",
    "\n",
    "PagedCSVReader = download_loader(\"PagedCSVReader\")\n",
    "\n",
    "loader = PagedCSVReader(encoding=\"utf-8\")\n",
    "documents = loader.load_data(file=Path('/Users/danielhoskins/src/llms/llms_project_GrocerEase/grocery.csv'))"
   ]
  },
  {
   "cell_type": "code",
   "execution_count": 3,
   "id": "6e8d7701",
   "metadata": {},
   "outputs": [],
   "source": [
    "openai_api_key=\"\"\n",
    "import os\n",
    "os.environ['OPENAI_API_KEY'] = openai_api_key"
   ]
  },
  {
   "cell_type": "code",
   "execution_count": 4,
   "id": "3522d60c",
   "metadata": {},
   "outputs": [],
   "source": [
    "from llama_index import VectorStoreIndex\n",
    "service_context = ServiceContext.from_defaults(\n",
    "    llm=OpenAI(model=\"gpt-3.5-turbo-1106\")\n",
    ")\n",
    "storage_context = StorageContext\n",
    "index = VectorStoreIndex.from_documents(documents)"
   ]
  },
  {
   "cell_type": "code",
   "execution_count": 5,
   "id": "394f4e4f",
   "metadata": {},
   "outputs": [],
   "source": [
    "index.storage_context.persist(persist_dir=\"./storage/\")"
   ]
  },
  {
   "cell_type": "code",
   "execution_count": 6,
   "id": "f326f517",
   "metadata": {},
   "outputs": [],
   "source": [
    "# from llama_index.prompts import Prompt\n",
    "# TEXT_QA_TEMPLATE = \"\"\"\n",
    "# 'Context information is below.\\n---------------------\\n{context_str}\\n---------------------\\n\n",
    "# Given the context information and not prior knowledge, answer the query.\n",
    "# \\nQuery: {query_str}\\nAnswer: '\n",
    "# \"\"\""
   ]
  },
  {
   "cell_type": "code",
   "execution_count": 8,
   "id": "d7df886e",
   "metadata": {},
   "outputs": [],
   "source": [
    "chat_engine = index.as_chat_engine(chat_mode=\"condense_question\", verbose=True)\n",
    "# Keys for template\n",
    "# ['context_str', 'query_str']"
   ]
  },
  {
   "cell_type": "code",
   "execution_count": 9,
   "id": "dd3021f6",
   "metadata": {},
   "outputs": [],
   "source": [
    "chat_engine.reset()\n",
    "# chat_engine.stream_chat(\"I'm going on a 3 day hiking trip. What food should I pack?\")"
   ]
  },
  {
   "cell_type": "code",
   "execution_count": null,
   "id": "a828b667",
   "metadata": {
    "scrolled": true
   },
   "outputs": [
    {
     "name": "stdout",
     "output_type": "stream",
     "text": [
      "===== Entering Chat REPL =====\n",
      "Type \"exit\" to exit.\n",
      "\n",
      "Human: I'm going on a 3 day hiking trip. What food should I pack?\n",
      "Querying with: What food should I pack for a 3 day hiking trip?\n",
      "Assistant: You should pack Triscuits and Tostitos tortilla chips for your 3 day hiking trip.\n",
      "\n",
      "Human: How many calories in the triscuits?\n",
      "Querying with: How many calories are in Triscuits?\n",
      "Assistant: I'm sorry, but I don't have access to the specific nutritional information for Triscuits based on the given context.\n",
      "\n"
     ]
    }
   ],
   "source": [
    "chat_engine.chat_repl()"
   ]
  },
  {
   "cell_type": "code",
   "execution_count": null,
   "id": "f7bad296",
   "metadata": {},
   "outputs": [],
   "source": [
    "# response = grocery_engine.query(\"I'm having a halloween party. Recommend some items for me\")\n",
    "response = grocery_engine.query(\"I'm going on a 3 day hiking trip. What food should I pack?\")\n",
    "response.print_response_stream()"
   ]
  },
  {
   "cell_type": "code",
   "execution_count": null,
   "id": "39e1ab81",
   "metadata": {},
   "outputs": [],
   "source": [
    "response = grocery_engine.query(\"I'm looking for something more savory\")\n",
    "response.print_response_stream()"
   ]
  },
  {
   "cell_type": "code",
   "execution_count": null,
   "id": "2ac11720",
   "metadata": {},
   "outputs": [],
   "source": [
    "response = grocery_engine.query(\"I'm having a halloween party. What food should I put out?\")\n",
    "response.print_response_stream()"
   ]
  },
  {
   "cell_type": "code",
   "execution_count": null,
   "id": "dbbba428",
   "metadata": {},
   "outputs": [],
   "source": [
    "response = grocery_engine.query(\"Compare them\")\n",
    "response.print_response_stream()"
   ]
  },
  {
   "cell_type": "code",
   "execution_count": null,
   "id": "1b0610d3",
   "metadata": {},
   "outputs": [],
   "source": []
  }
 ],
 "metadata": {
  "kernelspec": {
   "display_name": "Python 3 (ipykernel)",
   "language": "python",
   "name": "python3"
  },
  "language_info": {
   "codemirror_mode": {
    "name": "ipython",
    "version": 3
   },
   "file_extension": ".py",
   "mimetype": "text/x-python",
   "name": "python",
   "nbconvert_exporter": "python",
   "pygments_lexer": "ipython3",
   "version": "3.11.5"
  }
 },
 "nbformat": 4,
 "nbformat_minor": 5
}
